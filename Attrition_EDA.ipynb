{
 "cells": [
  {
   "cell_type": "code",
   "execution_count": 10,
   "id": "03a47e7f",
   "metadata": {
    "colab": {
     "base_uri": "https://localhost:8080/"
    },
    "id": "03a47e7f",
    "outputId": "165e6b5c-2323-4c82-fd46-380aba1125d6"
   },
   "outputs": [],
   "source": [
    "# import os\n",
    "\n",
    "import matplotlib.pyplot as plt\n",
    "import seaborn as sns\n",
    "import pandas as pd\n",
    "\n",
    "att = pd.read_csv(\"C:\\\\Users\\\\Gopal Kumar\\\\Downloads\\\\attrition.csv\")"
   ]
  },
  {
   "cell_type": "code",
   "execution_count": 11,
   "id": "41bbb16b",
   "metadata": {
    "colab": {
     "base_uri": "https://localhost:8080/",
     "height": 626
    },
    "id": "41bbb16b",
    "outputId": "375e52cd-31ad-49c0-b38c-45c33aab3dec"
   },
   "outputs": [
    {
     "data": {
      "text/html": [
       "<div>\n",
       "<style scoped>\n",
       "    .dataframe tbody tr th:only-of-type {\n",
       "        vertical-align: middle;\n",
       "    }\n",
       "\n",
       "    .dataframe tbody tr th {\n",
       "        vertical-align: top;\n",
       "    }\n",
       "\n",
       "    .dataframe thead th {\n",
       "        text-align: right;\n",
       "    }\n",
       "</style>\n",
       "<table border=\"1\" class=\"dataframe\">\n",
       "  <thead>\n",
       "    <tr style=\"text-align: right;\">\n",
       "      <th></th>\n",
       "      <th>Age</th>\n",
       "      <th>Attrition</th>\n",
       "      <th>BusinessTravel</th>\n",
       "      <th>Department</th>\n",
       "      <th>EducationField</th>\n",
       "      <th>EnvironmentSatisfaction</th>\n",
       "      <th>Gender</th>\n",
       "      <th>JobInvolvement</th>\n",
       "      <th>JobLevel</th>\n",
       "      <th>JobSatisfaction</th>\n",
       "      <th>MaritalStatus</th>\n",
       "      <th>MonthlyIncome</th>\n",
       "      <th>OverTime</th>\n",
       "      <th>TotalWorkingYears</th>\n",
       "      <th>WorkLifeBalance</th>\n",
       "      <th>YearsAtCompany</th>\n",
       "      <th>YearsInCurrentRole</th>\n",
       "      <th>YearsSinceLastPromotion</th>\n",
       "      <th>YearsWithCurrManager</th>\n",
       "      <th>DistanceFromHome</th>\n",
       "    </tr>\n",
       "  </thead>\n",
       "  <tbody>\n",
       "    <tr>\n",
       "      <th>0</th>\n",
       "      <td>41</td>\n",
       "      <td>1</td>\n",
       "      <td>Travel_Rarely</td>\n",
       "      <td>Sales</td>\n",
       "      <td>Life Sciences</td>\n",
       "      <td>2</td>\n",
       "      <td>Female</td>\n",
       "      <td>3</td>\n",
       "      <td>2</td>\n",
       "      <td>4</td>\n",
       "      <td>Single</td>\n",
       "      <td>5993</td>\n",
       "      <td>Yes</td>\n",
       "      <td>8</td>\n",
       "      <td>1</td>\n",
       "      <td>6</td>\n",
       "      <td>4</td>\n",
       "      <td>0</td>\n",
       "      <td>5</td>\n",
       "      <td>1</td>\n",
       "    </tr>\n",
       "    <tr>\n",
       "      <th>1</th>\n",
       "      <td>49</td>\n",
       "      <td>0</td>\n",
       "      <td>Travel_Frequently</td>\n",
       "      <td>Research &amp; Development</td>\n",
       "      <td>Life Sciences</td>\n",
       "      <td>3</td>\n",
       "      <td>Male</td>\n",
       "      <td>2</td>\n",
       "      <td>2</td>\n",
       "      <td>2</td>\n",
       "      <td>Married</td>\n",
       "      <td>5130</td>\n",
       "      <td>No</td>\n",
       "      <td>10</td>\n",
       "      <td>3</td>\n",
       "      <td>10</td>\n",
       "      <td>7</td>\n",
       "      <td>1</td>\n",
       "      <td>7</td>\n",
       "      <td>8</td>\n",
       "    </tr>\n",
       "    <tr>\n",
       "      <th>2</th>\n",
       "      <td>37</td>\n",
       "      <td>1</td>\n",
       "      <td>Travel_Rarely</td>\n",
       "      <td>Research &amp; Development</td>\n",
       "      <td>Other</td>\n",
       "      <td>4</td>\n",
       "      <td>Male</td>\n",
       "      <td>2</td>\n",
       "      <td>1</td>\n",
       "      <td>3</td>\n",
       "      <td>Single</td>\n",
       "      <td>2090</td>\n",
       "      <td>Yes</td>\n",
       "      <td>7</td>\n",
       "      <td>3</td>\n",
       "      <td>0</td>\n",
       "      <td>0</td>\n",
       "      <td>0</td>\n",
       "      <td>0</td>\n",
       "      <td>2</td>\n",
       "    </tr>\n",
       "    <tr>\n",
       "      <th>3</th>\n",
       "      <td>33</td>\n",
       "      <td>0</td>\n",
       "      <td>Travel_Frequently</td>\n",
       "      <td>Research &amp; Development</td>\n",
       "      <td>Life Sciences</td>\n",
       "      <td>4</td>\n",
       "      <td>Female</td>\n",
       "      <td>3</td>\n",
       "      <td>1</td>\n",
       "      <td>3</td>\n",
       "      <td>Married</td>\n",
       "      <td>2909</td>\n",
       "      <td>Yes</td>\n",
       "      <td>8</td>\n",
       "      <td>3</td>\n",
       "      <td>8</td>\n",
       "      <td>7</td>\n",
       "      <td>3</td>\n",
       "      <td>0</td>\n",
       "      <td>3</td>\n",
       "    </tr>\n",
       "    <tr>\n",
       "      <th>4</th>\n",
       "      <td>27</td>\n",
       "      <td>0</td>\n",
       "      <td>Travel_Rarely</td>\n",
       "      <td>Research &amp; Development</td>\n",
       "      <td>Medical</td>\n",
       "      <td>1</td>\n",
       "      <td>Male</td>\n",
       "      <td>3</td>\n",
       "      <td>1</td>\n",
       "      <td>2</td>\n",
       "      <td>Married</td>\n",
       "      <td>3468</td>\n",
       "      <td>No</td>\n",
       "      <td>6</td>\n",
       "      <td>3</td>\n",
       "      <td>2</td>\n",
       "      <td>2</td>\n",
       "      <td>2</td>\n",
       "      <td>2</td>\n",
       "      <td>2</td>\n",
       "    </tr>\n",
       "    <tr>\n",
       "      <th>...</th>\n",
       "      <td>...</td>\n",
       "      <td>...</td>\n",
       "      <td>...</td>\n",
       "      <td>...</td>\n",
       "      <td>...</td>\n",
       "      <td>...</td>\n",
       "      <td>...</td>\n",
       "      <td>...</td>\n",
       "      <td>...</td>\n",
       "      <td>...</td>\n",
       "      <td>...</td>\n",
       "      <td>...</td>\n",
       "      <td>...</td>\n",
       "      <td>...</td>\n",
       "      <td>...</td>\n",
       "      <td>...</td>\n",
       "      <td>...</td>\n",
       "      <td>...</td>\n",
       "      <td>...</td>\n",
       "      <td>...</td>\n",
       "    </tr>\n",
       "    <tr>\n",
       "      <th>1465</th>\n",
       "      <td>36</td>\n",
       "      <td>0</td>\n",
       "      <td>Travel_Frequently</td>\n",
       "      <td>Research &amp; Development</td>\n",
       "      <td>Medical</td>\n",
       "      <td>3</td>\n",
       "      <td>Male</td>\n",
       "      <td>4</td>\n",
       "      <td>2</td>\n",
       "      <td>4</td>\n",
       "      <td>Married</td>\n",
       "      <td>2571</td>\n",
       "      <td>No</td>\n",
       "      <td>17</td>\n",
       "      <td>3</td>\n",
       "      <td>5</td>\n",
       "      <td>2</td>\n",
       "      <td>0</td>\n",
       "      <td>3</td>\n",
       "      <td>23</td>\n",
       "    </tr>\n",
       "    <tr>\n",
       "      <th>1466</th>\n",
       "      <td>39</td>\n",
       "      <td>0</td>\n",
       "      <td>Travel_Rarely</td>\n",
       "      <td>Research &amp; Development</td>\n",
       "      <td>Medical</td>\n",
       "      <td>4</td>\n",
       "      <td>Male</td>\n",
       "      <td>2</td>\n",
       "      <td>3</td>\n",
       "      <td>1</td>\n",
       "      <td>Married</td>\n",
       "      <td>9991</td>\n",
       "      <td>No</td>\n",
       "      <td>9</td>\n",
       "      <td>3</td>\n",
       "      <td>7</td>\n",
       "      <td>7</td>\n",
       "      <td>1</td>\n",
       "      <td>7</td>\n",
       "      <td>6</td>\n",
       "    </tr>\n",
       "    <tr>\n",
       "      <th>1467</th>\n",
       "      <td>27</td>\n",
       "      <td>0</td>\n",
       "      <td>Travel_Rarely</td>\n",
       "      <td>Research &amp; Development</td>\n",
       "      <td>Life Sciences</td>\n",
       "      <td>2</td>\n",
       "      <td>Male</td>\n",
       "      <td>4</td>\n",
       "      <td>2</td>\n",
       "      <td>2</td>\n",
       "      <td>Married</td>\n",
       "      <td>6142</td>\n",
       "      <td>Yes</td>\n",
       "      <td>6</td>\n",
       "      <td>3</td>\n",
       "      <td>6</td>\n",
       "      <td>2</td>\n",
       "      <td>0</td>\n",
       "      <td>3</td>\n",
       "      <td>4</td>\n",
       "    </tr>\n",
       "    <tr>\n",
       "      <th>1468</th>\n",
       "      <td>49</td>\n",
       "      <td>0</td>\n",
       "      <td>Travel_Frequently</td>\n",
       "      <td>Sales</td>\n",
       "      <td>Medical</td>\n",
       "      <td>4</td>\n",
       "      <td>Male</td>\n",
       "      <td>2</td>\n",
       "      <td>2</td>\n",
       "      <td>2</td>\n",
       "      <td>Married</td>\n",
       "      <td>5390</td>\n",
       "      <td>No</td>\n",
       "      <td>17</td>\n",
       "      <td>2</td>\n",
       "      <td>9</td>\n",
       "      <td>6</td>\n",
       "      <td>0</td>\n",
       "      <td>8</td>\n",
       "      <td>2</td>\n",
       "    </tr>\n",
       "    <tr>\n",
       "      <th>1469</th>\n",
       "      <td>34</td>\n",
       "      <td>0</td>\n",
       "      <td>Travel_Rarely</td>\n",
       "      <td>Research &amp; Development</td>\n",
       "      <td>Medical</td>\n",
       "      <td>2</td>\n",
       "      <td>Male</td>\n",
       "      <td>4</td>\n",
       "      <td>2</td>\n",
       "      <td>3</td>\n",
       "      <td>Married</td>\n",
       "      <td>4404</td>\n",
       "      <td>No</td>\n",
       "      <td>6</td>\n",
       "      <td>4</td>\n",
       "      <td>4</td>\n",
       "      <td>3</td>\n",
       "      <td>1</td>\n",
       "      <td>2</td>\n",
       "      <td>8</td>\n",
       "    </tr>\n",
       "  </tbody>\n",
       "</table>\n",
       "<p>1470 rows × 20 columns</p>\n",
       "</div>"
      ],
      "text/plain": [
       "      Age  Attrition     BusinessTravel              Department  \\\n",
       "0      41          1      Travel_Rarely                   Sales   \n",
       "1      49          0  Travel_Frequently  Research & Development   \n",
       "2      37          1      Travel_Rarely  Research & Development   \n",
       "3      33          0  Travel_Frequently  Research & Development   \n",
       "4      27          0      Travel_Rarely  Research & Development   \n",
       "...   ...        ...                ...                     ...   \n",
       "1465   36          0  Travel_Frequently  Research & Development   \n",
       "1466   39          0      Travel_Rarely  Research & Development   \n",
       "1467   27          0      Travel_Rarely  Research & Development   \n",
       "1468   49          0  Travel_Frequently                   Sales   \n",
       "1469   34          0      Travel_Rarely  Research & Development   \n",
       "\n",
       "     EducationField  EnvironmentSatisfaction  Gender  JobInvolvement  \\\n",
       "0     Life Sciences                        2  Female               3   \n",
       "1     Life Sciences                        3    Male               2   \n",
       "2             Other                        4    Male               2   \n",
       "3     Life Sciences                        4  Female               3   \n",
       "4           Medical                        1    Male               3   \n",
       "...             ...                      ...     ...             ...   \n",
       "1465        Medical                        3    Male               4   \n",
       "1466        Medical                        4    Male               2   \n",
       "1467  Life Sciences                        2    Male               4   \n",
       "1468        Medical                        4    Male               2   \n",
       "1469        Medical                        2    Male               4   \n",
       "\n",
       "      JobLevel  JobSatisfaction MaritalStatus  MonthlyIncome OverTime  \\\n",
       "0            2                4        Single           5993      Yes   \n",
       "1            2                2       Married           5130       No   \n",
       "2            1                3        Single           2090      Yes   \n",
       "3            1                3       Married           2909      Yes   \n",
       "4            1                2       Married           3468       No   \n",
       "...        ...              ...           ...            ...      ...   \n",
       "1465         2                4       Married           2571       No   \n",
       "1466         3                1       Married           9991       No   \n",
       "1467         2                2       Married           6142      Yes   \n",
       "1468         2                2       Married           5390       No   \n",
       "1469         2                3       Married           4404       No   \n",
       "\n",
       "      TotalWorkingYears  WorkLifeBalance  YearsAtCompany  YearsInCurrentRole  \\\n",
       "0                     8                1               6                   4   \n",
       "1                    10                3              10                   7   \n",
       "2                     7                3               0                   0   \n",
       "3                     8                3               8                   7   \n",
       "4                     6                3               2                   2   \n",
       "...                 ...              ...             ...                 ...   \n",
       "1465                 17                3               5                   2   \n",
       "1466                  9                3               7                   7   \n",
       "1467                  6                3               6                   2   \n",
       "1468                 17                2               9                   6   \n",
       "1469                  6                4               4                   3   \n",
       "\n",
       "      YearsSinceLastPromotion  YearsWithCurrManager  DistanceFromHome  \n",
       "0                           0                     5                 1  \n",
       "1                           1                     7                 8  \n",
       "2                           0                     0                 2  \n",
       "3                           3                     0                 3  \n",
       "4                           2                     2                 2  \n",
       "...                       ...                   ...               ...  \n",
       "1465                        0                     3                23  \n",
       "1466                        1                     7                 6  \n",
       "1467                        0                     3                 4  \n",
       "1468                        0                     8                 2  \n",
       "1469                        1                     2                 8  \n",
       "\n",
       "[1470 rows x 20 columns]"
      ]
     },
     "execution_count": 11,
     "metadata": {},
     "output_type": "execute_result"
    }
   ],
   "source": [
    "att"
   ]
  },
  {
   "cell_type": "code",
   "execution_count": 12,
   "id": "c13ad457",
   "metadata": {
    "colab": {
     "base_uri": "https://localhost:8080/",
     "height": 364
    },
    "id": "c13ad457",
    "outputId": "f24c19c6-59ad-41d6-b988-72cdc1612fe0"
   },
   "outputs": [
    {
     "data": {
      "text/html": [
       "<div>\n",
       "<style scoped>\n",
       "    .dataframe tbody tr th:only-of-type {\n",
       "        vertical-align: middle;\n",
       "    }\n",
       "\n",
       "    .dataframe tbody tr th {\n",
       "        vertical-align: top;\n",
       "    }\n",
       "\n",
       "    .dataframe thead th {\n",
       "        text-align: right;\n",
       "    }\n",
       "</style>\n",
       "<table border=\"1\" class=\"dataframe\">\n",
       "  <thead>\n",
       "    <tr style=\"text-align: right;\">\n",
       "      <th></th>\n",
       "      <th>Age</th>\n",
       "      <th>Attrition</th>\n",
       "      <th>EnvironmentSatisfaction</th>\n",
       "      <th>JobInvolvement</th>\n",
       "      <th>JobLevel</th>\n",
       "      <th>JobSatisfaction</th>\n",
       "      <th>MonthlyIncome</th>\n",
       "      <th>TotalWorkingYears</th>\n",
       "      <th>WorkLifeBalance</th>\n",
       "      <th>YearsAtCompany</th>\n",
       "      <th>YearsInCurrentRole</th>\n",
       "      <th>YearsSinceLastPromotion</th>\n",
       "      <th>YearsWithCurrManager</th>\n",
       "      <th>DistanceFromHome</th>\n",
       "    </tr>\n",
       "  </thead>\n",
       "  <tbody>\n",
       "    <tr>\n",
       "      <th>count</th>\n",
       "      <td>1470.000000</td>\n",
       "      <td>1470.000000</td>\n",
       "      <td>1470.000000</td>\n",
       "      <td>1470.000000</td>\n",
       "      <td>1470.000000</td>\n",
       "      <td>1470.000000</td>\n",
       "      <td>1470.000000</td>\n",
       "      <td>1470.000000</td>\n",
       "      <td>1470.000000</td>\n",
       "      <td>1470.000000</td>\n",
       "      <td>1470.000000</td>\n",
       "      <td>1470.000000</td>\n",
       "      <td>1470.000000</td>\n",
       "      <td>1470.000000</td>\n",
       "    </tr>\n",
       "    <tr>\n",
       "      <th>mean</th>\n",
       "      <td>36.923810</td>\n",
       "      <td>0.161224</td>\n",
       "      <td>2.721769</td>\n",
       "      <td>2.729932</td>\n",
       "      <td>2.063946</td>\n",
       "      <td>2.728571</td>\n",
       "      <td>6502.931293</td>\n",
       "      <td>11.279592</td>\n",
       "      <td>2.761224</td>\n",
       "      <td>7.008163</td>\n",
       "      <td>4.229252</td>\n",
       "      <td>2.187755</td>\n",
       "      <td>4.123129</td>\n",
       "      <td>9.192517</td>\n",
       "    </tr>\n",
       "    <tr>\n",
       "      <th>std</th>\n",
       "      <td>9.135373</td>\n",
       "      <td>0.367863</td>\n",
       "      <td>1.093082</td>\n",
       "      <td>0.711561</td>\n",
       "      <td>1.106940</td>\n",
       "      <td>1.102846</td>\n",
       "      <td>4707.956783</td>\n",
       "      <td>7.780782</td>\n",
       "      <td>0.706476</td>\n",
       "      <td>6.126525</td>\n",
       "      <td>3.623137</td>\n",
       "      <td>3.222430</td>\n",
       "      <td>3.568136</td>\n",
       "      <td>8.106864</td>\n",
       "    </tr>\n",
       "    <tr>\n",
       "      <th>min</th>\n",
       "      <td>18.000000</td>\n",
       "      <td>0.000000</td>\n",
       "      <td>1.000000</td>\n",
       "      <td>1.000000</td>\n",
       "      <td>1.000000</td>\n",
       "      <td>1.000000</td>\n",
       "      <td>1009.000000</td>\n",
       "      <td>0.000000</td>\n",
       "      <td>1.000000</td>\n",
       "      <td>0.000000</td>\n",
       "      <td>0.000000</td>\n",
       "      <td>0.000000</td>\n",
       "      <td>0.000000</td>\n",
       "      <td>1.000000</td>\n",
       "    </tr>\n",
       "    <tr>\n",
       "      <th>25%</th>\n",
       "      <td>30.000000</td>\n",
       "      <td>0.000000</td>\n",
       "      <td>2.000000</td>\n",
       "      <td>2.000000</td>\n",
       "      <td>1.000000</td>\n",
       "      <td>2.000000</td>\n",
       "      <td>2911.000000</td>\n",
       "      <td>6.000000</td>\n",
       "      <td>2.000000</td>\n",
       "      <td>3.000000</td>\n",
       "      <td>2.000000</td>\n",
       "      <td>0.000000</td>\n",
       "      <td>2.000000</td>\n",
       "      <td>2.000000</td>\n",
       "    </tr>\n",
       "    <tr>\n",
       "      <th>50%</th>\n",
       "      <td>36.000000</td>\n",
       "      <td>0.000000</td>\n",
       "      <td>3.000000</td>\n",
       "      <td>3.000000</td>\n",
       "      <td>2.000000</td>\n",
       "      <td>3.000000</td>\n",
       "      <td>4919.000000</td>\n",
       "      <td>10.000000</td>\n",
       "      <td>3.000000</td>\n",
       "      <td>5.000000</td>\n",
       "      <td>3.000000</td>\n",
       "      <td>1.000000</td>\n",
       "      <td>3.000000</td>\n",
       "      <td>7.000000</td>\n",
       "    </tr>\n",
       "    <tr>\n",
       "      <th>75%</th>\n",
       "      <td>43.000000</td>\n",
       "      <td>0.000000</td>\n",
       "      <td>4.000000</td>\n",
       "      <td>3.000000</td>\n",
       "      <td>3.000000</td>\n",
       "      <td>4.000000</td>\n",
       "      <td>8379.000000</td>\n",
       "      <td>15.000000</td>\n",
       "      <td>3.000000</td>\n",
       "      <td>9.000000</td>\n",
       "      <td>7.000000</td>\n",
       "      <td>3.000000</td>\n",
       "      <td>7.000000</td>\n",
       "      <td>14.000000</td>\n",
       "    </tr>\n",
       "    <tr>\n",
       "      <th>max</th>\n",
       "      <td>60.000000</td>\n",
       "      <td>1.000000</td>\n",
       "      <td>4.000000</td>\n",
       "      <td>4.000000</td>\n",
       "      <td>5.000000</td>\n",
       "      <td>4.000000</td>\n",
       "      <td>19999.000000</td>\n",
       "      <td>40.000000</td>\n",
       "      <td>4.000000</td>\n",
       "      <td>40.000000</td>\n",
       "      <td>18.000000</td>\n",
       "      <td>15.000000</td>\n",
       "      <td>17.000000</td>\n",
       "      <td>29.000000</td>\n",
       "    </tr>\n",
       "  </tbody>\n",
       "</table>\n",
       "</div>"
      ],
      "text/plain": [
       "               Age    Attrition  EnvironmentSatisfaction  JobInvolvement  \\\n",
       "count  1470.000000  1470.000000              1470.000000     1470.000000   \n",
       "mean     36.923810     0.161224                 2.721769        2.729932   \n",
       "std       9.135373     0.367863                 1.093082        0.711561   \n",
       "min      18.000000     0.000000                 1.000000        1.000000   \n",
       "25%      30.000000     0.000000                 2.000000        2.000000   \n",
       "50%      36.000000     0.000000                 3.000000        3.000000   \n",
       "75%      43.000000     0.000000                 4.000000        3.000000   \n",
       "max      60.000000     1.000000                 4.000000        4.000000   \n",
       "\n",
       "          JobLevel  JobSatisfaction  MonthlyIncome  TotalWorkingYears  \\\n",
       "count  1470.000000      1470.000000    1470.000000        1470.000000   \n",
       "mean      2.063946         2.728571    6502.931293          11.279592   \n",
       "std       1.106940         1.102846    4707.956783           7.780782   \n",
       "min       1.000000         1.000000    1009.000000           0.000000   \n",
       "25%       1.000000         2.000000    2911.000000           6.000000   \n",
       "50%       2.000000         3.000000    4919.000000          10.000000   \n",
       "75%       3.000000         4.000000    8379.000000          15.000000   \n",
       "max       5.000000         4.000000   19999.000000          40.000000   \n",
       "\n",
       "       WorkLifeBalance  YearsAtCompany  YearsInCurrentRole  \\\n",
       "count      1470.000000     1470.000000         1470.000000   \n",
       "mean          2.761224        7.008163            4.229252   \n",
       "std           0.706476        6.126525            3.623137   \n",
       "min           1.000000        0.000000            0.000000   \n",
       "25%           2.000000        3.000000            2.000000   \n",
       "50%           3.000000        5.000000            3.000000   \n",
       "75%           3.000000        9.000000            7.000000   \n",
       "max           4.000000       40.000000           18.000000   \n",
       "\n",
       "       YearsSinceLastPromotion  YearsWithCurrManager  DistanceFromHome  \n",
       "count              1470.000000           1470.000000       1470.000000  \n",
       "mean                  2.187755              4.123129          9.192517  \n",
       "std                   3.222430              3.568136          8.106864  \n",
       "min                   0.000000              0.000000          1.000000  \n",
       "25%                   0.000000              2.000000          2.000000  \n",
       "50%                   1.000000              3.000000          7.000000  \n",
       "75%                   3.000000              7.000000         14.000000  \n",
       "max                  15.000000             17.000000         29.000000  "
      ]
     },
     "execution_count": 12,
     "metadata": {},
     "output_type": "execute_result"
    }
   ],
   "source": [
    "att.describe()\n"
   ]
  },
  {
   "cell_type": "code",
   "execution_count": 13,
   "id": "30a030ff",
   "metadata": {
    "colab": {
     "base_uri": "https://localhost:8080/",
     "height": 364
    },
    "id": "30a030ff",
    "outputId": "79f3a471-36e5-47ea-b5cb-87213c539cce"
   },
   "outputs": [
    {
     "data": {
      "text/html": [
       "<div>\n",
       "<style scoped>\n",
       "    .dataframe tbody tr th:only-of-type {\n",
       "        vertical-align: middle;\n",
       "    }\n",
       "\n",
       "    .dataframe tbody tr th {\n",
       "        vertical-align: top;\n",
       "    }\n",
       "\n",
       "    .dataframe thead th {\n",
       "        text-align: right;\n",
       "    }\n",
       "</style>\n",
       "<table border=\"1\" class=\"dataframe\">\n",
       "  <thead>\n",
       "    <tr style=\"text-align: right;\">\n",
       "      <th></th>\n",
       "      <th>Age</th>\n",
       "      <th>Attrition</th>\n",
       "      <th>EnvironmentSatisfaction</th>\n",
       "      <th>JobInvolvement</th>\n",
       "      <th>JobLevel</th>\n",
       "      <th>JobSatisfaction</th>\n",
       "      <th>MonthlyIncome</th>\n",
       "      <th>TotalWorkingYears</th>\n",
       "      <th>WorkLifeBalance</th>\n",
       "      <th>YearsAtCompany</th>\n",
       "      <th>YearsInCurrentRole</th>\n",
       "      <th>YearsSinceLastPromotion</th>\n",
       "      <th>YearsWithCurrManager</th>\n",
       "      <th>DistanceFromHome</th>\n",
       "    </tr>\n",
       "  </thead>\n",
       "  <tbody>\n",
       "    <tr>\n",
       "      <th>count</th>\n",
       "      <td>1233.000000</td>\n",
       "      <td>1233.0</td>\n",
       "      <td>1233.000000</td>\n",
       "      <td>1233.000000</td>\n",
       "      <td>1233.000000</td>\n",
       "      <td>1233.000000</td>\n",
       "      <td>1233.000000</td>\n",
       "      <td>1233.000000</td>\n",
       "      <td>1233.000000</td>\n",
       "      <td>1233.000000</td>\n",
       "      <td>1233.000000</td>\n",
       "      <td>1233.000000</td>\n",
       "      <td>1233.000000</td>\n",
       "      <td>1233.000000</td>\n",
       "    </tr>\n",
       "    <tr>\n",
       "      <th>mean</th>\n",
       "      <td>37.561233</td>\n",
       "      <td>0.0</td>\n",
       "      <td>2.771290</td>\n",
       "      <td>2.770479</td>\n",
       "      <td>2.145985</td>\n",
       "      <td>2.778589</td>\n",
       "      <td>6832.739659</td>\n",
       "      <td>11.862936</td>\n",
       "      <td>2.781022</td>\n",
       "      <td>7.369019</td>\n",
       "      <td>4.484185</td>\n",
       "      <td>2.234388</td>\n",
       "      <td>4.367397</td>\n",
       "      <td>8.915653</td>\n",
       "    </tr>\n",
       "    <tr>\n",
       "      <th>std</th>\n",
       "      <td>8.888360</td>\n",
       "      <td>0.0</td>\n",
       "      <td>1.071132</td>\n",
       "      <td>0.692050</td>\n",
       "      <td>1.117933</td>\n",
       "      <td>1.093277</td>\n",
       "      <td>4818.208001</td>\n",
       "      <td>7.760719</td>\n",
       "      <td>0.681907</td>\n",
       "      <td>6.096298</td>\n",
       "      <td>3.649402</td>\n",
       "      <td>3.234762</td>\n",
       "      <td>3.594116</td>\n",
       "      <td>8.012633</td>\n",
       "    </tr>\n",
       "    <tr>\n",
       "      <th>min</th>\n",
       "      <td>18.000000</td>\n",
       "      <td>0.0</td>\n",
       "      <td>1.000000</td>\n",
       "      <td>1.000000</td>\n",
       "      <td>1.000000</td>\n",
       "      <td>1.000000</td>\n",
       "      <td>1051.000000</td>\n",
       "      <td>0.000000</td>\n",
       "      <td>1.000000</td>\n",
       "      <td>0.000000</td>\n",
       "      <td>0.000000</td>\n",
       "      <td>0.000000</td>\n",
       "      <td>0.000000</td>\n",
       "      <td>1.000000</td>\n",
       "    </tr>\n",
       "    <tr>\n",
       "      <th>25%</th>\n",
       "      <td>31.000000</td>\n",
       "      <td>0.0</td>\n",
       "      <td>2.000000</td>\n",
       "      <td>2.000000</td>\n",
       "      <td>1.000000</td>\n",
       "      <td>2.000000</td>\n",
       "      <td>3211.000000</td>\n",
       "      <td>6.000000</td>\n",
       "      <td>2.000000</td>\n",
       "      <td>3.000000</td>\n",
       "      <td>2.000000</td>\n",
       "      <td>0.000000</td>\n",
       "      <td>2.000000</td>\n",
       "      <td>2.000000</td>\n",
       "    </tr>\n",
       "    <tr>\n",
       "      <th>50%</th>\n",
       "      <td>36.000000</td>\n",
       "      <td>0.0</td>\n",
       "      <td>3.000000</td>\n",
       "      <td>3.000000</td>\n",
       "      <td>2.000000</td>\n",
       "      <td>3.000000</td>\n",
       "      <td>5204.000000</td>\n",
       "      <td>10.000000</td>\n",
       "      <td>3.000000</td>\n",
       "      <td>6.000000</td>\n",
       "      <td>3.000000</td>\n",
       "      <td>1.000000</td>\n",
       "      <td>3.000000</td>\n",
       "      <td>7.000000</td>\n",
       "    </tr>\n",
       "    <tr>\n",
       "      <th>75%</th>\n",
       "      <td>43.000000</td>\n",
       "      <td>0.0</td>\n",
       "      <td>4.000000</td>\n",
       "      <td>3.000000</td>\n",
       "      <td>3.000000</td>\n",
       "      <td>4.000000</td>\n",
       "      <td>8834.000000</td>\n",
       "      <td>16.000000</td>\n",
       "      <td>3.000000</td>\n",
       "      <td>10.000000</td>\n",
       "      <td>7.000000</td>\n",
       "      <td>3.000000</td>\n",
       "      <td>7.000000</td>\n",
       "      <td>13.000000</td>\n",
       "    </tr>\n",
       "    <tr>\n",
       "      <th>max</th>\n",
       "      <td>60.000000</td>\n",
       "      <td>0.0</td>\n",
       "      <td>4.000000</td>\n",
       "      <td>4.000000</td>\n",
       "      <td>5.000000</td>\n",
       "      <td>4.000000</td>\n",
       "      <td>19999.000000</td>\n",
       "      <td>38.000000</td>\n",
       "      <td>4.000000</td>\n",
       "      <td>37.000000</td>\n",
       "      <td>18.000000</td>\n",
       "      <td>15.000000</td>\n",
       "      <td>17.000000</td>\n",
       "      <td>29.000000</td>\n",
       "    </tr>\n",
       "  </tbody>\n",
       "</table>\n",
       "</div>"
      ],
      "text/plain": [
       "               Age  Attrition  EnvironmentSatisfaction  JobInvolvement  \\\n",
       "count  1233.000000     1233.0              1233.000000     1233.000000   \n",
       "mean     37.561233        0.0                 2.771290        2.770479   \n",
       "std       8.888360        0.0                 1.071132        0.692050   \n",
       "min      18.000000        0.0                 1.000000        1.000000   \n",
       "25%      31.000000        0.0                 2.000000        2.000000   \n",
       "50%      36.000000        0.0                 3.000000        3.000000   \n",
       "75%      43.000000        0.0                 4.000000        3.000000   \n",
       "max      60.000000        0.0                 4.000000        4.000000   \n",
       "\n",
       "          JobLevel  JobSatisfaction  MonthlyIncome  TotalWorkingYears  \\\n",
       "count  1233.000000      1233.000000    1233.000000        1233.000000   \n",
       "mean      2.145985         2.778589    6832.739659          11.862936   \n",
       "std       1.117933         1.093277    4818.208001           7.760719   \n",
       "min       1.000000         1.000000    1051.000000           0.000000   \n",
       "25%       1.000000         2.000000    3211.000000           6.000000   \n",
       "50%       2.000000         3.000000    5204.000000          10.000000   \n",
       "75%       3.000000         4.000000    8834.000000          16.000000   \n",
       "max       5.000000         4.000000   19999.000000          38.000000   \n",
       "\n",
       "       WorkLifeBalance  YearsAtCompany  YearsInCurrentRole  \\\n",
       "count      1233.000000     1233.000000         1233.000000   \n",
       "mean          2.781022        7.369019            4.484185   \n",
       "std           0.681907        6.096298            3.649402   \n",
       "min           1.000000        0.000000            0.000000   \n",
       "25%           2.000000        3.000000            2.000000   \n",
       "50%           3.000000        6.000000            3.000000   \n",
       "75%           3.000000       10.000000            7.000000   \n",
       "max           4.000000       37.000000           18.000000   \n",
       "\n",
       "       YearsSinceLastPromotion  YearsWithCurrManager  DistanceFromHome  \n",
       "count              1233.000000           1233.000000       1233.000000  \n",
       "mean                  2.234388              4.367397          8.915653  \n",
       "std                   3.234762              3.594116          8.012633  \n",
       "min                   0.000000              0.000000          1.000000  \n",
       "25%                   0.000000              2.000000          2.000000  \n",
       "50%                   1.000000              3.000000          7.000000  \n",
       "75%                   3.000000              7.000000         13.000000  \n",
       "max                  15.000000             17.000000         29.000000  "
      ]
     },
     "execution_count": 13,
     "metadata": {},
     "output_type": "execute_result"
    }
   ],
   "source": [
    "#Splitting the dataframe into two\n",
    "#For employees that stayed\n",
    "att[att.Attrition==0].describe()"
   ]
  },
  {
   "cell_type": "code",
   "execution_count": 15,
   "id": "e11edf78",
   "metadata": {
    "colab": {
     "base_uri": "https://localhost:8080/",
     "height": 364
    },
    "id": "e11edf78",
    "outputId": "9e27ef13-9b05-4d8e-d67c-6e54fd82c2da"
   },
   "outputs": [
    {
     "data": {
      "text/html": [
       "<div>\n",
       "<style scoped>\n",
       "    .dataframe tbody tr th:only-of-type {\n",
       "        vertical-align: middle;\n",
       "    }\n",
       "\n",
       "    .dataframe tbody tr th {\n",
       "        vertical-align: top;\n",
       "    }\n",
       "\n",
       "    .dataframe thead th {\n",
       "        text-align: right;\n",
       "    }\n",
       "</style>\n",
       "<table border=\"1\" class=\"dataframe\">\n",
       "  <thead>\n",
       "    <tr style=\"text-align: right;\">\n",
       "      <th></th>\n",
       "      <th>Age</th>\n",
       "      <th>Attrition</th>\n",
       "      <th>EnvironmentSatisfaction</th>\n",
       "      <th>JobInvolvement</th>\n",
       "      <th>JobLevel</th>\n",
       "      <th>JobSatisfaction</th>\n",
       "      <th>MonthlyIncome</th>\n",
       "      <th>TotalWorkingYears</th>\n",
       "      <th>WorkLifeBalance</th>\n",
       "      <th>YearsAtCompany</th>\n",
       "      <th>YearsInCurrentRole</th>\n",
       "      <th>YearsSinceLastPromotion</th>\n",
       "      <th>YearsWithCurrManager</th>\n",
       "      <th>DistanceFromHome</th>\n",
       "    </tr>\n",
       "  </thead>\n",
       "  <tbody>\n",
       "    <tr>\n",
       "      <th>count</th>\n",
       "      <td>237.000000</td>\n",
       "      <td>237.0</td>\n",
       "      <td>237.000000</td>\n",
       "      <td>237.000000</td>\n",
       "      <td>237.000000</td>\n",
       "      <td>237.000000</td>\n",
       "      <td>237.000000</td>\n",
       "      <td>237.000000</td>\n",
       "      <td>237.000000</td>\n",
       "      <td>237.000000</td>\n",
       "      <td>237.000000</td>\n",
       "      <td>237.000000</td>\n",
       "      <td>237.000000</td>\n",
       "      <td>237.000000</td>\n",
       "    </tr>\n",
       "    <tr>\n",
       "      <th>mean</th>\n",
       "      <td>33.607595</td>\n",
       "      <td>1.0</td>\n",
       "      <td>2.464135</td>\n",
       "      <td>2.518987</td>\n",
       "      <td>1.637131</td>\n",
       "      <td>2.468354</td>\n",
       "      <td>4787.092827</td>\n",
       "      <td>8.244726</td>\n",
       "      <td>2.658228</td>\n",
       "      <td>5.130802</td>\n",
       "      <td>2.902954</td>\n",
       "      <td>1.945148</td>\n",
       "      <td>2.852321</td>\n",
       "      <td>10.632911</td>\n",
       "    </tr>\n",
       "    <tr>\n",
       "      <th>std</th>\n",
       "      <td>9.689350</td>\n",
       "      <td>0.0</td>\n",
       "      <td>1.169791</td>\n",
       "      <td>0.773405</td>\n",
       "      <td>0.940594</td>\n",
       "      <td>1.118058</td>\n",
       "      <td>3640.210367</td>\n",
       "      <td>7.169204</td>\n",
       "      <td>0.816453</td>\n",
       "      <td>5.949984</td>\n",
       "      <td>3.174827</td>\n",
       "      <td>3.153077</td>\n",
       "      <td>3.143349</td>\n",
       "      <td>8.452525</td>\n",
       "    </tr>\n",
       "    <tr>\n",
       "      <th>min</th>\n",
       "      <td>18.000000</td>\n",
       "      <td>1.0</td>\n",
       "      <td>1.000000</td>\n",
       "      <td>1.000000</td>\n",
       "      <td>1.000000</td>\n",
       "      <td>1.000000</td>\n",
       "      <td>1009.000000</td>\n",
       "      <td>0.000000</td>\n",
       "      <td>1.000000</td>\n",
       "      <td>0.000000</td>\n",
       "      <td>0.000000</td>\n",
       "      <td>0.000000</td>\n",
       "      <td>0.000000</td>\n",
       "      <td>1.000000</td>\n",
       "    </tr>\n",
       "    <tr>\n",
       "      <th>25%</th>\n",
       "      <td>28.000000</td>\n",
       "      <td>1.0</td>\n",
       "      <td>1.000000</td>\n",
       "      <td>2.000000</td>\n",
       "      <td>1.000000</td>\n",
       "      <td>1.000000</td>\n",
       "      <td>2373.000000</td>\n",
       "      <td>3.000000</td>\n",
       "      <td>2.000000</td>\n",
       "      <td>1.000000</td>\n",
       "      <td>0.000000</td>\n",
       "      <td>0.000000</td>\n",
       "      <td>0.000000</td>\n",
       "      <td>3.000000</td>\n",
       "    </tr>\n",
       "    <tr>\n",
       "      <th>50%</th>\n",
       "      <td>32.000000</td>\n",
       "      <td>1.0</td>\n",
       "      <td>3.000000</td>\n",
       "      <td>3.000000</td>\n",
       "      <td>1.000000</td>\n",
       "      <td>3.000000</td>\n",
       "      <td>3202.000000</td>\n",
       "      <td>7.000000</td>\n",
       "      <td>3.000000</td>\n",
       "      <td>3.000000</td>\n",
       "      <td>2.000000</td>\n",
       "      <td>1.000000</td>\n",
       "      <td>2.000000</td>\n",
       "      <td>9.000000</td>\n",
       "    </tr>\n",
       "    <tr>\n",
       "      <th>75%</th>\n",
       "      <td>39.000000</td>\n",
       "      <td>1.0</td>\n",
       "      <td>4.000000</td>\n",
       "      <td>3.000000</td>\n",
       "      <td>2.000000</td>\n",
       "      <td>3.000000</td>\n",
       "      <td>5916.000000</td>\n",
       "      <td>10.000000</td>\n",
       "      <td>3.000000</td>\n",
       "      <td>7.000000</td>\n",
       "      <td>4.000000</td>\n",
       "      <td>2.000000</td>\n",
       "      <td>5.000000</td>\n",
       "      <td>17.000000</td>\n",
       "    </tr>\n",
       "    <tr>\n",
       "      <th>max</th>\n",
       "      <td>58.000000</td>\n",
       "      <td>1.0</td>\n",
       "      <td>4.000000</td>\n",
       "      <td>4.000000</td>\n",
       "      <td>5.000000</td>\n",
       "      <td>4.000000</td>\n",
       "      <td>19859.000000</td>\n",
       "      <td>40.000000</td>\n",
       "      <td>4.000000</td>\n",
       "      <td>40.000000</td>\n",
       "      <td>15.000000</td>\n",
       "      <td>15.000000</td>\n",
       "      <td>14.000000</td>\n",
       "      <td>29.000000</td>\n",
       "    </tr>\n",
       "  </tbody>\n",
       "</table>\n",
       "</div>"
      ],
      "text/plain": [
       "              Age  Attrition  EnvironmentSatisfaction  JobInvolvement  \\\n",
       "count  237.000000      237.0               237.000000      237.000000   \n",
       "mean    33.607595        1.0                 2.464135        2.518987   \n",
       "std      9.689350        0.0                 1.169791        0.773405   \n",
       "min     18.000000        1.0                 1.000000        1.000000   \n",
       "25%     28.000000        1.0                 1.000000        2.000000   \n",
       "50%     32.000000        1.0                 3.000000        3.000000   \n",
       "75%     39.000000        1.0                 4.000000        3.000000   \n",
       "max     58.000000        1.0                 4.000000        4.000000   \n",
       "\n",
       "         JobLevel  JobSatisfaction  MonthlyIncome  TotalWorkingYears  \\\n",
       "count  237.000000       237.000000     237.000000         237.000000   \n",
       "mean     1.637131         2.468354    4787.092827           8.244726   \n",
       "std      0.940594         1.118058    3640.210367           7.169204   \n",
       "min      1.000000         1.000000    1009.000000           0.000000   \n",
       "25%      1.000000         1.000000    2373.000000           3.000000   \n",
       "50%      1.000000         3.000000    3202.000000           7.000000   \n",
       "75%      2.000000         3.000000    5916.000000          10.000000   \n",
       "max      5.000000         4.000000   19859.000000          40.000000   \n",
       "\n",
       "       WorkLifeBalance  YearsAtCompany  YearsInCurrentRole  \\\n",
       "count       237.000000      237.000000          237.000000   \n",
       "mean          2.658228        5.130802            2.902954   \n",
       "std           0.816453        5.949984            3.174827   \n",
       "min           1.000000        0.000000            0.000000   \n",
       "25%           2.000000        1.000000            0.000000   \n",
       "50%           3.000000        3.000000            2.000000   \n",
       "75%           3.000000        7.000000            4.000000   \n",
       "max           4.000000       40.000000           15.000000   \n",
       "\n",
       "       YearsSinceLastPromotion  YearsWithCurrManager  DistanceFromHome  \n",
       "count               237.000000            237.000000        237.000000  \n",
       "mean                  1.945148              2.852321         10.632911  \n",
       "std                   3.153077              3.143349          8.452525  \n",
       "min                   0.000000              0.000000          1.000000  \n",
       "25%                   0.000000              0.000000          3.000000  \n",
       "50%                   1.000000              2.000000          9.000000  \n",
       "75%                   2.000000              5.000000         17.000000  \n",
       "max                  15.000000             14.000000         29.000000  "
      ]
     },
     "execution_count": 15,
     "metadata": {},
     "output_type": "execute_result"
    }
   ],
   "source": [
    "#for employees that left\n",
    "att[att.Attrition==1].describe()"
   ]
  },
  {
   "cell_type": "markdown",
   "id": "cda87687",
   "metadata": {
    "id": "cda87687"
   },
   "source": [
    "# UNIVARIATE ANALYSIS OF VARIABLES"
   ]
  },
  {
   "cell_type": "markdown",
   "id": "cb1fe90f",
   "metadata": {
    "id": "cb1fe90f"
   },
   "source": [
    "### Attrition"
   ]
  },
  {
   "cell_type": "code",
   "execution_count": 16,
   "id": "9524ec7f",
   "metadata": {
    "colab": {
     "base_uri": "https://localhost:8080/"
    },
    "id": "9524ec7f",
    "outputId": "ee6f029e-b023-4733-f8f2-0ac6f80952d6"
   },
   "outputs": [
    {
     "data": {
      "text/plain": [
       "0    1233\n",
       "1     237\n",
       "Name: Attrition, dtype: int64"
      ]
     },
     "execution_count": 16,
     "metadata": {},
     "output_type": "execute_result"
    }
   ],
   "source": [
    "#Does the company have an attrition rate according to the industry standards. \n",
    "att.Attrition.value_counts()"
   ]
  },
  {
   "cell_type": "markdown",
   "id": "dbd0d043",
   "metadata": {
    "id": "dbd0d043"
   },
   "source": [
    "Out of all the employees under our study, 237 faced attrition while 1233 did not face attrition.\n"
   ]
  },
  {
   "cell_type": "code",
   "execution_count": 17,
   "id": "d666cb89",
   "metadata": {
    "colab": {
     "base_uri": "https://localhost:8080/"
    },
    "id": "d666cb89",
    "outputId": "1a4098e2-ba37-4295-e954-5b29be7039a0"
   },
   "outputs": [
    {
     "data": {
      "text/plain": [
       "0    83.877551\n",
       "1    16.122449\n",
       "Name: Attrition, dtype: float64"
      ]
     },
     "execution_count": 17,
     "metadata": {},
     "output_type": "execute_result"
    }
   ],
   "source": [
    "(att.Attrition.value_counts()/len(att.Attrition))*100"
   ]
  },
  {
   "cell_type": "markdown",
   "id": "ea3a37f9",
   "metadata": {
    "id": "ea3a37f9"
   },
   "source": [
    "The company has an attrition rate of 16.1% which is more than the industry standard of 10%."
   ]
  },
  {
   "cell_type": "markdown",
   "id": "62c416eb",
   "metadata": {
    "id": "62c416eb"
   },
   "source": [
    "### Age"
   ]
  },
  {
   "cell_type": "code",
   "execution_count": 18,
   "id": "f26c8e77",
   "metadata": {
    "colab": {
     "base_uri": "https://localhost:8080/"
    },
    "id": "f26c8e77",
    "outputId": "754bea52-5f3a-4799-e7f2-75d58f0c3bbe"
   },
   "outputs": [
    {
     "data": {
      "text/plain": [
       "36.923809523809524"
      ]
     },
     "execution_count": 18,
     "metadata": {},
     "output_type": "execute_result"
    }
   ],
   "source": [
    "att.Age.mean()"
   ]
  },
  {
   "cell_type": "code",
   "execution_count": 19,
   "id": "6d5160fd",
   "metadata": {
    "colab": {
     "base_uri": "https://localhost:8080/"
    },
    "id": "6d5160fd",
    "outputId": "f76948dc-a776-4bab-c2ed-7706758ee6ad"
   },
   "outputs": [
    {
     "data": {
      "text/plain": [
       "18"
      ]
     },
     "execution_count": 19,
     "metadata": {},
     "output_type": "execute_result"
    }
   ],
   "source": [
    "att.Age.min()"
   ]
  },
  {
   "cell_type": "code",
   "execution_count": 20,
   "id": "3bbd9df3",
   "metadata": {
    "colab": {
     "base_uri": "https://localhost:8080/"
    },
    "id": "3bbd9df3",
    "outputId": "a94df260-66a8-41e2-ab61-f0e94e8033b3"
   },
   "outputs": [
    {
     "data": {
      "text/plain": [
       "60"
      ]
     },
     "execution_count": 20,
     "metadata": {},
     "output_type": "execute_result"
    }
   ],
   "source": [
    "att.Age.max()"
   ]
  },
  {
   "cell_type": "markdown",
   "id": "27c27090",
   "metadata": {
    "id": "27c27090"
   },
   "source": [
    "The mean age of employees working at the company is 37 years. The youngest employee is 18 years old while the eldest is 60 years old.\n"
   ]
  },
  {
   "cell_type": "markdown",
   "id": "29e28b13",
   "metadata": {
    "id": "29e28b13"
   },
   "source": [
    "### Business Travel"
   ]
  },
  {
   "cell_type": "code",
   "execution_count": 21,
   "id": "452762e7",
   "metadata": {
    "colab": {
     "base_uri": "https://localhost:8080/"
    },
    "id": "452762e7",
    "outputId": "ad7debb0-34c6-457a-d8ee-e76db572f607"
   },
   "outputs": [
    {
     "data": {
      "text/plain": [
       "Travel_Rarely        1043\n",
       "Travel_Frequently     277\n",
       "Non-Travel            150\n",
       "Name: BusinessTravel, dtype: int64"
      ]
     },
     "execution_count": 21,
     "metadata": {},
     "output_type": "execute_result"
    }
   ],
   "source": [
    "att.BusinessTravel.value_counts()"
   ]
  },
  {
   "cell_type": "markdown",
   "id": "7baf76c5",
   "metadata": {
    "id": "7baf76c5"
   },
   "source": [
    "Out of all the employees under our study, 1043 travelled rarely, 277 travelled frequently, 150 never travelled.\n"
   ]
  },
  {
   "cell_type": "markdown",
   "id": "d5d52d09",
   "metadata": {
    "id": "d5d52d09"
   },
   "source": [
    "### Department"
   ]
  },
  {
   "cell_type": "code",
   "execution_count": 22,
   "id": "e309014b",
   "metadata": {
    "colab": {
     "base_uri": "https://localhost:8080/"
    },
    "id": "e309014b",
    "outputId": "b159e2b7-3ccf-4f44-88f6-17a7b881f09e"
   },
   "outputs": [
    {
     "data": {
      "text/plain": [
       "Research & Development    961\n",
       "Sales                     446\n",
       "Human Resources            63\n",
       "Name: Department, dtype: int64"
      ]
     },
     "execution_count": 22,
     "metadata": {},
     "output_type": "execute_result"
    }
   ],
   "source": [
    "att.Department.value_counts()"
   ]
  },
  {
   "cell_type": "markdown",
   "id": "256d2665",
   "metadata": {
    "id": "256d2665"
   },
   "source": [
    "Out of all the employees under our study, 961 belong to Research & Development department, 446 belong to the sales department and 63 belong to the Human Resources Department.\n"
   ]
  },
  {
   "cell_type": "markdown",
   "id": "cdf34046",
   "metadata": {
    "id": "cdf34046"
   },
   "source": [
    "### Education Field "
   ]
  },
  {
   "cell_type": "code",
   "execution_count": 23,
   "id": "a3cef0f3",
   "metadata": {
    "colab": {
     "base_uri": "https://localhost:8080/"
    },
    "id": "a3cef0f3",
    "outputId": "656cdd2e-95be-45ae-a5ad-7b388bd4ac95"
   },
   "outputs": [
    {
     "data": {
      "text/plain": [
       "Life Sciences       606\n",
       "Medical             464\n",
       "Marketing           159\n",
       "Technical Degree    132\n",
       "Other                82\n",
       "Human Resources      27\n",
       "Name: EducationField, dtype: int64"
      ]
     },
     "execution_count": 23,
     "metadata": {},
     "output_type": "execute_result"
    }
   ],
   "source": [
    "att.EducationField.value_counts()"
   ]
  },
  {
   "cell_type": "markdown",
   "id": "1f6a37ad",
   "metadata": {
    "id": "1f6a37ad"
   },
   "source": [
    "Out of all the employees under our study, 606 have Life Sciences as their education field, 464 have  Medical, 159 have Marketing, 132 have Technical degree, 82 have other and 27 have human Resources.\n"
   ]
  },
  {
   "cell_type": "markdown",
   "id": "6c3521c8",
   "metadata": {
    "id": "6c3521c8"
   },
   "source": [
    "### Environment Satisfaction"
   ]
  },
  {
   "cell_type": "code",
   "execution_count": 24,
   "id": "d4d84229",
   "metadata": {
    "colab": {
     "base_uri": "https://localhost:8080/"
    },
    "id": "d4d84229",
    "outputId": "45acd642-5ffc-4157-e1d7-af5420a747eb"
   },
   "outputs": [
    {
     "data": {
      "text/plain": [
       "3    453\n",
       "4    446\n",
       "2    287\n",
       "1    284\n",
       "Name: EnvironmentSatisfaction, dtype: int64"
      ]
     },
     "execution_count": 24,
     "metadata": {},
     "output_type": "execute_result"
    }
   ],
   "source": [
    "att.EnvironmentSatisfaction.value_counts()"
   ]
  },
  {
   "cell_type": "markdown",
   "id": "0b7fc782",
   "metadata": {
    "id": "0b7fc782"
   },
   "source": [
    "Out of all the employees under our study, 453 employees had environment satisfaction level of three, 446 had environment satisfaction level of four, 287 had environment satisfaction level of two and 284 had environment satisfaction level of one.\n"
   ]
  },
  {
   "cell_type": "markdown",
   "id": "e49984d5",
   "metadata": {
    "id": "e49984d5"
   },
   "source": [
    "### Gender "
   ]
  },
  {
   "cell_type": "code",
   "execution_count": 25,
   "id": "3fcfdae7",
   "metadata": {
    "colab": {
     "base_uri": "https://localhost:8080/"
    },
    "id": "3fcfdae7",
    "outputId": "a906b834-8d72-4f1e-add0-99da2bbf859d"
   },
   "outputs": [
    {
     "data": {
      "text/plain": [
       "Male      882\n",
       "Female    588\n",
       "Name: Gender, dtype: int64"
      ]
     },
     "execution_count": 25,
     "metadata": {},
     "output_type": "execute_result"
    }
   ],
   "source": [
    "att.Gender.value_counts()"
   ]
  },
  {
   "cell_type": "markdown",
   "id": "440c9fe0",
   "metadata": {
    "id": "440c9fe0"
   },
   "source": [
    "Out of all the employees under our study, 882 were male and 588 were female.\n"
   ]
  },
  {
   "cell_type": "markdown",
   "id": "871ac277",
   "metadata": {
    "id": "871ac277"
   },
   "source": [
    "### Job Involvement "
   ]
  },
  {
   "cell_type": "code",
   "execution_count": 26,
   "id": "79eb8e34",
   "metadata": {
    "colab": {
     "base_uri": "https://localhost:8080/"
    },
    "id": "79eb8e34",
    "outputId": "6098b3c8-e95d-4873-e194-559b45eaed86"
   },
   "outputs": [
    {
     "data": {
      "text/plain": [
       "3    868\n",
       "2    375\n",
       "4    144\n",
       "1     83\n",
       "Name: JobInvolvement, dtype: int64"
      ]
     },
     "execution_count": 26,
     "metadata": {},
     "output_type": "execute_result"
    }
   ],
   "source": [
    "att.JobInvolvement.value_counts()"
   ]
  },
  {
   "cell_type": "markdown",
   "id": "d238cd17",
   "metadata": {
    "id": "d238cd17"
   },
   "source": [
    "Out of all the employees under our study, 868 employees had Job Involvement level of three, 375 had Job Involvement level of two, 144 had Job Involvement level of four and 83 had Job Involvement level of one.\n"
   ]
  },
  {
   "cell_type": "markdown",
   "id": "e7c1a9d4",
   "metadata": {
    "id": "e7c1a9d4"
   },
   "source": [
    "### Job Level"
   ]
  },
  {
   "cell_type": "code",
   "execution_count": 27,
   "id": "c29a801f",
   "metadata": {
    "colab": {
     "base_uri": "https://localhost:8080/"
    },
    "id": "c29a801f",
    "outputId": "0ad905dc-4e75-4a61-8dea-b6216f9cda87"
   },
   "outputs": [
    {
     "data": {
      "text/plain": [
       "1    543\n",
       "2    534\n",
       "3    218\n",
       "4    106\n",
       "5     69\n",
       "Name: JobLevel, dtype: int64"
      ]
     },
     "execution_count": 27,
     "metadata": {},
     "output_type": "execute_result"
    }
   ],
   "source": [
    "att.JobLevel.value_counts()"
   ]
  },
  {
   "cell_type": "markdown",
   "id": "ff245573",
   "metadata": {
    "id": "ff245573"
   },
   "source": [
    "Out of all the employees under our study, 543 employees had Job Level of one, 534 had Job level of two, 218 had Job Level of three, 106 had Job Level of four and 69 had Job level of five.\n"
   ]
  },
  {
   "cell_type": "markdown",
   "id": "aab33948",
   "metadata": {
    "id": "aab33948"
   },
   "source": [
    "### Job Satisfaction"
   ]
  },
  {
   "cell_type": "code",
   "execution_count": 28,
   "id": "06646304",
   "metadata": {
    "colab": {
     "base_uri": "https://localhost:8080/"
    },
    "id": "06646304",
    "outputId": "a3a1a65a-9b30-4f98-c17e-72cee1e599e1"
   },
   "outputs": [
    {
     "data": {
      "text/plain": [
       "4    459\n",
       "3    442\n",
       "1    289\n",
       "2    280\n",
       "Name: JobSatisfaction, dtype: int64"
      ]
     },
     "execution_count": 28,
     "metadata": {},
     "output_type": "execute_result"
    }
   ],
   "source": [
    "att.JobSatisfaction.value_counts()"
   ]
  },
  {
   "cell_type": "markdown",
   "id": "95e7f051",
   "metadata": {
    "id": "95e7f051"
   },
   "source": [
    "Out of all the employees under our study, 459 employees had Job Satisfaction level of four, 442 had Job Satisfaction level of three, 289 had Job Satisfaction level of one and 280 had Job Satisfaction level of two.\n"
   ]
  },
  {
   "cell_type": "markdown",
   "id": "d188d25b",
   "metadata": {
    "id": "d188d25b"
   },
   "source": [
    "### Marital Status"
   ]
  },
  {
   "cell_type": "code",
   "execution_count": 29,
   "id": "86c13801",
   "metadata": {
    "colab": {
     "base_uri": "https://localhost:8080/"
    },
    "id": "86c13801",
    "outputId": "c5b89f3f-78fc-4a6a-cee7-bd22ffc9802a"
   },
   "outputs": [
    {
     "data": {
      "text/plain": [
       "Married     673\n",
       "Single      470\n",
       "Divorced    327\n",
       "Name: MaritalStatus, dtype: int64"
      ]
     },
     "execution_count": 29,
     "metadata": {},
     "output_type": "execute_result"
    }
   ],
   "source": [
    "att.MaritalStatus.value_counts()"
   ]
  },
  {
   "cell_type": "markdown",
   "id": "0bd22e77",
   "metadata": {
    "id": "0bd22e77"
   },
   "source": [
    "Out of all the employees under our study, 673 are married, 470 are single and 327 are divorced.\n"
   ]
  },
  {
   "cell_type": "markdown",
   "id": "d18739bb",
   "metadata": {
    "id": "d18739bb"
   },
   "source": [
    "### Monthly Income"
   ]
  },
  {
   "cell_type": "code",
   "execution_count": 30,
   "id": "9431927a",
   "metadata": {
    "colab": {
     "base_uri": "https://localhost:8080/"
    },
    "id": "9431927a",
    "outputId": "1a67d748-0520-4ed9-bbaf-0450a03d2b54"
   },
   "outputs": [
    {
     "data": {
      "text/plain": [
       "6502.931292517007"
      ]
     },
     "execution_count": 30,
     "metadata": {},
     "output_type": "execute_result"
    }
   ],
   "source": [
    "att.MonthlyIncome.mean()"
   ]
  },
  {
   "cell_type": "code",
   "execution_count": 31,
   "id": "e50536c5",
   "metadata": {
    "colab": {
     "base_uri": "https://localhost:8080/"
    },
    "id": "e50536c5",
    "outputId": "5759092f-2b00-452f-9fe5-e9b578d9a0a5"
   },
   "outputs": [
    {
     "data": {
      "text/plain": [
       "1009"
      ]
     },
     "execution_count": 31,
     "metadata": {},
     "output_type": "execute_result"
    }
   ],
   "source": [
    "att.MonthlyIncome.min()"
   ]
  },
  {
   "cell_type": "code",
   "execution_count": 32,
   "id": "1506df84",
   "metadata": {
    "colab": {
     "base_uri": "https://localhost:8080/"
    },
    "id": "1506df84",
    "outputId": "4f1e18da-453b-4748-aa41-2580f2e82d0c"
   },
   "outputs": [
    {
     "data": {
      "text/plain": [
       "19999"
      ]
     },
     "execution_count": 32,
     "metadata": {},
     "output_type": "execute_result"
    }
   ],
   "source": [
    "att.MonthlyIncome.max()"
   ]
  },
  {
   "cell_type": "markdown",
   "id": "58eabba4",
   "metadata": {
    "id": "58eabba4"
   },
   "source": [
    "The mean monthly income of employees is 6500 with minimum monthly income being 1000 and maximum being 20000.\n"
   ]
  },
  {
   "cell_type": "markdown",
   "id": "201a042b",
   "metadata": {
    "id": "201a042b"
   },
   "source": [
    "### Overtime"
   ]
  },
  {
   "cell_type": "code",
   "execution_count": 33,
   "id": "dddd4f18",
   "metadata": {
    "colab": {
     "base_uri": "https://localhost:8080/"
    },
    "id": "dddd4f18",
    "outputId": "094a6071-0c7d-4f09-d9af-1ed4a7494624"
   },
   "outputs": [
    {
     "data": {
      "text/plain": [
       "No     1054\n",
       "Yes     416\n",
       "Name: OverTime, dtype: int64"
      ]
     },
     "execution_count": 33,
     "metadata": {},
     "output_type": "execute_result"
    }
   ],
   "source": [
    "att.OverTime.value_counts()"
   ]
  },
  {
   "cell_type": "markdown",
   "id": "025ef172",
   "metadata": {
    "id": "025ef172"
   },
   "source": [
    "Out of all the employees under our study, 1054 have not worked overtime and 416 have worked overtime.\n"
   ]
  },
  {
   "cell_type": "markdown",
   "id": "a64a276e",
   "metadata": {
    "id": "a64a276e"
   },
   "source": [
    "### Total Working Years"
   ]
  },
  {
   "cell_type": "code",
   "execution_count": 34,
   "id": "8f36e407",
   "metadata": {
    "colab": {
     "base_uri": "https://localhost:8080/"
    },
    "id": "8f36e407",
    "outputId": "e1fe6b4d-5e67-474a-808c-4d75ac8d40a2"
   },
   "outputs": [
    {
     "data": {
      "text/plain": [
       "11.279591836734694"
      ]
     },
     "execution_count": 34,
     "metadata": {},
     "output_type": "execute_result"
    }
   ],
   "source": [
    "att.TotalWorkingYears.mean()"
   ]
  },
  {
   "cell_type": "code",
   "execution_count": 35,
   "id": "1f390117",
   "metadata": {
    "colab": {
     "base_uri": "https://localhost:8080/"
    },
    "id": "1f390117",
    "outputId": "99c928de-d782-45e9-a893-c9a99519ff36"
   },
   "outputs": [
    {
     "data": {
      "text/plain": [
       "0"
      ]
     },
     "execution_count": 35,
     "metadata": {},
     "output_type": "execute_result"
    }
   ],
   "source": [
    "att.TotalWorkingYears.min()"
   ]
  },
  {
   "cell_type": "code",
   "execution_count": 36,
   "id": "d3092120",
   "metadata": {
    "colab": {
     "base_uri": "https://localhost:8080/"
    },
    "id": "d3092120",
    "outputId": "e9951ae3-7733-43a6-c0ef-860760b6a6de"
   },
   "outputs": [
    {
     "data": {
      "text/plain": [
       "40"
      ]
     },
     "execution_count": 36,
     "metadata": {},
     "output_type": "execute_result"
    }
   ],
   "source": [
    "att.TotalWorkingYears.max()"
   ]
  },
  {
   "cell_type": "markdown",
   "id": "66ff3c96",
   "metadata": {
    "id": "66ff3c96"
   },
   "source": [
    "The mean of total working years of all the employees under our study is 11.2 years with 0 years being the minimum value and 40 years being the maximum.\n"
   ]
  },
  {
   "cell_type": "markdown",
   "id": "9419701e",
   "metadata": {
    "id": "9419701e"
   },
   "source": [
    "### Worklife Balance"
   ]
  },
  {
   "cell_type": "code",
   "execution_count": 37,
   "id": "21f4b08e",
   "metadata": {
    "colab": {
     "base_uri": "https://localhost:8080/"
    },
    "id": "21f4b08e",
    "outputId": "3098a215-41d8-4fcc-b760-47a82a6948bf"
   },
   "outputs": [
    {
     "data": {
      "text/plain": [
       "3    893\n",
       "2    344\n",
       "4    153\n",
       "1     80\n",
       "Name: WorkLifeBalance, dtype: int64"
      ]
     },
     "execution_count": 37,
     "metadata": {},
     "output_type": "execute_result"
    }
   ],
   "source": [
    "att.WorkLifeBalance.value_counts()"
   ]
  },
  {
   "cell_type": "markdown",
   "id": "4484faa0",
   "metadata": {
    "id": "4484faa0"
   },
   "source": [
    "Out of all the employees under our study, 893 employees had Work Life Balance  level of three, 344 had Work Life Balance level of two, 153 had Work Life Balance level of four and 80 had Work Life Balance level of one.\n"
   ]
  },
  {
   "cell_type": "markdown",
   "id": "4b013b4d",
   "metadata": {
    "id": "4b013b4d"
   },
   "source": [
    "### Years at company\n"
   ]
  },
  {
   "cell_type": "code",
   "execution_count": 38,
   "id": "f6e0c10d",
   "metadata": {
    "colab": {
     "base_uri": "https://localhost:8080/"
    },
    "id": "f6e0c10d",
    "outputId": "bc71a815-5b92-4c41-866a-ec3910a6aead"
   },
   "outputs": [
    {
     "data": {
      "text/plain": [
       "11.279591836734694"
      ]
     },
     "execution_count": 38,
     "metadata": {},
     "output_type": "execute_result"
    }
   ],
   "source": [
    "att.TotalWorkingYears.mean()"
   ]
  },
  {
   "cell_type": "code",
   "execution_count": 39,
   "id": "ef82d152",
   "metadata": {
    "colab": {
     "base_uri": "https://localhost:8080/"
    },
    "id": "ef82d152",
    "outputId": "3878e535-56fd-43aa-bd85-130c9dbab670"
   },
   "outputs": [
    {
     "data": {
      "text/plain": [
       "0"
      ]
     },
     "execution_count": 39,
     "metadata": {},
     "output_type": "execute_result"
    }
   ],
   "source": [
    "att.TotalWorkingYears.min()"
   ]
  },
  {
   "cell_type": "code",
   "execution_count": 40,
   "id": "7007fd92",
   "metadata": {
    "colab": {
     "base_uri": "https://localhost:8080/"
    },
    "id": "7007fd92",
    "outputId": "c416c462-9ddb-43ec-b6f3-2121c53a1f79"
   },
   "outputs": [
    {
     "data": {
      "text/plain": [
       "40"
      ]
     },
     "execution_count": 40,
     "metadata": {},
     "output_type": "execute_result"
    }
   ],
   "source": [
    "att.TotalWorkingYears.max()"
   ]
  },
  {
   "cell_type": "markdown",
   "id": "851ddb49",
   "metadata": {
    "id": "851ddb49"
   },
   "source": [
    "On an average, the employees of the company under our study, have worked in the company for  7 years with 0 years being the minimum time in the company and 40 years being the maximum.\n"
   ]
  },
  {
   "cell_type": "markdown",
   "id": "fc94cf05",
   "metadata": {
    "id": "fc94cf05"
   },
   "source": [
    "### Years in current role"
   ]
  },
  {
   "cell_type": "code",
   "execution_count": 41,
   "id": "020b6151",
   "metadata": {
    "colab": {
     "base_uri": "https://localhost:8080/"
    },
    "id": "020b6151",
    "outputId": "f09abadd-bdbe-4858-daac-cbcdf177d436"
   },
   "outputs": [
    {
     "data": {
      "text/plain": [
       "4.229251700680272"
      ]
     },
     "execution_count": 41,
     "metadata": {},
     "output_type": "execute_result"
    }
   ],
   "source": [
    "att.YearsInCurrentRole.mean()"
   ]
  },
  {
   "cell_type": "code",
   "execution_count": 42,
   "id": "da22fc0f",
   "metadata": {
    "colab": {
     "base_uri": "https://localhost:8080/"
    },
    "id": "da22fc0f",
    "outputId": "c2c0e010-189e-475c-9c49-4e016c016c00"
   },
   "outputs": [
    {
     "data": {
      "text/plain": [
       "0"
      ]
     },
     "execution_count": 42,
     "metadata": {},
     "output_type": "execute_result"
    }
   ],
   "source": [
    "att.YearsInCurrentRole.min()"
   ]
  },
  {
   "cell_type": "code",
   "execution_count": 43,
   "id": "450db9ad",
   "metadata": {
    "colab": {
     "base_uri": "https://localhost:8080/"
    },
    "id": "450db9ad",
    "outputId": "c3b0e67e-a573-48e3-c388-6ee39c558ded"
   },
   "outputs": [
    {
     "data": {
      "text/plain": [
       "18"
      ]
     },
     "execution_count": 43,
     "metadata": {},
     "output_type": "execute_result"
    }
   ],
   "source": [
    "att.YearsInCurrentRole.max()"
   ]
  },
  {
   "cell_type": "markdown",
   "id": "94c4f350",
   "metadata": {
    "id": "94c4f350"
   },
   "source": [
    "On an average, employees of the company under our study, have spent around 4 years in the current role with 0 years being the minimum time worked in the current role  and 18 years  being the max,\n"
   ]
  },
  {
   "cell_type": "markdown",
   "id": "9a0c9752",
   "metadata": {
    "id": "9a0c9752"
   },
   "source": [
    "### Years since Last promotion"
   ]
  },
  {
   "cell_type": "code",
   "execution_count": 44,
   "id": "61179829",
   "metadata": {
    "colab": {
     "base_uri": "https://localhost:8080/"
    },
    "id": "61179829",
    "outputId": "d1b818ea-eb72-4e08-f00a-ea4d910cd121"
   },
   "outputs": [
    {
     "data": {
      "text/plain": [
       "2.1877551020408164"
      ]
     },
     "execution_count": 44,
     "metadata": {},
     "output_type": "execute_result"
    }
   ],
   "source": [
    "att.YearsSinceLastPromotion.mean()"
   ]
  },
  {
   "cell_type": "code",
   "execution_count": 45,
   "id": "43ddb83a",
   "metadata": {
    "colab": {
     "base_uri": "https://localhost:8080/"
    },
    "id": "43ddb83a",
    "outputId": "9a35247e-4ba1-41f6-80a5-a8344cf3958a"
   },
   "outputs": [
    {
     "data": {
      "text/plain": [
       "0"
      ]
     },
     "execution_count": 45,
     "metadata": {},
     "output_type": "execute_result"
    }
   ],
   "source": [
    "att.YearsSinceLastPromotion.min()"
   ]
  },
  {
   "cell_type": "code",
   "execution_count": 46,
   "id": "0103e52d",
   "metadata": {
    "colab": {
     "base_uri": "https://localhost:8080/"
    },
    "id": "0103e52d",
    "outputId": "39963425-2647-4c53-fce1-ff8e4f6b4289"
   },
   "outputs": [
    {
     "data": {
      "text/plain": [
       "15"
      ]
     },
     "execution_count": 46,
     "metadata": {},
     "output_type": "execute_result"
    }
   ],
   "source": [
    "att.YearsSinceLastPromotion.max()"
   ]
  },
  {
   "cell_type": "markdown",
   "id": "97b2c290",
   "metadata": {
    "id": "97b2c290"
   },
   "source": [
    "On an average, for the employees of the company under our study it has been roughly 2 years since their last promotion with 0 years being the minimum time since promotion and 15 being the max,\n"
   ]
  },
  {
   "cell_type": "markdown",
   "id": "c56fe2a0",
   "metadata": {
    "id": "c56fe2a0"
   },
   "source": [
    "###  Years with current manager "
   ]
  },
  {
   "cell_type": "code",
   "execution_count": 47,
   "id": "294a9acb",
   "metadata": {
    "colab": {
     "base_uri": "https://localhost:8080/"
    },
    "id": "294a9acb",
    "outputId": "6f954ed2-6ef3-44ec-a36c-889e09cbf06a"
   },
   "outputs": [
    {
     "data": {
      "text/plain": [
       "4.12312925170068"
      ]
     },
     "execution_count": 47,
     "metadata": {},
     "output_type": "execute_result"
    }
   ],
   "source": [
    "att.YearsWithCurrManager.mean()"
   ]
  },
  {
   "cell_type": "code",
   "execution_count": 48,
   "id": "bc06ce1d",
   "metadata": {
    "colab": {
     "base_uri": "https://localhost:8080/"
    },
    "id": "bc06ce1d",
    "outputId": "6350b173-c1dc-4818-b495-99e86f0e7692"
   },
   "outputs": [
    {
     "data": {
      "text/plain": [
       "0"
      ]
     },
     "execution_count": 48,
     "metadata": {},
     "output_type": "execute_result"
    }
   ],
   "source": [
    "att.YearsWithCurrManager.min()"
   ]
  },
  {
   "cell_type": "code",
   "execution_count": 49,
   "id": "5d927023",
   "metadata": {
    "colab": {
     "base_uri": "https://localhost:8080/"
    },
    "id": "5d927023",
    "outputId": "6dc6c0d2-37ac-4771-986d-39264f9faaae"
   },
   "outputs": [
    {
     "data": {
      "text/plain": [
       "17"
      ]
     },
     "execution_count": 49,
     "metadata": {},
     "output_type": "execute_result"
    }
   ],
   "source": [
    "att.YearsWithCurrManager.max()"
   ]
  },
  {
   "cell_type": "markdown",
   "id": "c0f11ff2",
   "metadata": {
    "id": "c0f11ff2"
   },
   "source": [
    "On an average, employees of the company under our study, have worked under the same manager for roughly 4 years with 0 years being the minimum time worked under the current manager and 17 years being the max,\n"
   ]
  },
  {
   "cell_type": "markdown",
   "id": "40ae9ade",
   "metadata": {
    "id": "40ae9ade"
   },
   "source": [
    "### Distance from Home"
   ]
  },
  {
   "cell_type": "code",
   "execution_count": 50,
   "id": "17abb0ec",
   "metadata": {
    "colab": {
     "base_uri": "https://localhost:8080/"
    },
    "id": "17abb0ec",
    "outputId": "45080c1c-aa6b-413c-eb0e-a6a09b6a745d"
   },
   "outputs": [
    {
     "data": {
      "text/plain": [
       "9.19251700680272"
      ]
     },
     "execution_count": 50,
     "metadata": {},
     "output_type": "execute_result"
    }
   ],
   "source": [
    "att.DistanceFromHome.mean()"
   ]
  },
  {
   "cell_type": "code",
   "execution_count": 51,
   "id": "ef25f294",
   "metadata": {
    "colab": {
     "base_uri": "https://localhost:8080/"
    },
    "id": "ef25f294",
    "outputId": "b228f7e3-eddf-452f-db75-19686492c9e6"
   },
   "outputs": [
    {
     "data": {
      "text/plain": [
       "1"
      ]
     },
     "execution_count": 51,
     "metadata": {},
     "output_type": "execute_result"
    }
   ],
   "source": [
    "att.DistanceFromHome.min()"
   ]
  },
  {
   "cell_type": "code",
   "execution_count": 52,
   "id": "e24cc4d9",
   "metadata": {
    "colab": {
     "base_uri": "https://localhost:8080/"
    },
    "id": "e24cc4d9",
    "outputId": "222dc4f3-30c1-45aa-f2ec-1f42cf0f4d23"
   },
   "outputs": [
    {
     "data": {
      "text/plain": [
       "29"
      ]
     },
     "execution_count": 52,
     "metadata": {},
     "output_type": "execute_result"
    }
   ],
   "source": [
    "att.DistanceFromHome.max()"
   ]
  },
  {
   "cell_type": "markdown",
   "id": "de3c6d69",
   "metadata": {
    "id": "de3c6d69"
   },
   "source": [
    "On an average, the employees of the company under our study have to travel 9 kms to reach office with 1 km being the shortest distance an employee has to cover and 29 kms being the maximum distance.\n"
   ]
  },
  {
   "cell_type": "markdown",
   "id": "14d289a9",
   "metadata": {
    "id": "14d289a9"
   },
   "source": [
    "# BIVARIATE ANALYSIS OF VARIABLE (Attrition vs __ )"
   ]
  },
  {
   "cell_type": "code",
   "execution_count": 56,
   "id": "727883b5",
   "metadata": {
    "colab": {
     "base_uri": "https://localhost:8080/",
     "height": 402
    },
    "id": "727883b5",
    "outputId": "646c14a6-8824-4ed0-d86e-7e17dd7a3bdd"
   },
   "outputs": [
    {
     "name": "stdout",
     "output_type": "stream",
     "text": [
      "col_0      counts\n",
      "Attrition        \n",
      "0            1233\n",
      "1             237\n"
     ]
    },
    {
     "data": {
      "text/plain": [
       "<Figure size 288x432 with 0 Axes>"
      ]
     },
     "metadata": {},
     "output_type": "display_data"
    },
    {
     "data": {
      "image/png": "[encoded data removed]",
      "text/plain": [
       "<Figure size 288x288 with 1 Axes>"
      ]
     },
     "metadata": {
      "needs_background": "light"
     },
     "output_type": "display_data"
    }
   ],
   "source": [
    "#1 corresoponds to attrition, 0 means person is in the company\n",
    "#Thus out of the total population of 1470,237 faced attrition, while 1233 did not.\n",
    "\n",
    "table_counts=pd.crosstab(att.Attrition,columns='counts')\n",
    "print(table_counts)\n",
    "att.Attrition\n",
    "plt.figure(figsize=(4,6))\n",
    "#sns.barplot(x=\"Attrition\", y=\"counts\", data=att)\n",
    "att.hist(column = 'Attrition',\n",
    "          grid = False,          # Do not include the grid\n",
    "          figsize = (4,4),      # (lenght,height) of the plot\n",
    "          color = \"green\",        # color of the bars\n",
    "          edgecolor = \"Blue\")\n",
    "plt.show()"
   ]
  },
  {
   "cell_type": "code",
   "execution_count": 57,
   "id": "fa5328ff",
   "metadata": {
    "colab": {
     "base_uri": "https://localhost:8080/"
    },
    "id": "fa5328ff",
    "outputId": "92146aeb-5558-48b6-cba8-e9e5646e280c"
   },
   "outputs": [
    {
     "name": "stdout",
     "output_type": "stream",
     "text": [
      "col_0         counts\n",
      "Attrition           \n",
      "0          83.877551\n",
      "1          16.122449\n"
     ]
    }
   ],
   "source": [
    "#probability\n",
    "print(table_counts/len(att)*100)"
   ]
  },
  {
   "cell_type": "code",
   "execution_count": 58,
   "id": "d09e32c2",
   "metadata": {
    "colab": {
     "base_uri": "https://localhost:8080/"
    },
    "id": "d09e32c2",
    "outputId": "20aa0c3f-51e3-4d2a-809b-6a7515a1deee"
   },
   "outputs": [
    {
     "data": {
      "text/plain": [
       "Attrition\n",
       "0    1233\n",
       "1     237\n",
       "dtype: int64"
      ]
     },
     "execution_count": 58,
     "metadata": {},
     "output_type": "execute_result"
    }
   ],
   "source": [
    "rowtotal=table_counts.sum(axis=1)\n",
    "rowtotal"
   ]
  },
  {
   "cell_type": "code",
   "execution_count": 59,
   "id": "65614972",
   "metadata": {
    "colab": {
     "base_uri": "https://localhost:8080/"
    },
    "id": "65614972",
    "outputId": "1f70e540-7978-4cd6-9791-a4bb297b5be0"
   },
   "outputs": [
    {
     "data": {
      "text/plain": [
       "col_0\n",
       "counts    1470\n",
       "dtype: int64"
      ]
     },
     "execution_count": 59,
     "metadata": {},
     "output_type": "execute_result"
    }
   ],
   "source": [
    "coltotal=table_counts.sum(axis=0)\n",
    "coltotal"
   ]
  },
  {
   "cell_type": "markdown",
   "id": "091b0b06",
   "metadata": {
    "id": "091b0b06"
   },
   "source": [
    "## Age"
   ]
  },
  {
   "cell_type": "code",
   "execution_count": 61,
   "id": "97e8304c",
   "metadata": {
    "colab": {
     "base_uri": "https://localhost:8080/",
     "height": 405
    },
    "id": "97e8304c",
    "outputId": "6248c75b-4e7a-4a47-82cd-71763dd5123f"
   },
   "outputs": [
    {
     "data": {
      "image/png": "[encoded data removed]",
      "text/plain": [
       "<Figure size 432x432 with 1 Axes>"
      ]
     },
     "metadata": {
      "needs_background": "light"
     },
     "output_type": "display_data"
    }
   ],
   "source": [
    "plt.figure(figsize = (6, 6))# dpi = 300)\n",
    "sns.boxplot(x = \"Attrition\", y = \"Age\" , data = att )\n",
    "plt.show()"
   ]
  },
  {
   "cell_type": "code",
   "execution_count": 62,
   "id": "169e9bf8",
   "metadata": {
    "colab": {
     "base_uri": "https://localhost:8080/",
     "height": 143
    },
    "id": "169e9bf8",
    "outputId": "75394602-9f7b-424f-f4ce-7e14203d2447"
   },
   "outputs": [
    {
     "data": {
      "text/html": [
       "<div>\n",
       "<style scoped>\n",
       "    .dataframe tbody tr th:only-of-type {\n",
       "        vertical-align: middle;\n",
       "    }\n",
       "\n",
       "    .dataframe tbody tr th {\n",
       "        vertical-align: top;\n",
       "    }\n",
       "\n",
       "    .dataframe thead th {\n",
       "        text-align: right;\n",
       "    }\n",
       "</style>\n",
       "<table border=\"1\" class=\"dataframe\">\n",
       "  <thead>\n",
       "    <tr style=\"text-align: right;\">\n",
       "      <th></th>\n",
       "      <th>Age</th>\n",
       "    </tr>\n",
       "    <tr>\n",
       "      <th>Attrition</th>\n",
       "      <th></th>\n",
       "    </tr>\n",
       "  </thead>\n",
       "  <tbody>\n",
       "    <tr>\n",
       "      <th>0</th>\n",
       "      <td>37.561233</td>\n",
       "    </tr>\n",
       "    <tr>\n",
       "      <th>1</th>\n",
       "      <td>33.607595</td>\n",
       "    </tr>\n",
       "  </tbody>\n",
       "</table>\n",
       "</div>"
      ],
      "text/plain": [
       "                 Age\n",
       "Attrition           \n",
       "0          37.561233\n",
       "1          33.607595"
      ]
     },
     "execution_count": 62,
     "metadata": {},
     "output_type": "execute_result"
    }
   ],
   "source": [
    "att[['Attrition','Age']].groupby(['Attrition']).mean()"
   ]
  },
  {
   "cell_type": "markdown",
   "id": "aec35cd1",
   "metadata": {
    "id": "aec35cd1"
   },
   "source": [
    "The employees who stayed have an average of 37.5 years and employees who left have an average age of 33.6 years. Thus, younger employees are more likely to leave.\n"
   ]
  },
  {
   "cell_type": "markdown",
   "id": "38015934",
   "metadata": {
    "id": "38015934"
   },
   "source": [
    "## BusinessTravel"
   ]
  },
  {
   "cell_type": "code",
   "execution_count": 64,
   "id": "931e5c4a",
   "metadata": {
    "colab": {
     "base_uri": "https://localhost:8080/",
     "height": 409
    },
    "id": "931e5c4a",
    "outputId": "88ab664e-f142-4c2d-b918-800cf536382f"
   },
   "outputs": [
    {
     "data": {
      "image/png": "[encoded data removed]",
      "text/plain": [
       "<Figure size 576x288 with 2 Axes>"
      ]
     },
     "metadata": {
      "needs_background": "light"
     },
     "output_type": "display_data"
    }
   ],
   "source": [
    "#Conditional Probability\n",
    "# From our analysis, out of all the people who faced attrition, 12 didnt travelled, 69 travelled frequently and 156 travelled rarely\n",
    "table_BusinessTravel=pd.crosstab(att.Attrition,columns=att.BusinessTravel)\n",
    "table_BusinessTravel\n",
    "#sns.barplot(x=\"BusinessTravel\", y=\"Attrition\", data=att,ci = None )\n",
    "#att.loc[att.Attrition == 1 ,\"BusinessTravel\"].hist()\n",
    "\n",
    "att.hist(column = 'BusinessTravel',\n",
    "          by = 'Attrition',\n",
    "          grid = False,          # Do not include the grid\n",
    "          figsize = (8,4),      # (lenght,height) of the plot\n",
    "          color = \"green\",        # color of the bars\n",
    "          edgecolor = \"Blue\",    # color around the bars\n",
    "          bins = 10)\n",
    "plt.show()"
   ]
  },
  {
   "cell_type": "code",
   "execution_count": 65,
   "id": "da427c0f",
   "metadata": {
    "colab": {
     "base_uri": "https://localhost:8080/"
    },
    "id": "da427c0f",
    "outputId": "91fc600b-034c-41ec-e70b-efbcdbc16275"
   },
   "outputs": [
    {
     "name": "stdout",
     "output_type": "stream",
     "text": [
      "BusinessTravel  Non-Travel  Travel_Frequently  Travel_Rarely\n",
      "Attrition                                                   \n",
      "0                 9.387755          14.149660      60.340136\n",
      "1                 0.816327           4.693878      10.612245\n"
     ]
    }
   ],
   "source": [
    "#Joint Probability\n",
    "print(table_BusinessTravel/len(att)*100)"
   ]
  },
  {
   "cell_type": "code",
   "execution_count": 66,
   "id": "e201d4c9",
   "metadata": {
    "colab": {
     "base_uri": "https://localhost:8080/",
     "height": 143
    },
    "id": "e201d4c9",
    "outputId": "611f6dec-41da-440e-8c48-444df08c6875"
   },
   "outputs": [
    {
     "data": {
      "text/html": [
       "<div>\n",
       "<style scoped>\n",
       "    .dataframe tbody tr th:only-of-type {\n",
       "        vertical-align: middle;\n",
       "    }\n",
       "\n",
       "    .dataframe tbody tr th {\n",
       "        vertical-align: top;\n",
       "    }\n",
       "\n",
       "    .dataframe thead th {\n",
       "        text-align: right;\n",
       "    }\n",
       "</style>\n",
       "<table border=\"1\" class=\"dataframe\">\n",
       "  <thead>\n",
       "    <tr style=\"text-align: right;\">\n",
       "      <th>BusinessTravel</th>\n",
       "      <th>Non-Travel</th>\n",
       "      <th>Travel_Frequently</th>\n",
       "      <th>Travel_Rarely</th>\n",
       "    </tr>\n",
       "    <tr>\n",
       "      <th>Attrition</th>\n",
       "      <th></th>\n",
       "      <th></th>\n",
       "      <th></th>\n",
       "    </tr>\n",
       "  </thead>\n",
       "  <tbody>\n",
       "    <tr>\n",
       "      <th>0</th>\n",
       "      <td>0.111922</td>\n",
       "      <td>0.168694</td>\n",
       "      <td>0.719384</td>\n",
       "    </tr>\n",
       "    <tr>\n",
       "      <th>1</th>\n",
       "      <td>0.050633</td>\n",
       "      <td>0.291139</td>\n",
       "      <td>0.658228</td>\n",
       "    </tr>\n",
       "  </tbody>\n",
       "</table>\n",
       "</div>"
      ],
      "text/plain": [
       "BusinessTravel  Non-Travel  Travel_Frequently  Travel_Rarely\n",
       "Attrition                                                   \n",
       "0                 0.111922           0.168694       0.719384\n",
       "1                 0.050633           0.291139       0.658228"
      ]
     },
     "execution_count": 66,
     "metadata": {},
     "output_type": "execute_result"
    }
   ],
   "source": [
    "#Marginal Probability\n",
    "table_BusinessTravel.div(rowtotal,axis=0)"
   ]
  },
  {
   "cell_type": "code",
   "execution_count": 67,
   "id": "82da24ef",
   "metadata": {
    "colab": {
     "base_uri": "https://localhost:8080/",
     "height": 143
    },
    "id": "82da24ef",
    "outputId": "072d1a2f-ca38-457e-f60e-bdf9a00da669"
   },
   "outputs": [
    {
     "data": {
      "text/html": [
       "<div>\n",
       "<style scoped>\n",
       "    .dataframe tbody tr th:only-of-type {\n",
       "        vertical-align: middle;\n",
       "    }\n",
       "\n",
       "    .dataframe tbody tr th {\n",
       "        vertical-align: top;\n",
       "    }\n",
       "\n",
       "    .dataframe thead th {\n",
       "        text-align: right;\n",
       "    }\n",
       "</style>\n",
       "<table border=\"1\" class=\"dataframe\">\n",
       "  <thead>\n",
       "    <tr style=\"text-align: right;\">\n",
       "      <th>BusinessTravel</th>\n",
       "      <th>Non-Travel</th>\n",
       "      <th>Travel_Frequently</th>\n",
       "      <th>Travel_Rarely</th>\n",
       "    </tr>\n",
       "    <tr>\n",
       "      <th>Attrition</th>\n",
       "      <th></th>\n",
       "      <th></th>\n",
       "      <th></th>\n",
       "    </tr>\n",
       "  </thead>\n",
       "  <tbody>\n",
       "    <tr>\n",
       "      <th>0</th>\n",
       "      <td>92.0</td>\n",
       "      <td>75.090253</td>\n",
       "      <td>85.043145</td>\n",
       "    </tr>\n",
       "    <tr>\n",
       "      <th>1</th>\n",
       "      <td>8.0</td>\n",
       "      <td>24.909747</td>\n",
       "      <td>14.956855</td>\n",
       "    </tr>\n",
       "  </tbody>\n",
       "</table>\n",
       "</div>"
      ],
      "text/plain": [
       "BusinessTravel  Non-Travel  Travel_Frequently  Travel_Rarely\n",
       "Attrition                                                   \n",
       "0                     92.0          75.090253      85.043145\n",
       "1                      8.0          24.909747      14.956855"
      ]
     },
     "execution_count": 67,
     "metadata": {},
     "output_type": "execute_result"
    }
   ],
   "source": [
    "#Does more business travel lead to higher attrition?\n",
    "#Proportional Analysis \n",
    "coltotal=table_BusinessTravel.sum(axis=0)\n",
    "p_business=table_BusinessTravel.div(coltotal,axis=1)*100\n",
    "p_business"
   ]
  },
  {
   "cell_type": "markdown",
   "id": "a7720d86",
   "metadata": {
    "id": "a7720d86"
   },
   "source": [
    "Does more business travel lead to higher attrition?\n",
    "\n",
    "From our analysis, it has been observed that as the travel frequency increases, attrition also increases.\n"
   ]
  },
  {
   "cell_type": "markdown",
   "id": "87cc1a02",
   "metadata": {
    "id": "87cc1a02"
   },
   "source": [
    "## Job Involvement"
   ]
  },
  {
   "cell_type": "code",
   "execution_count": 68,
   "id": "4dfb184e",
   "metadata": {
    "colab": {
     "base_uri": "https://localhost:8080/",
     "height": 143
    },
    "id": "4dfb184e",
    "outputId": "323bc46d-bc79-4705-e639-ecfcb9454a47"
   },
   "outputs": [
    {
     "data": {
      "text/html": [
       "<div>\n",
       "<style scoped>\n",
       "    .dataframe tbody tr th:only-of-type {\n",
       "        vertical-align: middle;\n",
       "    }\n",
       "\n",
       "    .dataframe tbody tr th {\n",
       "        vertical-align: top;\n",
       "    }\n",
       "\n",
       "    .dataframe thead th {\n",
       "        text-align: right;\n",
       "    }\n",
       "</style>\n",
       "<table border=\"1\" class=\"dataframe\">\n",
       "  <thead>\n",
       "    <tr style=\"text-align: right;\">\n",
       "      <th>JobInvolvement</th>\n",
       "      <th>1</th>\n",
       "      <th>2</th>\n",
       "      <th>3</th>\n",
       "      <th>4</th>\n",
       "    </tr>\n",
       "    <tr>\n",
       "      <th>Attrition</th>\n",
       "      <th></th>\n",
       "      <th></th>\n",
       "      <th></th>\n",
       "      <th></th>\n",
       "    </tr>\n",
       "  </thead>\n",
       "  <tbody>\n",
       "    <tr>\n",
       "      <th>0</th>\n",
       "      <td>55</td>\n",
       "      <td>304</td>\n",
       "      <td>743</td>\n",
       "      <td>131</td>\n",
       "    </tr>\n",
       "    <tr>\n",
       "      <th>1</th>\n",
       "      <td>28</td>\n",
       "      <td>71</td>\n",
       "      <td>125</td>\n",
       "      <td>13</td>\n",
       "    </tr>\n",
       "  </tbody>\n",
       "</table>\n",
       "</div>"
      ],
      "text/plain": [
       "JobInvolvement   1    2    3    4\n",
       "Attrition                        \n",
       "0               55  304  743  131\n",
       "1               28   71  125   13"
      ]
     },
     "execution_count": 68,
     "metadata": {},
     "output_type": "execute_result"
    }
   ],
   "source": [
    "table=pd.crosstab(att.Attrition,columns=att.JobInvolvement)\n",
    "table"
   ]
  },
  {
   "cell_type": "code",
   "execution_count": 69,
   "id": "ccf0a4ca",
   "metadata": {
    "colab": {
     "base_uri": "https://localhost:8080/",
     "height": 143
    },
    "id": "ccf0a4ca",
    "outputId": "bc11149d-e5f7-4762-c770-c22a640d35ca"
   },
   "outputs": [
    {
     "data": {
      "text/html": [
       "<div>\n",
       "<style scoped>\n",
       "    .dataframe tbody tr th:only-of-type {\n",
       "        vertical-align: middle;\n",
       "    }\n",
       "\n",
       "    .dataframe tbody tr th {\n",
       "        vertical-align: top;\n",
       "    }\n",
       "\n",
       "    .dataframe thead th {\n",
       "        text-align: right;\n",
       "    }\n",
       "</style>\n",
       "<table border=\"1\" class=\"dataframe\">\n",
       "  <thead>\n",
       "    <tr style=\"text-align: right;\">\n",
       "      <th>JobInvolvement</th>\n",
       "      <th>1</th>\n",
       "      <th>2</th>\n",
       "      <th>3</th>\n",
       "      <th>4</th>\n",
       "    </tr>\n",
       "    <tr>\n",
       "      <th>Attrition</th>\n",
       "      <th></th>\n",
       "      <th></th>\n",
       "      <th></th>\n",
       "      <th></th>\n",
       "    </tr>\n",
       "  </thead>\n",
       "  <tbody>\n",
       "    <tr>\n",
       "      <th>0</th>\n",
       "      <td>66.26506</td>\n",
       "      <td>81.066667</td>\n",
       "      <td>85.599078</td>\n",
       "      <td>90.972222</td>\n",
       "    </tr>\n",
       "    <tr>\n",
       "      <th>1</th>\n",
       "      <td>33.73494</td>\n",
       "      <td>18.933333</td>\n",
       "      <td>14.400922</td>\n",
       "      <td>9.027778</td>\n",
       "    </tr>\n",
       "  </tbody>\n",
       "</table>\n",
       "</div>"
      ],
      "text/plain": [
       "JobInvolvement         1          2          3          4\n",
       "Attrition                                                \n",
       "0               66.26506  81.066667  85.599078  90.972222\n",
       "1               33.73494  18.933333  14.400922   9.027778"
      ]
     },
     "execution_count": 69,
     "metadata": {},
     "output_type": "execute_result"
    }
   ],
   "source": [
    "#Does higher Job involvement lead to lower attrition?\n",
    "#Proportional Analysis \n",
    "coltotal=table.sum(axis=0)\n",
    "p_JobInvolvement=table.div(coltotal,axis=1)*100\n",
    "p_JobInvolvement"
   ]
  },
  {
   "cell_type": "code",
   "execution_count": 71,
   "id": "8279cb3d",
   "metadata": {
    "colab": {
     "base_uri": "https://localhost:8080/",
     "height": 391
    },
    "id": "8279cb3d",
    "outputId": "a479c967-2a23-4929-9cbc-9b7cb6f26edd"
   },
   "outputs": [
    {
     "data": {
      "image/png": "[encoded data removed]",
      "text/plain": [
       "<Figure size 576x432 with 1 Axes>"
      ]
     },
     "metadata": {
      "needs_background": "light"
     },
     "output_type": "display_data"
    }
   ],
   "source": [
    "plt.figure(figsize=(8,6))\n",
    "att.loc[att.Attrition == 0 ,\"JobInvolvement\"].hist()\n",
    "att.loc[att.Attrition == 1 ,\"JobInvolvement\"].hist()\n",
    "plt.show()"
   ]
  },
  {
   "cell_type": "code",
   "execution_count": 72,
   "id": "856d67fd",
   "metadata": {
    "id": "856d67fd"
   },
   "outputs": [],
   "source": [
    "#att.loc[att.Attrition == 1 ,\"JobInvolvement\"].hist()"
   ]
  },
  {
   "cell_type": "code",
   "execution_count": 73,
   "id": "6b023f26",
   "metadata": {
    "colab": {
     "base_uri": "https://localhost:8080/",
     "height": 143
    },
    "id": "6b023f26",
    "outputId": "9445f1fb-dc6c-4d63-aff3-910d92b603ea"
   },
   "outputs": [
    {
     "data": {
      "text/html": [
       "<div>\n",
       "<style scoped>\n",
       "    .dataframe tbody tr th:only-of-type {\n",
       "        vertical-align: middle;\n",
       "    }\n",
       "\n",
       "    .dataframe tbody tr th {\n",
       "        vertical-align: top;\n",
       "    }\n",
       "\n",
       "    .dataframe thead th {\n",
       "        text-align: right;\n",
       "    }\n",
       "</style>\n",
       "<table border=\"1\" class=\"dataframe\">\n",
       "  <thead>\n",
       "    <tr style=\"text-align: right;\">\n",
       "      <th>JobInvolvement</th>\n",
       "      <th>1</th>\n",
       "      <th>2</th>\n",
       "      <th>3</th>\n",
       "      <th>4</th>\n",
       "    </tr>\n",
       "    <tr>\n",
       "      <th>Attrition</th>\n",
       "      <th></th>\n",
       "      <th></th>\n",
       "      <th></th>\n",
       "      <th></th>\n",
       "    </tr>\n",
       "  </thead>\n",
       "  <tbody>\n",
       "    <tr>\n",
       "      <th>0</th>\n",
       "      <td>0.037415</td>\n",
       "      <td>0.206803</td>\n",
       "      <td>0.505442</td>\n",
       "      <td>0.089116</td>\n",
       "    </tr>\n",
       "    <tr>\n",
       "      <th>1</th>\n",
       "      <td>0.019048</td>\n",
       "      <td>0.048299</td>\n",
       "      <td>0.085034</td>\n",
       "      <td>0.008844</td>\n",
       "    </tr>\n",
       "  </tbody>\n",
       "</table>\n",
       "</div>"
      ],
      "text/plain": [
       "JobInvolvement         1         2         3         4\n",
       "Attrition                                             \n",
       "0               0.037415  0.206803  0.505442  0.089116\n",
       "1               0.019048  0.048299  0.085034  0.008844"
      ]
     },
     "execution_count": 73,
     "metadata": {},
     "output_type": "execute_result"
    }
   ],
   "source": [
    "table/len(att)"
   ]
  },
  {
   "cell_type": "markdown",
   "id": "0a5330cb",
   "metadata": {
    "id": "0a5330cb"
   },
   "source": [
    "Does higher Job involvement lead to lower attrition?\n",
    "\n",
    "It has been observed that as Job involvement increases, attrition rate tends to decrease.\n"
   ]
  },
  {
   "cell_type": "markdown",
   "id": "c7deb120",
   "metadata": {
    "id": "c7deb120"
   },
   "source": [
    "## Department"
   ]
  },
  {
   "cell_type": "code",
   "execution_count": 74,
   "id": "3823e893",
   "metadata": {
    "colab": {
     "base_uri": "https://localhost:8080/",
     "height": 143
    },
    "id": "3823e893",
    "outputId": "631629ef-ad8b-4ab5-f20d-8b4bab14cead"
   },
   "outputs": [
    {
     "data": {
      "text/html": [
       "<div>\n",
       "<style scoped>\n",
       "    .dataframe tbody tr th:only-of-type {\n",
       "        vertical-align: middle;\n",
       "    }\n",
       "\n",
       "    .dataframe tbody tr th {\n",
       "        vertical-align: top;\n",
       "    }\n",
       "\n",
       "    .dataframe thead th {\n",
       "        text-align: right;\n",
       "    }\n",
       "</style>\n",
       "<table border=\"1\" class=\"dataframe\">\n",
       "  <thead>\n",
       "    <tr style=\"text-align: right;\">\n",
       "      <th>Department</th>\n",
       "      <th>Human Resources</th>\n",
       "      <th>Research &amp; Development</th>\n",
       "      <th>Sales</th>\n",
       "    </tr>\n",
       "    <tr>\n",
       "      <th>Attrition</th>\n",
       "      <th></th>\n",
       "      <th></th>\n",
       "      <th></th>\n",
       "    </tr>\n",
       "  </thead>\n",
       "  <tbody>\n",
       "    <tr>\n",
       "      <th>0</th>\n",
       "      <td>51</td>\n",
       "      <td>828</td>\n",
       "      <td>354</td>\n",
       "    </tr>\n",
       "    <tr>\n",
       "      <th>1</th>\n",
       "      <td>12</td>\n",
       "      <td>133</td>\n",
       "      <td>92</td>\n",
       "    </tr>\n",
       "  </tbody>\n",
       "</table>\n",
       "</div>"
      ],
      "text/plain": [
       "Department  Human Resources  Research & Development  Sales\n",
       "Attrition                                                 \n",
       "0                        51                     828    354\n",
       "1                        12                     133     92"
      ]
     },
     "execution_count": 74,
     "metadata": {},
     "output_type": "execute_result"
    }
   ],
   "source": [
    "t_Department=pd.crosstab(att.Attrition,columns=att.Department)\n",
    "t_Department  #this is conditional probability\n",
    "\n",
    "#m represents marginal probability\n",
    "#j represents joint probability\n",
    "#t table  represent conditional probaility\n"
   ]
  },
  {
   "cell_type": "code",
   "execution_count": 76,
   "id": "aeb2e71c",
   "metadata": {
    "colab": {
     "base_uri": "https://localhost:8080/",
     "height": 449
    },
    "id": "aeb2e71c",
    "outputId": "aa834816-4985-4de4-8ba4-00ffb925be5b"
   },
   "outputs": [
    {
     "data": {
      "image/png": "[encoded data removed]",
      "text/plain": [
       "<Figure size 576x288 with 2 Axes>"
      ]
     },
     "metadata": {
      "needs_background": "light"
     },
     "output_type": "display_data"
    }
   ],
   "source": [
    "att.hist(column = 'Department',\n",
    "          by = 'Attrition',\n",
    "          figsize = (8,4),      # (lenght,height) of the plot\n",
    "          color = \"green\",        # color of the bars\n",
    "          edgecolor = \"Blue\")\n",
    "plt.show()"
   ]
  },
  {
   "cell_type": "code",
   "execution_count": 77,
   "id": "36c6ce32",
   "metadata": {
    "colab": {
     "base_uri": "https://localhost:8080/",
     "height": 143
    },
    "id": "36c6ce32",
    "outputId": "15fd8618-f56e-49e9-84f0-e59589129b36"
   },
   "outputs": [
    {
     "data": {
      "text/html": [
       "<div>\n",
       "<style scoped>\n",
       "    .dataframe tbody tr th:only-of-type {\n",
       "        vertical-align: middle;\n",
       "    }\n",
       "\n",
       "    .dataframe tbody tr th {\n",
       "        vertical-align: top;\n",
       "    }\n",
       "\n",
       "    .dataframe thead th {\n",
       "        text-align: right;\n",
       "    }\n",
       "</style>\n",
       "<table border=\"1\" class=\"dataframe\">\n",
       "  <thead>\n",
       "    <tr style=\"text-align: right;\">\n",
       "      <th>Department</th>\n",
       "      <th>Human Resources</th>\n",
       "      <th>Research &amp; Development</th>\n",
       "      <th>Sales</th>\n",
       "    </tr>\n",
       "    <tr>\n",
       "      <th>Attrition</th>\n",
       "      <th></th>\n",
       "      <th></th>\n",
       "      <th></th>\n",
       "    </tr>\n",
       "  </thead>\n",
       "  <tbody>\n",
       "    <tr>\n",
       "      <th>0</th>\n",
       "      <td>80.952381</td>\n",
       "      <td>86.16025</td>\n",
       "      <td>79.372197</td>\n",
       "    </tr>\n",
       "    <tr>\n",
       "      <th>1</th>\n",
       "      <td>19.047619</td>\n",
       "      <td>13.83975</td>\n",
       "      <td>20.627803</td>\n",
       "    </tr>\n",
       "  </tbody>\n",
       "</table>\n",
       "</div>"
      ],
      "text/plain": [
       "Department  Human Resources  Research & Development      Sales\n",
       "Attrition                                                     \n",
       "0                 80.952381                86.16025  79.372197\n",
       "1                 19.047619                13.83975  20.627803"
      ]
     },
     "execution_count": 77,
     "metadata": {},
     "output_type": "execute_result"
    }
   ],
   "source": [
    "#Proportional Analysis \n",
    "coltotal=t_Department.sum(axis=0)\n",
    "p_Department=t_Department.div(coltotal,axis=1)*100\n",
    "p_Department"
   ]
  },
  {
   "cell_type": "code",
   "execution_count": 78,
   "id": "440367ff",
   "metadata": {
    "colab": {
     "base_uri": "https://localhost:8080/",
     "height": 391
    },
    "id": "440367ff",
    "outputId": "5661af02-5f81-4bf4-d554-86e066c7fda6"
   },
   "outputs": [
    {
     "data": {
      "image/png": "[encoded data removed]",
      "text/plain": [
       "<Figure size 576x432 with 1 Axes>"
      ]
     },
     "metadata": {
      "needs_background": "light"
     },
     "output_type": "display_data"
    }
   ],
   "source": [
    "plt.figure(figsize=(8,6))\n",
    "att.loc[att.Attrition == 0 ,\"Department\"].hist()\n",
    "att.loc[att.Attrition == 1 ,\"Department\"].hist()\n",
    "plt.show()"
   ]
  },
  {
   "cell_type": "code",
   "execution_count": 79,
   "id": "f3db6025",
   "metadata": {
    "colab": {
     "base_uri": "https://localhost:8080/",
     "height": 143
    },
    "id": "f3db6025",
    "outputId": "b1397903-11a4-4ab4-fa9f-6a50909cd89f"
   },
   "outputs": [
    {
     "data": {
      "text/html": [
       "<div>\n",
       "<style scoped>\n",
       "    .dataframe tbody tr th:only-of-type {\n",
       "        vertical-align: middle;\n",
       "    }\n",
       "\n",
       "    .dataframe tbody tr th {\n",
       "        vertical-align: top;\n",
       "    }\n",
       "\n",
       "    .dataframe thead th {\n",
       "        text-align: right;\n",
       "    }\n",
       "</style>\n",
       "<table border=\"1\" class=\"dataframe\">\n",
       "  <thead>\n",
       "    <tr style=\"text-align: right;\">\n",
       "      <th>Department</th>\n",
       "      <th>Human Resources</th>\n",
       "      <th>Research &amp; Development</th>\n",
       "      <th>Sales</th>\n",
       "    </tr>\n",
       "    <tr>\n",
       "      <th>Attrition</th>\n",
       "      <th></th>\n",
       "      <th></th>\n",
       "      <th></th>\n",
       "    </tr>\n",
       "  </thead>\n",
       "  <tbody>\n",
       "    <tr>\n",
       "      <th>0</th>\n",
       "      <td>3.469388</td>\n",
       "      <td>56.326531</td>\n",
       "      <td>24.081633</td>\n",
       "    </tr>\n",
       "    <tr>\n",
       "      <th>1</th>\n",
       "      <td>0.816327</td>\n",
       "      <td>9.047619</td>\n",
       "      <td>6.258503</td>\n",
       "    </tr>\n",
       "  </tbody>\n",
       "</table>\n",
       "</div>"
      ],
      "text/plain": [
       "Department  Human Resources  Research & Development      Sales\n",
       "Attrition                                                     \n",
       "0                  3.469388               56.326531  24.081633\n",
       "1                  0.816327                9.047619   6.258503"
      ]
     },
     "execution_count": 79,
     "metadata": {},
     "output_type": "execute_result"
    }
   ],
   "source": [
    "#Joint Probability\n",
    "j_dept=(t_Department/len(att)*100)\n",
    "j_dept"
   ]
  },
  {
   "cell_type": "code",
   "execution_count": 80,
   "id": "15329ec2",
   "metadata": {
    "colab": {
     "base_uri": "https://localhost:8080/",
     "height": 143
    },
    "id": "15329ec2",
    "outputId": "7f45668e-3664-4d3a-ff75-6bd4ebeadb8d"
   },
   "outputs": [
    {
     "data": {
      "text/html": [
       "<div>\n",
       "<style scoped>\n",
       "    .dataframe tbody tr th:only-of-type {\n",
       "        vertical-align: middle;\n",
       "    }\n",
       "\n",
       "    .dataframe tbody tr th {\n",
       "        vertical-align: top;\n",
       "    }\n",
       "\n",
       "    .dataframe thead th {\n",
       "        text-align: right;\n",
       "    }\n",
       "</style>\n",
       "<table border=\"1\" class=\"dataframe\">\n",
       "  <thead>\n",
       "    <tr style=\"text-align: right;\">\n",
       "      <th>Department</th>\n",
       "      <th>Human Resources</th>\n",
       "      <th>Research &amp; Development</th>\n",
       "      <th>Sales</th>\n",
       "    </tr>\n",
       "    <tr>\n",
       "      <th>Attrition</th>\n",
       "      <th></th>\n",
       "      <th></th>\n",
       "      <th></th>\n",
       "    </tr>\n",
       "  </thead>\n",
       "  <tbody>\n",
       "    <tr>\n",
       "      <th>0</th>\n",
       "      <td>4.136253</td>\n",
       "      <td>67.153285</td>\n",
       "      <td>28.710462</td>\n",
       "    </tr>\n",
       "    <tr>\n",
       "      <th>1</th>\n",
       "      <td>5.063291</td>\n",
       "      <td>56.118143</td>\n",
       "      <td>38.818565</td>\n",
       "    </tr>\n",
       "  </tbody>\n",
       "</table>\n",
       "</div>"
      ],
      "text/plain": [
       "Department  Human Resources  Research & Development      Sales\n",
       "Attrition                                                     \n",
       "0                  4.136253               67.153285  28.710462\n",
       "1                  5.063291               56.118143  38.818565"
      ]
     },
     "execution_count": 80,
     "metadata": {},
     "output_type": "execute_result"
    }
   ],
   "source": [
    "#Marginal Probability\n",
    "m_dept=t_Department.div(rowtotal,axis=0)*100\n",
    "m_dept"
   ]
  },
  {
   "cell_type": "markdown",
   "id": "2bdd317a",
   "metadata": {
    "id": "2bdd317a"
   },
   "source": [
    "Which department has the maximum attrition rate within in the department?\n",
    "\n",
    "Proportionally, sales has the highest attrition rate at approx 21%. Followed closely by human resources at 19% and then R&D at 13%. Thus, people in R&D are more likely to stay.\n",
    "\n",
    "\n"
   ]
  },
  {
   "cell_type": "markdown",
   "id": "e6d6c7b0",
   "metadata": {
    "id": "e6d6c7b0"
   },
   "source": [
    "# Education field"
   ]
  },
  {
   "cell_type": "code",
   "execution_count": 81,
   "id": "a7bbf063",
   "metadata": {
    "colab": {
     "base_uri": "https://localhost:8080/",
     "height": 143
    },
    "id": "a7bbf063",
    "outputId": "f9922da3-ca94-41ac-8517-d8152056292f"
   },
   "outputs": [
    {
     "data": {
      "text/html": [
       "<div>\n",
       "<style scoped>\n",
       "    .dataframe tbody tr th:only-of-type {\n",
       "        vertical-align: middle;\n",
       "    }\n",
       "\n",
       "    .dataframe tbody tr th {\n",
       "        vertical-align: top;\n",
       "    }\n",
       "\n",
       "    .dataframe thead th {\n",
       "        text-align: right;\n",
       "    }\n",
       "</style>\n",
       "<table border=\"1\" class=\"dataframe\">\n",
       "  <thead>\n",
       "    <tr style=\"text-align: right;\">\n",
       "      <th>EducationField</th>\n",
       "      <th>Human Resources</th>\n",
       "      <th>Life Sciences</th>\n",
       "      <th>Marketing</th>\n",
       "      <th>Medical</th>\n",
       "      <th>Other</th>\n",
       "      <th>Technical Degree</th>\n",
       "    </tr>\n",
       "    <tr>\n",
       "      <th>Attrition</th>\n",
       "      <th></th>\n",
       "      <th></th>\n",
       "      <th></th>\n",
       "      <th></th>\n",
       "      <th></th>\n",
       "      <th></th>\n",
       "    </tr>\n",
       "  </thead>\n",
       "  <tbody>\n",
       "    <tr>\n",
       "      <th>0</th>\n",
       "      <td>20</td>\n",
       "      <td>517</td>\n",
       "      <td>124</td>\n",
       "      <td>401</td>\n",
       "      <td>71</td>\n",
       "      <td>100</td>\n",
       "    </tr>\n",
       "    <tr>\n",
       "      <th>1</th>\n",
       "      <td>7</td>\n",
       "      <td>89</td>\n",
       "      <td>35</td>\n",
       "      <td>63</td>\n",
       "      <td>11</td>\n",
       "      <td>32</td>\n",
       "    </tr>\n",
       "  </tbody>\n",
       "</table>\n",
       "</div>"
      ],
      "text/plain": [
       "EducationField  Human Resources  Life Sciences  Marketing  Medical  Other  \\\n",
       "Attrition                                                                   \n",
       "0                            20            517        124      401     71   \n",
       "1                             7             89         35       63     11   \n",
       "\n",
       "EducationField  Technical Degree  \n",
       "Attrition                         \n",
       "0                            100  \n",
       "1                             32  "
      ]
     },
     "execution_count": 81,
     "metadata": {},
     "output_type": "execute_result"
    }
   ],
   "source": [
    "t_EducationField=pd.crosstab(att.Attrition,columns=att.EducationField)\n",
    "t_EducationField"
   ]
  },
  {
   "cell_type": "code",
   "execution_count": 82,
   "id": "b21bee8f",
   "metadata": {
    "colab": {
     "base_uri": "https://localhost:8080/",
     "height": 412
    },
    "id": "b21bee8f",
    "outputId": "90641083-9b28-4eed-ba3c-667eb3623a80"
   },
   "outputs": [
    {
     "data": {
      "image/png": "[encoded data removed]",
      "text/plain": [
       "<Figure size 576x288 with 2 Axes>"
      ]
     },
     "metadata": {
      "needs_background": "light"
     },
     "output_type": "display_data"
    }
   ],
   "source": [
    "att.hist(column = 'EducationField',\n",
    "          by = 'Attrition',\n",
    "          grid = False,          # Do not include the grid\n",
    "          figsize = (8,4),      # (lenght,height) of the plot\n",
    "          color = \"green\",        # color of the bars\n",
    "          edgecolor = \"Blue\")\n",
    "plt.show()"
   ]
  },
  {
   "cell_type": "code",
   "execution_count": 83,
   "id": "194e27de",
   "metadata": {
    "colab": {
     "base_uri": "https://localhost:8080/",
     "height": 143
    },
    "id": "194e27de",
    "outputId": "c5141767-2614-47a8-bd13-ace1f11a6023"
   },
   "outputs": [
    {
     "data": {
      "text/html": [
       "<div>\n",
       "<style scoped>\n",
       "    .dataframe tbody tr th:only-of-type {\n",
       "        vertical-align: middle;\n",
       "    }\n",
       "\n",
       "    .dataframe tbody tr th {\n",
       "        vertical-align: top;\n",
       "    }\n",
       "\n",
       "    .dataframe thead th {\n",
       "        text-align: right;\n",
       "    }\n",
       "</style>\n",
       "<table border=\"1\" class=\"dataframe\">\n",
       "  <thead>\n",
       "    <tr style=\"text-align: right;\">\n",
       "      <th>EducationField</th>\n",
       "      <th>Human Resources</th>\n",
       "      <th>Life Sciences</th>\n",
       "      <th>Marketing</th>\n",
       "      <th>Medical</th>\n",
       "      <th>Other</th>\n",
       "      <th>Technical Degree</th>\n",
       "    </tr>\n",
       "    <tr>\n",
       "      <th>Attrition</th>\n",
       "      <th></th>\n",
       "      <th></th>\n",
       "      <th></th>\n",
       "      <th></th>\n",
       "      <th></th>\n",
       "      <th></th>\n",
       "    </tr>\n",
       "  </thead>\n",
       "  <tbody>\n",
       "    <tr>\n",
       "      <th>0</th>\n",
       "      <td>74.074074</td>\n",
       "      <td>85.313531</td>\n",
       "      <td>77.987421</td>\n",
       "      <td>86.422414</td>\n",
       "      <td>86.585366</td>\n",
       "      <td>75.757576</td>\n",
       "    </tr>\n",
       "    <tr>\n",
       "      <th>1</th>\n",
       "      <td>25.925926</td>\n",
       "      <td>14.686469</td>\n",
       "      <td>22.012579</td>\n",
       "      <td>13.577586</td>\n",
       "      <td>13.414634</td>\n",
       "      <td>24.242424</td>\n",
       "    </tr>\n",
       "  </tbody>\n",
       "</table>\n",
       "</div>"
      ],
      "text/plain": [
       "EducationField  Human Resources  Life Sciences  Marketing    Medical  \\\n",
       "Attrition                                                              \n",
       "0                     74.074074      85.313531  77.987421  86.422414   \n",
       "1                     25.925926      14.686469  22.012579  13.577586   \n",
       "\n",
       "EducationField      Other  Technical Degree  \n",
       "Attrition                                    \n",
       "0               86.585366         75.757576  \n",
       "1               13.414634         24.242424  "
      ]
     },
     "execution_count": 83,
     "metadata": {},
     "output_type": "execute_result"
    }
   ],
   "source": [
    "#Proportional Analysis \n",
    "coltotal=t_EducationField.sum(axis=0)\n",
    "p_education=t_EducationField.div(coltotal,axis=1)*100\n",
    "p_education"
   ]
  },
  {
   "cell_type": "code",
   "execution_count": 84,
   "id": "f7113b4d",
   "metadata": {
    "colab": {
     "base_uri": "https://localhost:8080/",
     "height": 391
    },
    "id": "f7113b4d",
    "outputId": "acd20530-e1dd-4af3-fd83-5441d100c2f2"
   },
   "outputs": [
    {
     "data": {
      "image/png": "[encoded data removed]",
      "text/plain": [
       "<Figure size 720x432 with 1 Axes>"
      ]
     },
     "metadata": {
      "needs_background": "light"
     },
     "output_type": "display_data"
    }
   ],
   "source": [
    "plt.figure(figsize=(10,6))\n",
    "att.loc[att.Attrition == 0 ,\"EducationField\"].hist()\n",
    "att.loc[att.Attrition == 1 ,\"EducationField\"].hist()\n",
    "plt.show()"
   ]
  },
  {
   "cell_type": "code",
   "execution_count": 85,
   "id": "d7df4e91",
   "metadata": {
    "colab": {
     "base_uri": "https://localhost:8080/",
     "height": 143
    },
    "id": "d7df4e91",
    "outputId": "bab046c9-f889-439f-cbe1-fa46655bf798"
   },
   "outputs": [
    {
     "data": {
      "text/html": [
       "<div>\n",
       "<style scoped>\n",
       "    .dataframe tbody tr th:only-of-type {\n",
       "        vertical-align: middle;\n",
       "    }\n",
       "\n",
       "    .dataframe tbody tr th {\n",
       "        vertical-align: top;\n",
       "    }\n",
       "\n",
       "    .dataframe thead th {\n",
       "        text-align: right;\n",
       "    }\n",
       "</style>\n",
       "<table border=\"1\" class=\"dataframe\">\n",
       "  <thead>\n",
       "    <tr style=\"text-align: right;\">\n",
       "      <th>EducationField</th>\n",
       "      <th>Human Resources</th>\n",
       "      <th>Life Sciences</th>\n",
       "      <th>Marketing</th>\n",
       "      <th>Medical</th>\n",
       "      <th>Other</th>\n",
       "      <th>Technical Degree</th>\n",
       "    </tr>\n",
       "    <tr>\n",
       "      <th>Attrition</th>\n",
       "      <th></th>\n",
       "      <th></th>\n",
       "      <th></th>\n",
       "      <th></th>\n",
       "      <th></th>\n",
       "      <th></th>\n",
       "    </tr>\n",
       "  </thead>\n",
       "  <tbody>\n",
       "    <tr>\n",
       "      <th>0</th>\n",
       "      <td>1.360544</td>\n",
       "      <td>35.170068</td>\n",
       "      <td>8.435374</td>\n",
       "      <td>27.278912</td>\n",
       "      <td>4.829932</td>\n",
       "      <td>6.802721</td>\n",
       "    </tr>\n",
       "    <tr>\n",
       "      <th>1</th>\n",
       "      <td>0.476190</td>\n",
       "      <td>6.054422</td>\n",
       "      <td>2.380952</td>\n",
       "      <td>4.285714</td>\n",
       "      <td>0.748299</td>\n",
       "      <td>2.176871</td>\n",
       "    </tr>\n",
       "  </tbody>\n",
       "</table>\n",
       "</div>"
      ],
      "text/plain": [
       "EducationField  Human Resources  Life Sciences  Marketing    Medical  \\\n",
       "Attrition                                                              \n",
       "0                      1.360544      35.170068   8.435374  27.278912   \n",
       "1                      0.476190       6.054422   2.380952   4.285714   \n",
       "\n",
       "EducationField     Other  Technical Degree  \n",
       "Attrition                                   \n",
       "0               4.829932          6.802721  \n",
       "1               0.748299          2.176871  "
      ]
     },
     "execution_count": 85,
     "metadata": {},
     "output_type": "execute_result"
    }
   ],
   "source": [
    "#Joint Probability in terms of percentage\n",
    "j_dept=(t_EducationField/len(att)*100)\n",
    "j_dept"
   ]
  },
  {
   "cell_type": "code",
   "execution_count": 86,
   "id": "b09b7739",
   "metadata": {
    "colab": {
     "base_uri": "https://localhost:8080/",
     "height": 143
    },
    "id": "b09b7739",
    "outputId": "80a926b9-6935-4c84-dd68-2139421d8a1f"
   },
   "outputs": [
    {
     "data": {
      "text/html": [
       "<div>\n",
       "<style scoped>\n",
       "    .dataframe tbody tr th:only-of-type {\n",
       "        vertical-align: middle;\n",
       "    }\n",
       "\n",
       "    .dataframe tbody tr th {\n",
       "        vertical-align: top;\n",
       "    }\n",
       "\n",
       "    .dataframe thead th {\n",
       "        text-align: right;\n",
       "    }\n",
       "</style>\n",
       "<table border=\"1\" class=\"dataframe\">\n",
       "  <thead>\n",
       "    <tr style=\"text-align: right;\">\n",
       "      <th>EducationField</th>\n",
       "      <th>Human Resources</th>\n",
       "      <th>Life Sciences</th>\n",
       "      <th>Marketing</th>\n",
       "      <th>Medical</th>\n",
       "      <th>Other</th>\n",
       "      <th>Technical Degree</th>\n",
       "    </tr>\n",
       "    <tr>\n",
       "      <th>Attrition</th>\n",
       "      <th></th>\n",
       "      <th></th>\n",
       "      <th></th>\n",
       "      <th></th>\n",
       "      <th></th>\n",
       "      <th></th>\n",
       "    </tr>\n",
       "  </thead>\n",
       "  <tbody>\n",
       "    <tr>\n",
       "      <th>0</th>\n",
       "      <td>1.622060</td>\n",
       "      <td>41.930251</td>\n",
       "      <td>10.056772</td>\n",
       "      <td>32.522303</td>\n",
       "      <td>5.758313</td>\n",
       "      <td>8.11030</td>\n",
       "    </tr>\n",
       "    <tr>\n",
       "      <th>1</th>\n",
       "      <td>2.953586</td>\n",
       "      <td>37.552743</td>\n",
       "      <td>14.767932</td>\n",
       "      <td>26.582278</td>\n",
       "      <td>4.641350</td>\n",
       "      <td>13.50211</td>\n",
       "    </tr>\n",
       "  </tbody>\n",
       "</table>\n",
       "</div>"
      ],
      "text/plain": [
       "EducationField  Human Resources  Life Sciences  Marketing    Medical  \\\n",
       "Attrition                                                              \n",
       "0                      1.622060      41.930251  10.056772  32.522303   \n",
       "1                      2.953586      37.552743  14.767932  26.582278   \n",
       "\n",
       "EducationField     Other  Technical Degree  \n",
       "Attrition                                   \n",
       "0               5.758313           8.11030  \n",
       "1               4.641350          13.50211  "
      ]
     },
     "execution_count": 86,
     "metadata": {},
     "output_type": "execute_result"
    }
   ],
   "source": [
    "#Marginal Probability  in terms of percentage\n",
    "m_dept=t_EducationField.div(rowtotal,axis=0)*100\n",
    "m_dept"
   ]
  },
  {
   "cell_type": "markdown",
   "id": "d7afdd8c",
   "metadata": {
    "id": "d7afdd8c"
   },
   "source": [
    "# EnvironmentSatisfaction"
   ]
  },
  {
   "cell_type": "code",
   "execution_count": 87,
   "id": "4a9cc084",
   "metadata": {
    "colab": {
     "base_uri": "https://localhost:8080/",
     "height": 143
    },
    "id": "4a9cc084",
    "outputId": "0f922dc4-f376-4ea0-ff54-4f8dbee62788"
   },
   "outputs": [
    {
     "data": {
      "text/html": [
       "<div>\n",
       "<style scoped>\n",
       "    .dataframe tbody tr th:only-of-type {\n",
       "        vertical-align: middle;\n",
       "    }\n",
       "\n",
       "    .dataframe tbody tr th {\n",
       "        vertical-align: top;\n",
       "    }\n",
       "\n",
       "    .dataframe thead th {\n",
       "        text-align: right;\n",
       "    }\n",
       "</style>\n",
       "<table border=\"1\" class=\"dataframe\">\n",
       "  <thead>\n",
       "    <tr style=\"text-align: right;\">\n",
       "      <th>EnvironmentSatisfaction</th>\n",
       "      <th>1</th>\n",
       "      <th>2</th>\n",
       "      <th>3</th>\n",
       "      <th>4</th>\n",
       "    </tr>\n",
       "    <tr>\n",
       "      <th>Attrition</th>\n",
       "      <th></th>\n",
       "      <th></th>\n",
       "      <th></th>\n",
       "      <th></th>\n",
       "    </tr>\n",
       "  </thead>\n",
       "  <tbody>\n",
       "    <tr>\n",
       "      <th>0</th>\n",
       "      <td>212</td>\n",
       "      <td>244</td>\n",
       "      <td>391</td>\n",
       "      <td>386</td>\n",
       "    </tr>\n",
       "    <tr>\n",
       "      <th>1</th>\n",
       "      <td>72</td>\n",
       "      <td>43</td>\n",
       "      <td>62</td>\n",
       "      <td>60</td>\n",
       "    </tr>\n",
       "  </tbody>\n",
       "</table>\n",
       "</div>"
      ],
      "text/plain": [
       "EnvironmentSatisfaction    1    2    3    4\n",
       "Attrition                                  \n",
       "0                        212  244  391  386\n",
       "1                         72   43   62   60"
      ]
     },
     "execution_count": 87,
     "metadata": {},
     "output_type": "execute_result"
    }
   ],
   "source": [
    "t_EnvironmentSatisfaction=pd.crosstab(att.Attrition,columns=att.EnvironmentSatisfaction)\n",
    "t_EnvironmentSatisfaction"
   ]
  },
  {
   "cell_type": "code",
   "execution_count": 90,
   "id": "dcd13192",
   "metadata": {
    "colab": {
     "base_uri": "https://localhost:8080/",
     "height": 328
    },
    "id": "dcd13192",
    "outputId": "8d9f7231-55de-44ad-e974-16cce38fb0c8"
   },
   "outputs": [
    {
     "data": {
      "image/png": "[encoded data removed]",
      "text/plain": [
       "<Figure size 576x288 with 2 Axes>"
      ]
     },
     "metadata": {
      "needs_background": "light"
     },
     "output_type": "display_data"
    }
   ],
   "source": [
    "att.hist(column = 'EnvironmentSatisfaction',\n",
    "          by = 'Attrition',\n",
    "          grid = False,          # Do not include the grid\n",
    "          figsize = (8,4),      # (lenght,height) of the plot\n",
    "          color = \"green\",        # color of the bars\n",
    "          edgecolor = \"Blue\")\n",
    "plt.show()"
   ]
  },
  {
   "cell_type": "code",
   "execution_count": 91,
   "id": "b9ca57e1",
   "metadata": {
    "colab": {
     "base_uri": "https://localhost:8080/",
     "height": 143
    },
    "id": "b9ca57e1",
    "outputId": "20755f74-50bd-4fbf-bc17-8143d79be7c6"
   },
   "outputs": [
    {
     "data": {
      "text/html": [
       "<div>\n",
       "<style scoped>\n",
       "    .dataframe tbody tr th:only-of-type {\n",
       "        vertical-align: middle;\n",
       "    }\n",
       "\n",
       "    .dataframe tbody tr th {\n",
       "        vertical-align: top;\n",
       "    }\n",
       "\n",
       "    .dataframe thead th {\n",
       "        text-align: right;\n",
       "    }\n",
       "</style>\n",
       "<table border=\"1\" class=\"dataframe\">\n",
       "  <thead>\n",
       "    <tr style=\"text-align: right;\">\n",
       "      <th>EnvironmentSatisfaction</th>\n",
       "      <th>1</th>\n",
       "      <th>2</th>\n",
       "      <th>3</th>\n",
       "      <th>4</th>\n",
       "    </tr>\n",
       "    <tr>\n",
       "      <th>Attrition</th>\n",
       "      <th></th>\n",
       "      <th></th>\n",
       "      <th></th>\n",
       "      <th></th>\n",
       "    </tr>\n",
       "  </thead>\n",
       "  <tbody>\n",
       "    <tr>\n",
       "      <th>0</th>\n",
       "      <td>14.421769</td>\n",
       "      <td>16.598639</td>\n",
       "      <td>26.598639</td>\n",
       "      <td>26.258503</td>\n",
       "    </tr>\n",
       "    <tr>\n",
       "      <th>1</th>\n",
       "      <td>4.897959</td>\n",
       "      <td>2.925170</td>\n",
       "      <td>4.217687</td>\n",
       "      <td>4.081633</td>\n",
       "    </tr>\n",
       "  </tbody>\n",
       "</table>\n",
       "</div>"
      ],
      "text/plain": [
       "EnvironmentSatisfaction          1          2          3          4\n",
       "Attrition                                                          \n",
       "0                        14.421769  16.598639  26.598639  26.258503\n",
       "1                         4.897959   2.925170   4.217687   4.081633"
      ]
     },
     "execution_count": 91,
     "metadata": {},
     "output_type": "execute_result"
    }
   ],
   "source": [
    "#Joint Probability in terms of percentage\n",
    "j_esats=(t_EnvironmentSatisfaction/len(att)*100)\n",
    "j_esats"
   ]
  },
  {
   "cell_type": "code",
   "execution_count": 92,
   "id": "c851c85e",
   "metadata": {
    "colab": {
     "base_uri": "https://localhost:8080/",
     "height": 143
    },
    "id": "c851c85e",
    "outputId": "8fd9678b-0309-4d13-cef0-323bebb9f3e0"
   },
   "outputs": [
    {
     "data": {
      "text/html": [
       "<div>\n",
       "<style scoped>\n",
       "    .dataframe tbody tr th:only-of-type {\n",
       "        vertical-align: middle;\n",
       "    }\n",
       "\n",
       "    .dataframe tbody tr th {\n",
       "        vertical-align: top;\n",
       "    }\n",
       "\n",
       "    .dataframe thead th {\n",
       "        text-align: right;\n",
       "    }\n",
       "</style>\n",
       "<table border=\"1\" class=\"dataframe\">\n",
       "  <thead>\n",
       "    <tr style=\"text-align: right;\">\n",
       "      <th>EnvironmentSatisfaction</th>\n",
       "      <th>1</th>\n",
       "      <th>2</th>\n",
       "      <th>3</th>\n",
       "      <th>4</th>\n",
       "    </tr>\n",
       "    <tr>\n",
       "      <th>Attrition</th>\n",
       "      <th></th>\n",
       "      <th></th>\n",
       "      <th></th>\n",
       "      <th></th>\n",
       "    </tr>\n",
       "  </thead>\n",
       "  <tbody>\n",
       "    <tr>\n",
       "      <th>0</th>\n",
       "      <td>17.193836</td>\n",
       "      <td>19.789132</td>\n",
       "      <td>31.711273</td>\n",
       "      <td>31.305758</td>\n",
       "    </tr>\n",
       "    <tr>\n",
       "      <th>1</th>\n",
       "      <td>30.379747</td>\n",
       "      <td>18.143460</td>\n",
       "      <td>26.160338</td>\n",
       "      <td>25.316456</td>\n",
       "    </tr>\n",
       "  </tbody>\n",
       "</table>\n",
       "</div>"
      ],
      "text/plain": [
       "EnvironmentSatisfaction          1          2          3          4\n",
       "Attrition                                                          \n",
       "0                        17.193836  19.789132  31.711273  31.305758\n",
       "1                        30.379747  18.143460  26.160338  25.316456"
      ]
     },
     "execution_count": 92,
     "metadata": {},
     "output_type": "execute_result"
    }
   ],
   "source": [
    "#Marginal Probability  in terms of percentage\n",
    "m_esats=t_EnvironmentSatisfaction.div(rowtotal,axis=0)*100\n",
    "m_esats"
   ]
  },
  {
   "cell_type": "code",
   "execution_count": 93,
   "id": "59c8956b",
   "metadata": {
    "colab": {
     "base_uri": "https://localhost:8080/",
     "height": 143
    },
    "id": "59c8956b",
    "outputId": "06ec2370-0ebb-430f-8dc8-a35a7acd82f1"
   },
   "outputs": [
    {
     "data": {
      "text/html": [
       "<div>\n",
       "<style scoped>\n",
       "    .dataframe tbody tr th:only-of-type {\n",
       "        vertical-align: middle;\n",
       "    }\n",
       "\n",
       "    .dataframe tbody tr th {\n",
       "        vertical-align: top;\n",
       "    }\n",
       "\n",
       "    .dataframe thead th {\n",
       "        text-align: right;\n",
       "    }\n",
       "</style>\n",
       "<table border=\"1\" class=\"dataframe\">\n",
       "  <thead>\n",
       "    <tr style=\"text-align: right;\">\n",
       "      <th>EnvironmentSatisfaction</th>\n",
       "      <th>1</th>\n",
       "      <th>2</th>\n",
       "      <th>3</th>\n",
       "      <th>4</th>\n",
       "    </tr>\n",
       "    <tr>\n",
       "      <th>Attrition</th>\n",
       "      <th></th>\n",
       "      <th></th>\n",
       "      <th></th>\n",
       "      <th></th>\n",
       "    </tr>\n",
       "  </thead>\n",
       "  <tbody>\n",
       "    <tr>\n",
       "      <th>0</th>\n",
       "      <td>74.647887</td>\n",
       "      <td>85.017422</td>\n",
       "      <td>86.313466</td>\n",
       "      <td>86.547085</td>\n",
       "    </tr>\n",
       "    <tr>\n",
       "      <th>1</th>\n",
       "      <td>25.352113</td>\n",
       "      <td>14.982578</td>\n",
       "      <td>13.686534</td>\n",
       "      <td>13.452915</td>\n",
       "    </tr>\n",
       "  </tbody>\n",
       "</table>\n",
       "</div>"
      ],
      "text/plain": [
       "EnvironmentSatisfaction          1          2          3          4\n",
       "Attrition                                                          \n",
       "0                        74.647887  85.017422  86.313466  86.547085\n",
       "1                        25.352113  14.982578  13.686534  13.452915"
      ]
     },
     "execution_count": 93,
     "metadata": {},
     "output_type": "execute_result"
    }
   ],
   "source": [
    "#Proportional Analysis \n",
    "coltotal=t_EnvironmentSatisfaction.sum(axis=0)\n",
    "p_env=t_EnvironmentSatisfaction.div(coltotal,axis=1)*100\n",
    "p_env"
   ]
  },
  {
   "cell_type": "markdown",
   "id": "93e801b8",
   "metadata": {
    "id": "93e801b8"
   },
   "source": [
    "It has been noted that a higher Environment satisfaction leads to lower attrition.\n"
   ]
  },
  {
   "cell_type": "markdown",
   "id": "a3e5a8a6",
   "metadata": {
    "id": "a3e5a8a6"
   },
   "source": [
    "# GENDER"
   ]
  },
  {
   "cell_type": "code",
   "execution_count": 94,
   "id": "f415ab1b",
   "metadata": {
    "colab": {
     "base_uri": "https://localhost:8080/",
     "height": 143
    },
    "id": "f415ab1b",
    "outputId": "76fc0811-d70f-4c5f-8052-7a66652faa68"
   },
   "outputs": [
    {
     "data": {
      "text/html": [
       "<div>\n",
       "<style scoped>\n",
       "    .dataframe tbody tr th:only-of-type {\n",
       "        vertical-align: middle;\n",
       "    }\n",
       "\n",
       "    .dataframe tbody tr th {\n",
       "        vertical-align: top;\n",
       "    }\n",
       "\n",
       "    .dataframe thead th {\n",
       "        text-align: right;\n",
       "    }\n",
       "</style>\n",
       "<table border=\"1\" class=\"dataframe\">\n",
       "  <thead>\n",
       "    <tr style=\"text-align: right;\">\n",
       "      <th>Gender</th>\n",
       "      <th>Female</th>\n",
       "      <th>Male</th>\n",
       "    </tr>\n",
       "    <tr>\n",
       "      <th>Attrition</th>\n",
       "      <th></th>\n",
       "      <th></th>\n",
       "    </tr>\n",
       "  </thead>\n",
       "  <tbody>\n",
       "    <tr>\n",
       "      <th>0</th>\n",
       "      <td>501</td>\n",
       "      <td>732</td>\n",
       "    </tr>\n",
       "    <tr>\n",
       "      <th>1</th>\n",
       "      <td>87</td>\n",
       "      <td>150</td>\n",
       "    </tr>\n",
       "  </tbody>\n",
       "</table>\n",
       "</div>"
      ],
      "text/plain": [
       "Gender     Female  Male\n",
       "Attrition              \n",
       "0             501   732\n",
       "1              87   150"
      ]
     },
     "execution_count": 94,
     "metadata": {},
     "output_type": "execute_result"
    }
   ],
   "source": [
    "t_Gender=pd.crosstab(att.Attrition,columns=att.Gender)\n",
    "t_Gender"
   ]
  },
  {
   "cell_type": "code",
   "execution_count": 95,
   "id": "dfbbb364",
   "metadata": {
    "colab": {
     "base_uri": "https://localhost:8080/",
     "height": 358
    },
    "id": "dfbbb364",
    "outputId": "ed5f7b77-2572-45cc-e3e5-7b1186365fe6"
   },
   "outputs": [
    {
     "data": {
      "image/png": "[encoded data removed]",
      "text/plain": [
       "<Figure size 576x288 with 2 Axes>"
      ]
     },
     "metadata": {
      "needs_background": "light"
     },
     "output_type": "display_data"
    }
   ],
   "source": [
    "att.hist(column = 'Gender',\n",
    "          by = 'Attrition',\n",
    "          grid = False,          # Do not include the grid\n",
    "          figsize = (8,4),      # (lenght,height) of the plot\n",
    "          color = \"green\",        # color of the bars\n",
    "          edgecolor = \"Blue\")\n",
    "plt.show()"
   ]
  },
  {
   "cell_type": "code",
   "execution_count": 96,
   "id": "5d762dea",
   "metadata": {
    "colab": {
     "base_uri": "https://localhost:8080/",
     "height": 143
    },
    "id": "5d762dea",
    "outputId": "1cb08ae5-4e8c-4cf3-b256-ca208deb6a84"
   },
   "outputs": [
    {
     "data": {
      "text/html": [
       "<div>\n",
       "<style scoped>\n",
       "    .dataframe tbody tr th:only-of-type {\n",
       "        vertical-align: middle;\n",
       "    }\n",
       "\n",
       "    .dataframe tbody tr th {\n",
       "        vertical-align: top;\n",
       "    }\n",
       "\n",
       "    .dataframe thead th {\n",
       "        text-align: right;\n",
       "    }\n",
       "</style>\n",
       "<table border=\"1\" class=\"dataframe\">\n",
       "  <thead>\n",
       "    <tr style=\"text-align: right;\">\n",
       "      <th>Gender</th>\n",
       "      <th>Female</th>\n",
       "      <th>Male</th>\n",
       "    </tr>\n",
       "    <tr>\n",
       "      <th>Attrition</th>\n",
       "      <th></th>\n",
       "      <th></th>\n",
       "    </tr>\n",
       "  </thead>\n",
       "  <tbody>\n",
       "    <tr>\n",
       "      <th>0</th>\n",
       "      <td>85.204082</td>\n",
       "      <td>82.993197</td>\n",
       "    </tr>\n",
       "    <tr>\n",
       "      <th>1</th>\n",
       "      <td>14.795918</td>\n",
       "      <td>17.006803</td>\n",
       "    </tr>\n",
       "  </tbody>\n",
       "</table>\n",
       "</div>"
      ],
      "text/plain": [
       "Gender        Female       Male\n",
       "Attrition                      \n",
       "0          85.204082  82.993197\n",
       "1          14.795918  17.006803"
      ]
     },
     "execution_count": 96,
     "metadata": {},
     "output_type": "execute_result"
    }
   ],
   "source": [
    "#Proportional Analysis \n",
    "coltotal=t_Gender.sum(axis=0)\n",
    "p_Gender=t_Gender.div(coltotal,axis=1)*100\n",
    "p_Gender"
   ]
  },
  {
   "cell_type": "code",
   "execution_count": 99,
   "id": "8036467e",
   "metadata": {
    "colab": {
     "base_uri": "https://localhost:8080/",
     "height": 282
    },
    "id": "8036467e",
    "outputId": "9c3700a8-7a75-4a31-8546-e74513fc0ed5"
   },
   "outputs": [
    {
     "data": {
      "image/png": "[encoded data removed]",
      "text/plain": [
       "<Figure size 288x288 with 1 Axes>"
      ]
     },
     "metadata": {
      "needs_background": "light"
     },
     "output_type": "display_data"
    }
   ],
   "source": [
    "plt.figure(figsize=(4,4))\n",
    "att.loc[att.Attrition == 0 ,\"Gender\"].hist()\n",
    "att.loc[att.Attrition == 1 ,\"Gender\"].hist()\n",
    "plt.show()"
   ]
  },
  {
   "cell_type": "code",
   "execution_count": 100,
   "id": "db460c04",
   "metadata": {
    "colab": {
     "base_uri": "https://localhost:8080/",
     "height": 143
    },
    "id": "db460c04",
    "outputId": "4ee22043-311d-4674-ca9b-d05720775ba3"
   },
   "outputs": [
    {
     "data": {
      "text/html": [
       "<div>\n",
       "<style scoped>\n",
       "    .dataframe tbody tr th:only-of-type {\n",
       "        vertical-align: middle;\n",
       "    }\n",
       "\n",
       "    .dataframe tbody tr th {\n",
       "        vertical-align: top;\n",
       "    }\n",
       "\n",
       "    .dataframe thead th {\n",
       "        text-align: right;\n",
       "    }\n",
       "</style>\n",
       "<table border=\"1\" class=\"dataframe\">\n",
       "  <thead>\n",
       "    <tr style=\"text-align: right;\">\n",
       "      <th>Gender</th>\n",
       "      <th>Female</th>\n",
       "      <th>Male</th>\n",
       "    </tr>\n",
       "    <tr>\n",
       "      <th>Attrition</th>\n",
       "      <th></th>\n",
       "      <th></th>\n",
       "    </tr>\n",
       "  </thead>\n",
       "  <tbody>\n",
       "    <tr>\n",
       "      <th>0</th>\n",
       "      <td>34.081633</td>\n",
       "      <td>49.795918</td>\n",
       "    </tr>\n",
       "    <tr>\n",
       "      <th>1</th>\n",
       "      <td>5.918367</td>\n",
       "      <td>10.204082</td>\n",
       "    </tr>\n",
       "  </tbody>\n",
       "</table>\n",
       "</div>"
      ],
      "text/plain": [
       "Gender        Female       Male\n",
       "Attrition                      \n",
       "0          34.081633  49.795918\n",
       "1           5.918367  10.204082"
      ]
     },
     "execution_count": 100,
     "metadata": {},
     "output_type": "execute_result"
    }
   ],
   "source": [
    "#Joint Probability in terms of percentage\n",
    "j_gen=(t_Gender/len(att)*100)\n",
    "j_gen"
   ]
  },
  {
   "cell_type": "code",
   "execution_count": 101,
   "id": "bf4753a8",
   "metadata": {
    "colab": {
     "base_uri": "https://localhost:8080/",
     "height": 143
    },
    "id": "bf4753a8",
    "outputId": "d43c873b-7171-45d2-b0d6-c5c2a02275f5"
   },
   "outputs": [
    {
     "data": {
      "text/html": [
       "<div>\n",
       "<style scoped>\n",
       "    .dataframe tbody tr th:only-of-type {\n",
       "        vertical-align: middle;\n",
       "    }\n",
       "\n",
       "    .dataframe tbody tr th {\n",
       "        vertical-align: top;\n",
       "    }\n",
       "\n",
       "    .dataframe thead th {\n",
       "        text-align: right;\n",
       "    }\n",
       "</style>\n",
       "<table border=\"1\" class=\"dataframe\">\n",
       "  <thead>\n",
       "    <tr style=\"text-align: right;\">\n",
       "      <th>Gender</th>\n",
       "      <th>Female</th>\n",
       "      <th>Male</th>\n",
       "    </tr>\n",
       "    <tr>\n",
       "      <th>Attrition</th>\n",
       "      <th></th>\n",
       "      <th></th>\n",
       "    </tr>\n",
       "  </thead>\n",
       "  <tbody>\n",
       "    <tr>\n",
       "      <th>0</th>\n",
       "      <td>40.632603</td>\n",
       "      <td>59.367397</td>\n",
       "    </tr>\n",
       "    <tr>\n",
       "      <th>1</th>\n",
       "      <td>36.708861</td>\n",
       "      <td>63.291139</td>\n",
       "    </tr>\n",
       "  </tbody>\n",
       "</table>\n",
       "</div>"
      ],
      "text/plain": [
       "Gender        Female       Male\n",
       "Attrition                      \n",
       "0          40.632603  59.367397\n",
       "1          36.708861  63.291139"
      ]
     },
     "execution_count": 101,
     "metadata": {},
     "output_type": "execute_result"
    }
   ],
   "source": [
    "#Marginal Probability  in terms of percentage\n",
    "m_gen=t_Gender.div(rowtotal,axis=0)*100\n",
    "m_gen"
   ]
  },
  {
   "cell_type": "markdown",
   "id": "19f63cc9",
   "metadata": {
    "id": "19f63cc9"
   },
   "source": [
    "# JOB INVOLVEMENT"
   ]
  },
  {
   "cell_type": "code",
   "execution_count": 102,
   "id": "995838f5",
   "metadata": {
    "colab": {
     "base_uri": "https://localhost:8080/",
     "height": 143
    },
    "id": "995838f5",
    "outputId": "2d47f64d-23e4-4981-f672-837b5ea3018d"
   },
   "outputs": [
    {
     "data": {
      "text/html": [
       "<div>\n",
       "<style scoped>\n",
       "    .dataframe tbody tr th:only-of-type {\n",
       "        vertical-align: middle;\n",
       "    }\n",
       "\n",
       "    .dataframe tbody tr th {\n",
       "        vertical-align: top;\n",
       "    }\n",
       "\n",
       "    .dataframe thead th {\n",
       "        text-align: right;\n",
       "    }\n",
       "</style>\n",
       "<table border=\"1\" class=\"dataframe\">\n",
       "  <thead>\n",
       "    <tr style=\"text-align: right;\">\n",
       "      <th>JobInvolvement</th>\n",
       "      <th>1</th>\n",
       "      <th>2</th>\n",
       "      <th>3</th>\n",
       "      <th>4</th>\n",
       "    </tr>\n",
       "    <tr>\n",
       "      <th>Attrition</th>\n",
       "      <th></th>\n",
       "      <th></th>\n",
       "      <th></th>\n",
       "      <th></th>\n",
       "    </tr>\n",
       "  </thead>\n",
       "  <tbody>\n",
       "    <tr>\n",
       "      <th>0</th>\n",
       "      <td>55</td>\n",
       "      <td>304</td>\n",
       "      <td>743</td>\n",
       "      <td>131</td>\n",
       "    </tr>\n",
       "    <tr>\n",
       "      <th>1</th>\n",
       "      <td>28</td>\n",
       "      <td>71</td>\n",
       "      <td>125</td>\n",
       "      <td>13</td>\n",
       "    </tr>\n",
       "  </tbody>\n",
       "</table>\n",
       "</div>"
      ],
      "text/plain": [
       "JobInvolvement   1    2    3    4\n",
       "Attrition                        \n",
       "0               55  304  743  131\n",
       "1               28   71  125   13"
      ]
     },
     "execution_count": 102,
     "metadata": {},
     "output_type": "execute_result"
    }
   ],
   "source": [
    "t_JobInvolvement=pd.crosstab(att.Attrition,columns=att.JobInvolvement)\n",
    "t_JobInvolvement"
   ]
  },
  {
   "cell_type": "code",
   "execution_count": 104,
   "id": "ba0e24db",
   "metadata": {
    "colab": {
     "base_uri": "https://localhost:8080/",
     "height": 328
    },
    "id": "ba0e24db",
    "outputId": "8dbd58da-857b-4249-a77b-28733db6c7ca"
   },
   "outputs": [
    {
     "data": {
      "image/png": "[encoded data removed]",
      "text/plain": [
       "<Figure size 576x288 with 2 Axes>"
      ]
     },
     "metadata": {
      "needs_background": "light"
     },
     "output_type": "display_data"
    }
   ],
   "source": [
    "att.hist(column = 'JobInvolvement',\n",
    "          by = 'Attrition',\n",
    "          grid = False,          # Do not include the grid\n",
    "          figsize = (8,4),      # (lenght,height) of the plot\n",
    "          color = \"green\",        # color of the bars\n",
    "          edgecolor = \"Blue\")\n",
    "plt.show()"
   ]
  },
  {
   "cell_type": "code",
   "execution_count": 105,
   "id": "21b53797",
   "metadata": {
    "colab": {
     "base_uri": "https://localhost:8080/",
     "height": 143
    },
    "id": "21b53797",
    "outputId": "d66c8578-d656-46af-ead1-653c3aca0be9"
   },
   "outputs": [
    {
     "data": {
      "text/html": [
       "<div>\n",
       "<style scoped>\n",
       "    .dataframe tbody tr th:only-of-type {\n",
       "        vertical-align: middle;\n",
       "    }\n",
       "\n",
       "    .dataframe tbody tr th {\n",
       "        vertical-align: top;\n",
       "    }\n",
       "\n",
       "    .dataframe thead th {\n",
       "        text-align: right;\n",
       "    }\n",
       "</style>\n",
       "<table border=\"1\" class=\"dataframe\">\n",
       "  <thead>\n",
       "    <tr style=\"text-align: right;\">\n",
       "      <th>JobInvolvement</th>\n",
       "      <th>1</th>\n",
       "      <th>2</th>\n",
       "      <th>3</th>\n",
       "      <th>4</th>\n",
       "    </tr>\n",
       "    <tr>\n",
       "      <th>Attrition</th>\n",
       "      <th></th>\n",
       "      <th></th>\n",
       "      <th></th>\n",
       "      <th></th>\n",
       "    </tr>\n",
       "  </thead>\n",
       "  <tbody>\n",
       "    <tr>\n",
       "      <th>0</th>\n",
       "      <td>3.741497</td>\n",
       "      <td>20.680272</td>\n",
       "      <td>50.544218</td>\n",
       "      <td>8.911565</td>\n",
       "    </tr>\n",
       "    <tr>\n",
       "      <th>1</th>\n",
       "      <td>1.904762</td>\n",
       "      <td>4.829932</td>\n",
       "      <td>8.503401</td>\n",
       "      <td>0.884354</td>\n",
       "    </tr>\n",
       "  </tbody>\n",
       "</table>\n",
       "</div>"
      ],
      "text/plain": [
       "JobInvolvement         1          2          3         4\n",
       "Attrition                                               \n",
       "0               3.741497  20.680272  50.544218  8.911565\n",
       "1               1.904762   4.829932   8.503401  0.884354"
      ]
     },
     "execution_count": 105,
     "metadata": {},
     "output_type": "execute_result"
    }
   ],
   "source": [
    "#Joint Probability in terms of percentage\n",
    "j_JobI=(t_JobInvolvement/len(att)*100)\n",
    "j_JobI"
   ]
  },
  {
   "cell_type": "code",
   "execution_count": 106,
   "id": "3eb28dcf",
   "metadata": {
    "colab": {
     "base_uri": "https://localhost:8080/",
     "height": 143
    },
    "id": "3eb28dcf",
    "outputId": "29b43190-2000-43e1-abdb-57a9d4c8dabc"
   },
   "outputs": [
    {
     "data": {
      "text/html": [
       "<div>\n",
       "<style scoped>\n",
       "    .dataframe tbody tr th:only-of-type {\n",
       "        vertical-align: middle;\n",
       "    }\n",
       "\n",
       "    .dataframe tbody tr th {\n",
       "        vertical-align: top;\n",
       "    }\n",
       "\n",
       "    .dataframe thead th {\n",
       "        text-align: right;\n",
       "    }\n",
       "</style>\n",
       "<table border=\"1\" class=\"dataframe\">\n",
       "  <thead>\n",
       "    <tr style=\"text-align: right;\">\n",
       "      <th>JobInvolvement</th>\n",
       "      <th>1</th>\n",
       "      <th>2</th>\n",
       "      <th>3</th>\n",
       "      <th>4</th>\n",
       "    </tr>\n",
       "    <tr>\n",
       "      <th>Attrition</th>\n",
       "      <th></th>\n",
       "      <th></th>\n",
       "      <th></th>\n",
       "      <th></th>\n",
       "    </tr>\n",
       "  </thead>\n",
       "  <tbody>\n",
       "    <tr>\n",
       "      <th>0</th>\n",
       "      <td>4.460665</td>\n",
       "      <td>24.655312</td>\n",
       "      <td>60.259530</td>\n",
       "      <td>10.624493</td>\n",
       "    </tr>\n",
       "    <tr>\n",
       "      <th>1</th>\n",
       "      <td>11.814346</td>\n",
       "      <td>29.957806</td>\n",
       "      <td>52.742616</td>\n",
       "      <td>5.485232</td>\n",
       "    </tr>\n",
       "  </tbody>\n",
       "</table>\n",
       "</div>"
      ],
      "text/plain": [
       "JobInvolvement          1          2          3          4\n",
       "Attrition                                                 \n",
       "0                4.460665  24.655312  60.259530  10.624493\n",
       "1               11.814346  29.957806  52.742616   5.485232"
      ]
     },
     "execution_count": 106,
     "metadata": {},
     "output_type": "execute_result"
    }
   ],
   "source": [
    "#Marginal Probability  in terms of percentage\n",
    "m_JobI=t_JobInvolvement.div(rowtotal,axis=0)*100\n",
    "m_JobI"
   ]
  },
  {
   "cell_type": "code",
   "execution_count": 107,
   "id": "7bb32b1c",
   "metadata": {
    "colab": {
     "base_uri": "https://localhost:8080/",
     "height": 143
    },
    "id": "7bb32b1c",
    "outputId": "6ba8e3ba-af2f-494c-c0b1-1ca83118f645"
   },
   "outputs": [
    {
     "data": {
      "text/html": [
       "<div>\n",
       "<style scoped>\n",
       "    .dataframe tbody tr th:only-of-type {\n",
       "        vertical-align: middle;\n",
       "    }\n",
       "\n",
       "    .dataframe tbody tr th {\n",
       "        vertical-align: top;\n",
       "    }\n",
       "\n",
       "    .dataframe thead th {\n",
       "        text-align: right;\n",
       "    }\n",
       "</style>\n",
       "<table border=\"1\" class=\"dataframe\">\n",
       "  <thead>\n",
       "    <tr style=\"text-align: right;\">\n",
       "      <th>JobInvolvement</th>\n",
       "      <th>1</th>\n",
       "      <th>2</th>\n",
       "      <th>3</th>\n",
       "      <th>4</th>\n",
       "    </tr>\n",
       "    <tr>\n",
       "      <th>Attrition</th>\n",
       "      <th></th>\n",
       "      <th></th>\n",
       "      <th></th>\n",
       "      <th></th>\n",
       "    </tr>\n",
       "  </thead>\n",
       "  <tbody>\n",
       "    <tr>\n",
       "      <th>0</th>\n",
       "      <td>66.26506</td>\n",
       "      <td>81.066667</td>\n",
       "      <td>85.599078</td>\n",
       "      <td>90.972222</td>\n",
       "    </tr>\n",
       "    <tr>\n",
       "      <th>1</th>\n",
       "      <td>33.73494</td>\n",
       "      <td>18.933333</td>\n",
       "      <td>14.400922</td>\n",
       "      <td>9.027778</td>\n",
       "    </tr>\n",
       "  </tbody>\n",
       "</table>\n",
       "</div>"
      ],
      "text/plain": [
       "JobInvolvement         1          2          3          4\n",
       "Attrition                                                \n",
       "0               66.26506  81.066667  85.599078  90.972222\n",
       "1               33.73494  18.933333  14.400922   9.027778"
      ]
     },
     "execution_count": 107,
     "metadata": {},
     "output_type": "execute_result"
    }
   ],
   "source": [
    "#Proportional Analysis \n",
    "coltotal=t_JobInvolvement.sum(axis=0)\n",
    "p_JobInvolvement=t_JobInvolvement.div(coltotal,axis=1)*100\n",
    "p_JobInvolvement"
   ]
  },
  {
   "cell_type": "markdown",
   "id": "17490de4",
   "metadata": {
    "id": "17490de4"
   },
   "source": [
    "# JOB LEVEL"
   ]
  },
  {
   "cell_type": "code",
   "execution_count": 108,
   "id": "8ede61e2",
   "metadata": {
    "colab": {
     "base_uri": "https://localhost:8080/",
     "height": 143
    },
    "id": "8ede61e2",
    "outputId": "8139ded4-84c9-4327-97ba-3d78af97cc60"
   },
   "outputs": [
    {
     "data": {
      "text/html": [
       "<div>\n",
       "<style scoped>\n",
       "    .dataframe tbody tr th:only-of-type {\n",
       "        vertical-align: middle;\n",
       "    }\n",
       "\n",
       "    .dataframe tbody tr th {\n",
       "        vertical-align: top;\n",
       "    }\n",
       "\n",
       "    .dataframe thead th {\n",
       "        text-align: right;\n",
       "    }\n",
       "</style>\n",
       "<table border=\"1\" class=\"dataframe\">\n",
       "  <thead>\n",
       "    <tr style=\"text-align: right;\">\n",
       "      <th>JobLevel</th>\n",
       "      <th>1</th>\n",
       "      <th>2</th>\n",
       "      <th>3</th>\n",
       "      <th>4</th>\n",
       "      <th>5</th>\n",
       "    </tr>\n",
       "    <tr>\n",
       "      <th>Attrition</th>\n",
       "      <th></th>\n",
       "      <th></th>\n",
       "      <th></th>\n",
       "      <th></th>\n",
       "      <th></th>\n",
       "    </tr>\n",
       "  </thead>\n",
       "  <tbody>\n",
       "    <tr>\n",
       "      <th>0</th>\n",
       "      <td>400</td>\n",
       "      <td>482</td>\n",
       "      <td>186</td>\n",
       "      <td>101</td>\n",
       "      <td>64</td>\n",
       "    </tr>\n",
       "    <tr>\n",
       "      <th>1</th>\n",
       "      <td>143</td>\n",
       "      <td>52</td>\n",
       "      <td>32</td>\n",
       "      <td>5</td>\n",
       "      <td>5</td>\n",
       "    </tr>\n",
       "  </tbody>\n",
       "</table>\n",
       "</div>"
      ],
      "text/plain": [
       "JobLevel     1    2    3    4   5\n",
       "Attrition                        \n",
       "0          400  482  186  101  64\n",
       "1          143   52   32    5   5"
      ]
     },
     "execution_count": 108,
     "metadata": {},
     "output_type": "execute_result"
    }
   ],
   "source": [
    "t_JobLevel=pd.crosstab(att.Attrition,columns=att.JobLevel)\n",
    "t_JobLevel"
   ]
  },
  {
   "cell_type": "code",
   "execution_count": 109,
   "id": "3e37a8ab",
   "metadata": {
    "colab": {
     "base_uri": "https://localhost:8080/",
     "height": 328
    },
    "id": "3e37a8ab",
    "outputId": "5e142912-44bf-456f-8d7d-bdfb75e8e56a"
   },
   "outputs": [
    {
     "data": {
      "image/png": "[encoded data removed]",
      "text/plain": [
       "<Figure size 576x288 with 2 Axes>"
      ]
     },
     "metadata": {
      "needs_background": "light"
     },
     "output_type": "display_data"
    }
   ],
   "source": [
    "att.hist(column = 'JobInvolvement',\n",
    "          by = 'Attrition',\n",
    "          grid = False,          # Do not include the grid\n",
    "          figsize = (8,4),       # (lenght,height) of the plot\n",
    "          color = \"green\",       # color of the bars\n",
    "          edgecolor = \"Blue\")\n",
    "plt.show()"
   ]
  },
  {
   "cell_type": "code",
   "execution_count": 110,
   "id": "54203eae",
   "metadata": {
    "colab": {
     "base_uri": "https://localhost:8080/",
     "height": 143
    },
    "id": "54203eae",
    "outputId": "f095c932-5fc5-48ba-f301-7bc19ba91aac"
   },
   "outputs": [
    {
     "data": {
      "text/html": [
       "<div>\n",
       "<style scoped>\n",
       "    .dataframe tbody tr th:only-of-type {\n",
       "        vertical-align: middle;\n",
       "    }\n",
       "\n",
       "    .dataframe tbody tr th {\n",
       "        vertical-align: top;\n",
       "    }\n",
       "\n",
       "    .dataframe thead th {\n",
       "        text-align: right;\n",
       "    }\n",
       "</style>\n",
       "<table border=\"1\" class=\"dataframe\">\n",
       "  <thead>\n",
       "    <tr style=\"text-align: right;\">\n",
       "      <th>JobLevel</th>\n",
       "      <th>1</th>\n",
       "      <th>2</th>\n",
       "      <th>3</th>\n",
       "      <th>4</th>\n",
       "      <th>5</th>\n",
       "    </tr>\n",
       "    <tr>\n",
       "      <th>Attrition</th>\n",
       "      <th></th>\n",
       "      <th></th>\n",
       "      <th></th>\n",
       "      <th></th>\n",
       "      <th></th>\n",
       "    </tr>\n",
       "  </thead>\n",
       "  <tbody>\n",
       "    <tr>\n",
       "      <th>0</th>\n",
       "      <td>73.664825</td>\n",
       "      <td>90.262172</td>\n",
       "      <td>85.321101</td>\n",
       "      <td>95.283019</td>\n",
       "      <td>92.753623</td>\n",
       "    </tr>\n",
       "    <tr>\n",
       "      <th>1</th>\n",
       "      <td>26.335175</td>\n",
       "      <td>9.737828</td>\n",
       "      <td>14.678899</td>\n",
       "      <td>4.716981</td>\n",
       "      <td>7.246377</td>\n",
       "    </tr>\n",
       "  </tbody>\n",
       "</table>\n",
       "</div>"
      ],
      "text/plain": [
       "JobLevel           1          2          3          4          5\n",
       "Attrition                                                       \n",
       "0          73.664825  90.262172  85.321101  95.283019  92.753623\n",
       "1          26.335175   9.737828  14.678899   4.716981   7.246377"
      ]
     },
     "execution_count": 110,
     "metadata": {},
     "output_type": "execute_result"
    }
   ],
   "source": [
    "#Proportional Analysis \n",
    "coltotal=t_JobLevel.sum(axis=0)\n",
    "p_JobLevel=t_JobLevel.div(coltotal,axis=1)*100\n",
    "p_JobLevel"
   ]
  },
  {
   "cell_type": "code",
   "execution_count": 112,
   "id": "d9e503cb",
   "metadata": {
    "colab": {
     "base_uri": "https://localhost:8080/",
     "height": 391
    },
    "id": "d9e503cb",
    "outputId": "4241a4b5-d7e5-4a04-939f-1fe4ed161092"
   },
   "outputs": [
    {
     "data": {
      "image/png": "[encoded data removed]",
      "text/plain": [
       "<Figure size 432x432 with 1 Axes>"
      ]
     },
     "metadata": {
      "needs_background": "light"
     },
     "output_type": "display_data"
    }
   ],
   "source": [
    "plt.figure(figsize=(6,6))\n",
    "att.loc[att.Attrition == 0 ,\"JobInvolvement\"].hist()\n",
    "att.loc[att.Attrition == 1 ,\"JobInvolvement\"].hist()\n",
    "plt.show()"
   ]
  },
  {
   "cell_type": "code",
   "execution_count": 113,
   "id": "214385cb",
   "metadata": {
    "colab": {
     "base_uri": "https://localhost:8080/",
     "height": 143
    },
    "id": "214385cb",
    "outputId": "f8f5a7f8-c51c-4dbf-d5bb-3fcf8b649792"
   },
   "outputs": [
    {
     "data": {
      "text/html": [
       "<div>\n",
       "<style scoped>\n",
       "    .dataframe tbody tr th:only-of-type {\n",
       "        vertical-align: middle;\n",
       "    }\n",
       "\n",
       "    .dataframe tbody tr th {\n",
       "        vertical-align: top;\n",
       "    }\n",
       "\n",
       "    .dataframe thead th {\n",
       "        text-align: right;\n",
       "    }\n",
       "</style>\n",
       "<table border=\"1\" class=\"dataframe\">\n",
       "  <thead>\n",
       "    <tr style=\"text-align: right;\">\n",
       "      <th>JobLevel</th>\n",
       "      <th>1</th>\n",
       "      <th>2</th>\n",
       "      <th>3</th>\n",
       "      <th>4</th>\n",
       "      <th>5</th>\n",
       "    </tr>\n",
       "    <tr>\n",
       "      <th>Attrition</th>\n",
       "      <th></th>\n",
       "      <th></th>\n",
       "      <th></th>\n",
       "      <th></th>\n",
       "      <th></th>\n",
       "    </tr>\n",
       "  </thead>\n",
       "  <tbody>\n",
       "    <tr>\n",
       "      <th>0</th>\n",
       "      <td>27.210884</td>\n",
       "      <td>32.789116</td>\n",
       "      <td>12.653061</td>\n",
       "      <td>6.870748</td>\n",
       "      <td>4.353741</td>\n",
       "    </tr>\n",
       "    <tr>\n",
       "      <th>1</th>\n",
       "      <td>9.727891</td>\n",
       "      <td>3.537415</td>\n",
       "      <td>2.176871</td>\n",
       "      <td>0.340136</td>\n",
       "      <td>0.340136</td>\n",
       "    </tr>\n",
       "  </tbody>\n",
       "</table>\n",
       "</div>"
      ],
      "text/plain": [
       "JobLevel           1          2          3         4         5\n",
       "Attrition                                                     \n",
       "0          27.210884  32.789116  12.653061  6.870748  4.353741\n",
       "1           9.727891   3.537415   2.176871  0.340136  0.340136"
      ]
     },
     "execution_count": 113,
     "metadata": {},
     "output_type": "execute_result"
    }
   ],
   "source": [
    "#Joint Probability in terms of percentage\n",
    "j_JobL=(t_JobLevel/len(att)*100)\n",
    "j_JobL"
   ]
  },
  {
   "cell_type": "code",
   "execution_count": 114,
   "id": "bf04da8b",
   "metadata": {
    "colab": {
     "base_uri": "https://localhost:8080/",
     "height": 143
    },
    "id": "bf04da8b",
    "outputId": "7c08f947-ef9e-448f-fa10-76ba3796b7da"
   },
   "outputs": [
    {
     "data": {
      "text/html": [
       "<div>\n",
       "<style scoped>\n",
       "    .dataframe tbody tr th:only-of-type {\n",
       "        vertical-align: middle;\n",
       "    }\n",
       "\n",
       "    .dataframe tbody tr th {\n",
       "        vertical-align: top;\n",
       "    }\n",
       "\n",
       "    .dataframe thead th {\n",
       "        text-align: right;\n",
       "    }\n",
       "</style>\n",
       "<table border=\"1\" class=\"dataframe\">\n",
       "  <thead>\n",
       "    <tr style=\"text-align: right;\">\n",
       "      <th>JobLevel</th>\n",
       "      <th>1</th>\n",
       "      <th>2</th>\n",
       "      <th>3</th>\n",
       "      <th>4</th>\n",
       "      <th>5</th>\n",
       "    </tr>\n",
       "    <tr>\n",
       "      <th>Attrition</th>\n",
       "      <th></th>\n",
       "      <th></th>\n",
       "      <th></th>\n",
       "      <th></th>\n",
       "      <th></th>\n",
       "    </tr>\n",
       "  </thead>\n",
       "  <tbody>\n",
       "    <tr>\n",
       "      <th>0</th>\n",
       "      <td>32.441200</td>\n",
       "      <td>39.091646</td>\n",
       "      <td>15.085158</td>\n",
       "      <td>8.191403</td>\n",
       "      <td>5.190592</td>\n",
       "    </tr>\n",
       "    <tr>\n",
       "      <th>1</th>\n",
       "      <td>60.337553</td>\n",
       "      <td>21.940928</td>\n",
       "      <td>13.502110</td>\n",
       "      <td>2.109705</td>\n",
       "      <td>2.109705</td>\n",
       "    </tr>\n",
       "  </tbody>\n",
       "</table>\n",
       "</div>"
      ],
      "text/plain": [
       "JobLevel           1          2          3         4         5\n",
       "Attrition                                                     \n",
       "0          32.441200  39.091646  15.085158  8.191403  5.190592\n",
       "1          60.337553  21.940928  13.502110  2.109705  2.109705"
      ]
     },
     "execution_count": 114,
     "metadata": {},
     "output_type": "execute_result"
    }
   ],
   "source": [
    "#Marginal Probability  in terms of percentage\n",
    "m_JobL=t_JobLevel.div(rowtotal,axis=0)*100\n",
    "m_JobL"
   ]
  },
  {
   "cell_type": "markdown",
   "id": "ff1cc7b9",
   "metadata": {
    "id": "ff1cc7b9"
   },
   "source": [
    "# JobSatisfaction "
   ]
  },
  {
   "cell_type": "code",
   "execution_count": 115,
   "id": "d076f551",
   "metadata": {
    "colab": {
     "base_uri": "https://localhost:8080/",
     "height": 143
    },
    "id": "d076f551",
    "outputId": "8399d6ab-5fa3-4c8b-da01-671fbd0194c0"
   },
   "outputs": [
    {
     "data": {
      "text/html": [
       "<div>\n",
       "<style scoped>\n",
       "    .dataframe tbody tr th:only-of-type {\n",
       "        vertical-align: middle;\n",
       "    }\n",
       "\n",
       "    .dataframe tbody tr th {\n",
       "        vertical-align: top;\n",
       "    }\n",
       "\n",
       "    .dataframe thead th {\n",
       "        text-align: right;\n",
       "    }\n",
       "</style>\n",
       "<table border=\"1\" class=\"dataframe\">\n",
       "  <thead>\n",
       "    <tr style=\"text-align: right;\">\n",
       "      <th>JobSatisfaction</th>\n",
       "      <th>1</th>\n",
       "      <th>2</th>\n",
       "      <th>3</th>\n",
       "      <th>4</th>\n",
       "    </tr>\n",
       "    <tr>\n",
       "      <th>Attrition</th>\n",
       "      <th></th>\n",
       "      <th></th>\n",
       "      <th></th>\n",
       "      <th></th>\n",
       "    </tr>\n",
       "  </thead>\n",
       "  <tbody>\n",
       "    <tr>\n",
       "      <th>0</th>\n",
       "      <td>223</td>\n",
       "      <td>234</td>\n",
       "      <td>369</td>\n",
       "      <td>407</td>\n",
       "    </tr>\n",
       "    <tr>\n",
       "      <th>1</th>\n",
       "      <td>66</td>\n",
       "      <td>46</td>\n",
       "      <td>73</td>\n",
       "      <td>52</td>\n",
       "    </tr>\n",
       "  </tbody>\n",
       "</table>\n",
       "</div>"
      ],
      "text/plain": [
       "JobSatisfaction    1    2    3    4\n",
       "Attrition                          \n",
       "0                223  234  369  407\n",
       "1                 66   46   73   52"
      ]
     },
     "execution_count": 115,
     "metadata": {},
     "output_type": "execute_result"
    }
   ],
   "source": [
    "t_JobSatisfaction=pd.crosstab(att.Attrition,columns=att.JobSatisfaction)\n",
    "t_JobSatisfaction"
   ]
  },
  {
   "cell_type": "code",
   "execution_count": 117,
   "id": "2937b78c",
   "metadata": {
    "colab": {
     "base_uri": "https://localhost:8080/",
     "height": 328
    },
    "id": "2937b78c",
    "outputId": "bf2cd08d-600d-41fb-f295-5f9d3c05406c"
   },
   "outputs": [
    {
     "data": {
      "image/png": "[encoded data removed]",
      "text/plain": [
       "<Figure size 576x288 with 2 Axes>"
      ]
     },
     "metadata": {
      "needs_background": "light"
     },
     "output_type": "display_data"
    }
   ],
   "source": [
    "att.hist(column = 'JobSatisfaction',\n",
    "          by = 'Attrition',\n",
    "          grid = False,          # Do not include the grid\n",
    "          figsize = (8,4),      # (lenght,height) of the plot\n",
    "          color = \"green\",        # color of the bars\n",
    "          edgecolor = \"Blue\")\n",
    "plt.show()"
   ]
  },
  {
   "cell_type": "code",
   "execution_count": 118,
   "id": "eccc2c73",
   "metadata": {
    "colab": {
     "base_uri": "https://localhost:8080/",
     "height": 143
    },
    "id": "eccc2c73",
    "outputId": "9a2e9621-a514-415d-8f3d-3081982e5dd2"
   },
   "outputs": [
    {
     "data": {
      "text/html": [
       "<div>\n",
       "<style scoped>\n",
       "    .dataframe tbody tr th:only-of-type {\n",
       "        vertical-align: middle;\n",
       "    }\n",
       "\n",
       "    .dataframe tbody tr th {\n",
       "        vertical-align: top;\n",
       "    }\n",
       "\n",
       "    .dataframe thead th {\n",
       "        text-align: right;\n",
       "    }\n",
       "</style>\n",
       "<table border=\"1\" class=\"dataframe\">\n",
       "  <thead>\n",
       "    <tr style=\"text-align: right;\">\n",
       "      <th>JobSatisfaction</th>\n",
       "      <th>1</th>\n",
       "      <th>2</th>\n",
       "      <th>3</th>\n",
       "      <th>4</th>\n",
       "    </tr>\n",
       "    <tr>\n",
       "      <th>Attrition</th>\n",
       "      <th></th>\n",
       "      <th></th>\n",
       "      <th></th>\n",
       "      <th></th>\n",
       "    </tr>\n",
       "  </thead>\n",
       "  <tbody>\n",
       "    <tr>\n",
       "      <th>0</th>\n",
       "      <td>77.16263</td>\n",
       "      <td>83.571429</td>\n",
       "      <td>83.484163</td>\n",
       "      <td>88.671024</td>\n",
       "    </tr>\n",
       "    <tr>\n",
       "      <th>1</th>\n",
       "      <td>22.83737</td>\n",
       "      <td>16.428571</td>\n",
       "      <td>16.515837</td>\n",
       "      <td>11.328976</td>\n",
       "    </tr>\n",
       "  </tbody>\n",
       "</table>\n",
       "</div>"
      ],
      "text/plain": [
       "JobSatisfaction         1          2          3          4\n",
       "Attrition                                                 \n",
       "0                77.16263  83.571429  83.484163  88.671024\n",
       "1                22.83737  16.428571  16.515837  11.328976"
      ]
     },
     "execution_count": 118,
     "metadata": {},
     "output_type": "execute_result"
    }
   ],
   "source": [
    "#Proportional Analysis \n",
    "coltotal=t_JobSatisfaction.sum(axis=0)\n",
    "p_JobSatisfaction=t_JobSatisfaction.div(coltotal,axis=1)*100\n",
    "p_JobSatisfaction"
   ]
  },
  {
   "cell_type": "code",
   "execution_count": 120,
   "id": "89549ab2",
   "metadata": {
    "colab": {
     "base_uri": "https://localhost:8080/",
     "height": 391
    },
    "id": "89549ab2",
    "outputId": "a0029238-6915-4dd0-c05f-6f032891c7a6"
   },
   "outputs": [
    {
     "data": {
      "image/png": "[encoded data removed]",
      "text/plain": [
       "<Figure size 432x432 with 1 Axes>"
      ]
     },
     "metadata": {
      "needs_background": "light"
     },
     "output_type": "display_data"
    }
   ],
   "source": [
    "plt.figure(figsize=(6,6))\n",
    "att.loc[att.Attrition == 0 ,\"JobSatisfaction\"].hist()\n",
    "att.loc[att.Attrition == 1 ,\"JobSatisfaction\"].hist()\n",
    "plt.show()"
   ]
  },
  {
   "cell_type": "code",
   "execution_count": 121,
   "id": "321cbd38",
   "metadata": {
    "colab": {
     "base_uri": "https://localhost:8080/",
     "height": 143
    },
    "id": "321cbd38",
    "outputId": "591d1f6c-d6ec-405a-bf0e-6a84d7b4a92b"
   },
   "outputs": [
    {
     "data": {
      "text/html": [
       "<div>\n",
       "<style scoped>\n",
       "    .dataframe tbody tr th:only-of-type {\n",
       "        vertical-align: middle;\n",
       "    }\n",
       "\n",
       "    .dataframe tbody tr th {\n",
       "        vertical-align: top;\n",
       "    }\n",
       "\n",
       "    .dataframe thead th {\n",
       "        text-align: right;\n",
       "    }\n",
       "</style>\n",
       "<table border=\"1\" class=\"dataframe\">\n",
       "  <thead>\n",
       "    <tr style=\"text-align: right;\">\n",
       "      <th>JobSatisfaction</th>\n",
       "      <th>1</th>\n",
       "      <th>2</th>\n",
       "      <th>3</th>\n",
       "      <th>4</th>\n",
       "    </tr>\n",
       "    <tr>\n",
       "      <th>Attrition</th>\n",
       "      <th></th>\n",
       "      <th></th>\n",
       "      <th></th>\n",
       "      <th></th>\n",
       "    </tr>\n",
       "  </thead>\n",
       "  <tbody>\n",
       "    <tr>\n",
       "      <th>0</th>\n",
       "      <td>15.170068</td>\n",
       "      <td>15.918367</td>\n",
       "      <td>25.102041</td>\n",
       "      <td>27.687075</td>\n",
       "    </tr>\n",
       "    <tr>\n",
       "      <th>1</th>\n",
       "      <td>4.489796</td>\n",
       "      <td>3.129252</td>\n",
       "      <td>4.965986</td>\n",
       "      <td>3.537415</td>\n",
       "    </tr>\n",
       "  </tbody>\n",
       "</table>\n",
       "</div>"
      ],
      "text/plain": [
       "JobSatisfaction          1          2          3          4\n",
       "Attrition                                                  \n",
       "0                15.170068  15.918367  25.102041  27.687075\n",
       "1                 4.489796   3.129252   4.965986   3.537415"
      ]
     },
     "execution_count": 121,
     "metadata": {},
     "output_type": "execute_result"
    }
   ],
   "source": [
    "#Joint Probability in terms of percentage\n",
    "j_JobS=(t_JobSatisfaction/len(att)*100)\n",
    "j_JobS"
   ]
  },
  {
   "cell_type": "code",
   "execution_count": 122,
   "id": "18df437a",
   "metadata": {
    "colab": {
     "base_uri": "https://localhost:8080/",
     "height": 143
    },
    "id": "18df437a",
    "outputId": "d3c28d23-f637-49a1-a7b7-6d0c588eeabe"
   },
   "outputs": [
    {
     "data": {
      "text/html": [
       "<div>\n",
       "<style scoped>\n",
       "    .dataframe tbody tr th:only-of-type {\n",
       "        vertical-align: middle;\n",
       "    }\n",
       "\n",
       "    .dataframe tbody tr th {\n",
       "        vertical-align: top;\n",
       "    }\n",
       "\n",
       "    .dataframe thead th {\n",
       "        text-align: right;\n",
       "    }\n",
       "</style>\n",
       "<table border=\"1\" class=\"dataframe\">\n",
       "  <thead>\n",
       "    <tr style=\"text-align: right;\">\n",
       "      <th>JobSatisfaction</th>\n",
       "      <th>1</th>\n",
       "      <th>2</th>\n",
       "      <th>3</th>\n",
       "      <th>4</th>\n",
       "    </tr>\n",
       "    <tr>\n",
       "      <th>Attrition</th>\n",
       "      <th></th>\n",
       "      <th></th>\n",
       "      <th></th>\n",
       "      <th></th>\n",
       "    </tr>\n",
       "  </thead>\n",
       "  <tbody>\n",
       "    <tr>\n",
       "      <th>0</th>\n",
       "      <td>18.085969</td>\n",
       "      <td>18.978102</td>\n",
       "      <td>29.927007</td>\n",
       "      <td>33.008921</td>\n",
       "    </tr>\n",
       "    <tr>\n",
       "      <th>1</th>\n",
       "      <td>27.848101</td>\n",
       "      <td>19.409283</td>\n",
       "      <td>30.801688</td>\n",
       "      <td>21.940928</td>\n",
       "    </tr>\n",
       "  </tbody>\n",
       "</table>\n",
       "</div>"
      ],
      "text/plain": [
       "JobSatisfaction          1          2          3          4\n",
       "Attrition                                                  \n",
       "0                18.085969  18.978102  29.927007  33.008921\n",
       "1                27.848101  19.409283  30.801688  21.940928"
      ]
     },
     "execution_count": 122,
     "metadata": {},
     "output_type": "execute_result"
    }
   ],
   "source": [
    "#Marginal Probability  in terms of percentage\n",
    "m_JobS=t_JobSatisfaction.div(rowtotal,axis=0)*100\n",
    "m_JobS"
   ]
  },
  {
   "cell_type": "markdown",
   "id": "919781ac",
   "metadata": {
    "id": "919781ac"
   },
   "source": [
    "# MaritalStatus"
   ]
  },
  {
   "cell_type": "code",
   "execution_count": 123,
   "id": "ceed0846",
   "metadata": {
    "colab": {
     "base_uri": "https://localhost:8080/",
     "height": 143
    },
    "id": "ceed0846",
    "outputId": "f2d94000-18dc-48ef-b66c-26f578279fca"
   },
   "outputs": [
    {
     "data": {
      "text/html": [
       "<div>\n",
       "<style scoped>\n",
       "    .dataframe tbody tr th:only-of-type {\n",
       "        vertical-align: middle;\n",
       "    }\n",
       "\n",
       "    .dataframe tbody tr th {\n",
       "        vertical-align: top;\n",
       "    }\n",
       "\n",
       "    .dataframe thead th {\n",
       "        text-align: right;\n",
       "    }\n",
       "</style>\n",
       "<table border=\"1\" class=\"dataframe\">\n",
       "  <thead>\n",
       "    <tr style=\"text-align: right;\">\n",
       "      <th>MaritalStatus</th>\n",
       "      <th>Divorced</th>\n",
       "      <th>Married</th>\n",
       "      <th>Single</th>\n",
       "    </tr>\n",
       "    <tr>\n",
       "      <th>Attrition</th>\n",
       "      <th></th>\n",
       "      <th></th>\n",
       "      <th></th>\n",
       "    </tr>\n",
       "  </thead>\n",
       "  <tbody>\n",
       "    <tr>\n",
       "      <th>0</th>\n",
       "      <td>294</td>\n",
       "      <td>589</td>\n",
       "      <td>350</td>\n",
       "    </tr>\n",
       "    <tr>\n",
       "      <th>1</th>\n",
       "      <td>33</td>\n",
       "      <td>84</td>\n",
       "      <td>120</td>\n",
       "    </tr>\n",
       "  </tbody>\n",
       "</table>\n",
       "</div>"
      ],
      "text/plain": [
       "MaritalStatus  Divorced  Married  Single\n",
       "Attrition                               \n",
       "0                   294      589     350\n",
       "1                    33       84     120"
      ]
     },
     "execution_count": 123,
     "metadata": {},
     "output_type": "execute_result"
    }
   ],
   "source": [
    "t_MaritalStatus=pd.crosstab(att.Attrition,columns=att.MaritalStatus)\n",
    "t_MaritalStatus"
   ]
  },
  {
   "cell_type": "code",
   "execution_count": 124,
   "id": "af8bb2c4",
   "metadata": {
    "colab": {
     "base_uri": "https://localhost:8080/",
     "height": 143
    },
    "id": "af8bb2c4",
    "outputId": "07a29da0-0018-4910-a211-f08d37bfa105"
   },
   "outputs": [
    {
     "data": {
      "text/html": [
       "<div>\n",
       "<style scoped>\n",
       "    .dataframe tbody tr th:only-of-type {\n",
       "        vertical-align: middle;\n",
       "    }\n",
       "\n",
       "    .dataframe tbody tr th {\n",
       "        vertical-align: top;\n",
       "    }\n",
       "\n",
       "    .dataframe thead th {\n",
       "        text-align: right;\n",
       "    }\n",
       "</style>\n",
       "<table border=\"1\" class=\"dataframe\">\n",
       "  <thead>\n",
       "    <tr style=\"text-align: right;\">\n",
       "      <th>MaritalStatus</th>\n",
       "      <th>Divorced</th>\n",
       "      <th>Married</th>\n",
       "      <th>Single</th>\n",
       "    </tr>\n",
       "    <tr>\n",
       "      <th>Attrition</th>\n",
       "      <th></th>\n",
       "      <th></th>\n",
       "      <th></th>\n",
       "    </tr>\n",
       "  </thead>\n",
       "  <tbody>\n",
       "    <tr>\n",
       "      <th>0</th>\n",
       "      <td>89.908257</td>\n",
       "      <td>87.518574</td>\n",
       "      <td>74.468085</td>\n",
       "    </tr>\n",
       "    <tr>\n",
       "      <th>1</th>\n",
       "      <td>10.091743</td>\n",
       "      <td>12.481426</td>\n",
       "      <td>25.531915</td>\n",
       "    </tr>\n",
       "  </tbody>\n",
       "</table>\n",
       "</div>"
      ],
      "text/plain": [
       "MaritalStatus   Divorced    Married     Single\n",
       "Attrition                                     \n",
       "0              89.908257  87.518574  74.468085\n",
       "1              10.091743  12.481426  25.531915"
      ]
     },
     "execution_count": 124,
     "metadata": {},
     "output_type": "execute_result"
    }
   ],
   "source": [
    "#Proportional Analysis \n",
    "coltotal=t_MaritalStatus.sum(axis=0)\n",
    "p_MaritalStatus=t_MaritalStatus.div(coltotal,axis=1)*100\n",
    "p_MaritalStatus"
   ]
  },
  {
   "cell_type": "code",
   "execution_count": 125,
   "id": "6ecab945",
   "metadata": {
    "colab": {
     "base_uri": "https://localhost:8080/",
     "height": 391
    },
    "id": "6ecab945",
    "outputId": "10ca7e0c-4aa4-4bb1-a1e1-dee3df02b7cf"
   },
   "outputs": [
    {
     "data": {
      "text/plain": [
       "<AxesSubplot:>"
      ]
     },
     "execution_count": 125,
     "metadata": {},
     "output_type": "execute_result"
    },
    {
     "data": {
      "image/png": "[encoded data removed]",
      "text/plain": [
       "<Figure size 432x432 with 1 Axes>"
      ]
     },
     "metadata": {
      "needs_background": "light"
     },
     "output_type": "display_data"
    }
   ],
   "source": [
    "plt.figure(figsize=(6,6))\n",
    "att.loc[att.Attrition == 0 ,\"MaritalStatus\"].hist()\n",
    "att.loc[att.Attrition == 1 ,\"MaritalStatus\"].hist()"
   ]
  },
  {
   "cell_type": "code",
   "execution_count": 126,
   "id": "b0299dfc",
   "metadata": {
    "colab": {
     "base_uri": "https://localhost:8080/",
     "height": 143
    },
    "id": "b0299dfc",
    "outputId": "5f4e062a-5c2f-4093-cbff-722ade137126"
   },
   "outputs": [
    {
     "data": {
      "text/html": [
       "<div>\n",
       "<style scoped>\n",
       "    .dataframe tbody tr th:only-of-type {\n",
       "        vertical-align: middle;\n",
       "    }\n",
       "\n",
       "    .dataframe tbody tr th {\n",
       "        vertical-align: top;\n",
       "    }\n",
       "\n",
       "    .dataframe thead th {\n",
       "        text-align: right;\n",
       "    }\n",
       "</style>\n",
       "<table border=\"1\" class=\"dataframe\">\n",
       "  <thead>\n",
       "    <tr style=\"text-align: right;\">\n",
       "      <th>MaritalStatus</th>\n",
       "      <th>Divorced</th>\n",
       "      <th>Married</th>\n",
       "      <th>Single</th>\n",
       "    </tr>\n",
       "    <tr>\n",
       "      <th>Attrition</th>\n",
       "      <th></th>\n",
       "      <th></th>\n",
       "      <th></th>\n",
       "    </tr>\n",
       "  </thead>\n",
       "  <tbody>\n",
       "    <tr>\n",
       "      <th>0</th>\n",
       "      <td>20.000000</td>\n",
       "      <td>40.068027</td>\n",
       "      <td>23.809524</td>\n",
       "    </tr>\n",
       "    <tr>\n",
       "      <th>1</th>\n",
       "      <td>2.244898</td>\n",
       "      <td>5.714286</td>\n",
       "      <td>8.163265</td>\n",
       "    </tr>\n",
       "  </tbody>\n",
       "</table>\n",
       "</div>"
      ],
      "text/plain": [
       "MaritalStatus   Divorced    Married     Single\n",
       "Attrition                                     \n",
       "0              20.000000  40.068027  23.809524\n",
       "1               2.244898   5.714286   8.163265"
      ]
     },
     "execution_count": 126,
     "metadata": {},
     "output_type": "execute_result"
    }
   ],
   "source": [
    "#Joint Probability in terms of percentage\n",
    "j_mar=(t_MaritalStatus/len(att)*100)\n",
    "j_mar"
   ]
  },
  {
   "cell_type": "code",
   "execution_count": 127,
   "id": "03b684e0",
   "metadata": {
    "colab": {
     "base_uri": "https://localhost:8080/",
     "height": 143
    },
    "id": "03b684e0",
    "outputId": "3f689e60-5705-46c9-9349-f802048c8902"
   },
   "outputs": [
    {
     "data": {
      "text/html": [
       "<div>\n",
       "<style scoped>\n",
       "    .dataframe tbody tr th:only-of-type {\n",
       "        vertical-align: middle;\n",
       "    }\n",
       "\n",
       "    .dataframe tbody tr th {\n",
       "        vertical-align: top;\n",
       "    }\n",
       "\n",
       "    .dataframe thead th {\n",
       "        text-align: right;\n",
       "    }\n",
       "</style>\n",
       "<table border=\"1\" class=\"dataframe\">\n",
       "  <thead>\n",
       "    <tr style=\"text-align: right;\">\n",
       "      <th>MaritalStatus</th>\n",
       "      <th>Divorced</th>\n",
       "      <th>Married</th>\n",
       "      <th>Single</th>\n",
       "    </tr>\n",
       "    <tr>\n",
       "      <th>Attrition</th>\n",
       "      <th></th>\n",
       "      <th></th>\n",
       "      <th></th>\n",
       "    </tr>\n",
       "  </thead>\n",
       "  <tbody>\n",
       "    <tr>\n",
       "      <th>0</th>\n",
       "      <td>23.844282</td>\n",
       "      <td>47.769667</td>\n",
       "      <td>28.386050</td>\n",
       "    </tr>\n",
       "    <tr>\n",
       "      <th>1</th>\n",
       "      <td>13.924051</td>\n",
       "      <td>35.443038</td>\n",
       "      <td>50.632911</td>\n",
       "    </tr>\n",
       "  </tbody>\n",
       "</table>\n",
       "</div>"
      ],
      "text/plain": [
       "MaritalStatus   Divorced    Married     Single\n",
       "Attrition                                     \n",
       "0              23.844282  47.769667  28.386050\n",
       "1              13.924051  35.443038  50.632911"
      ]
     },
     "execution_count": 127,
     "metadata": {},
     "output_type": "execute_result"
    }
   ],
   "source": [
    "#Marginal Probability  in terms of percentage\n",
    "m_mar=t_MaritalStatus.div(rowtotal,axis=0)*100\n",
    "m_mar"
   ]
  },
  {
   "cell_type": "markdown",
   "id": "c78bb75e",
   "metadata": {
    "id": "c78bb75e"
   },
   "source": [
    "## Monthly Income"
   ]
  },
  {
   "cell_type": "code",
   "execution_count": 128,
   "id": "1c1c4690",
   "metadata": {
    "id": "1c1c4690"
   },
   "outputs": [],
   "source": [
    "#A lower income leads to more attrition"
   ]
  },
  {
   "cell_type": "code",
   "execution_count": 129,
   "id": "75aeb5c2",
   "metadata": {
    "colab": {
     "base_uri": "https://localhost:8080/",
     "height": 143
    },
    "id": "75aeb5c2",
    "outputId": "86566a64-c33b-49a0-995f-55fd9b58debb"
   },
   "outputs": [
    {
     "data": {
      "text/html": [
       "<div>\n",
       "<style scoped>\n",
       "    .dataframe tbody tr th:only-of-type {\n",
       "        vertical-align: middle;\n",
       "    }\n",
       "\n",
       "    .dataframe tbody tr th {\n",
       "        vertical-align: top;\n",
       "    }\n",
       "\n",
       "    .dataframe thead th {\n",
       "        text-align: right;\n",
       "    }\n",
       "</style>\n",
       "<table border=\"1\" class=\"dataframe\">\n",
       "  <thead>\n",
       "    <tr style=\"text-align: right;\">\n",
       "      <th></th>\n",
       "      <th>MonthlyIncome</th>\n",
       "    </tr>\n",
       "    <tr>\n",
       "      <th>Attrition</th>\n",
       "      <th></th>\n",
       "    </tr>\n",
       "  </thead>\n",
       "  <tbody>\n",
       "    <tr>\n",
       "      <th>0</th>\n",
       "      <td>6832.739659</td>\n",
       "    </tr>\n",
       "    <tr>\n",
       "      <th>1</th>\n",
       "      <td>4787.092827</td>\n",
       "    </tr>\n",
       "  </tbody>\n",
       "</table>\n",
       "</div>"
      ],
      "text/plain": [
       "           MonthlyIncome\n",
       "Attrition               \n",
       "0            6832.739659\n",
       "1            4787.092827"
      ]
     },
     "execution_count": 129,
     "metadata": {},
     "output_type": "execute_result"
    }
   ],
   "source": [
    "att[['Attrition','MonthlyIncome']].groupby(['Attrition']).mean()"
   ]
  },
  {
   "cell_type": "code",
   "execution_count": 130,
   "id": "7fafa185",
   "metadata": {
    "colab": {
     "base_uri": "https://localhost:8080/",
     "height": 405
    },
    "id": "7fafa185",
    "outputId": "c53d3d0c-238a-437b-e786-cde8bd537ab9"
   },
   "outputs": [
    {
     "data": {
      "image/png": "[encoded data removed]",
      "text/plain": [
       "<Figure size 288x432 with 1 Axes>"
      ]
     },
     "metadata": {
      "needs_background": "light"
     },
     "output_type": "display_data"
    }
   ],
   "source": [
    "plt.figure(figsize = (4, 6))\n",
    "sns.boxplot(x = \"Attrition\", y = \"MonthlyIncome\" , data = att )\n",
    "plt.show()"
   ]
  },
  {
   "cell_type": "markdown",
   "id": "a1c6d93d",
   "metadata": {
    "id": "a1c6d93d"
   },
   "source": [
    "# OverTime"
   ]
  },
  {
   "cell_type": "code",
   "execution_count": 131,
   "id": "448440c6",
   "metadata": {
    "colab": {
     "base_uri": "https://localhost:8080/",
     "height": 143
    },
    "id": "448440c6",
    "outputId": "b9bd9b03-f84a-4e12-9695-b4a8df07127b"
   },
   "outputs": [
    {
     "data": {
      "text/html": [
       "<div>\n",
       "<style scoped>\n",
       "    .dataframe tbody tr th:only-of-type {\n",
       "        vertical-align: middle;\n",
       "    }\n",
       "\n",
       "    .dataframe tbody tr th {\n",
       "        vertical-align: top;\n",
       "    }\n",
       "\n",
       "    .dataframe thead th {\n",
       "        text-align: right;\n",
       "    }\n",
       "</style>\n",
       "<table border=\"1\" class=\"dataframe\">\n",
       "  <thead>\n",
       "    <tr style=\"text-align: right;\">\n",
       "      <th>OverTime</th>\n",
       "      <th>No</th>\n",
       "      <th>Yes</th>\n",
       "    </tr>\n",
       "    <tr>\n",
       "      <th>Attrition</th>\n",
       "      <th></th>\n",
       "      <th></th>\n",
       "    </tr>\n",
       "  </thead>\n",
       "  <tbody>\n",
       "    <tr>\n",
       "      <th>0</th>\n",
       "      <td>944</td>\n",
       "      <td>289</td>\n",
       "    </tr>\n",
       "    <tr>\n",
       "      <th>1</th>\n",
       "      <td>110</td>\n",
       "      <td>127</td>\n",
       "    </tr>\n",
       "  </tbody>\n",
       "</table>\n",
       "</div>"
      ],
      "text/plain": [
       "OverTime    No  Yes\n",
       "Attrition          \n",
       "0          944  289\n",
       "1          110  127"
      ]
     },
     "execution_count": 131,
     "metadata": {},
     "output_type": "execute_result"
    }
   ],
   "source": [
    "t_OverTime=pd.crosstab(att.Attrition,columns=att.OverTime)\n",
    "t_OverTime"
   ]
  },
  {
   "cell_type": "code",
   "execution_count": 133,
   "id": "fab4efd8",
   "metadata": {
    "colab": {
     "base_uri": "https://localhost:8080/",
     "height": 338
    },
    "id": "fab4efd8",
    "outputId": "c8f3abd4-bb42-41c1-f7ed-6e8eb33810f1"
   },
   "outputs": [
    {
     "data": {
      "image/png": "[encoded data removed]",
      "text/plain": [
       "<Figure size 576x288 with 2 Axes>"
      ]
     },
     "metadata": {
      "needs_background": "light"
     },
     "output_type": "display_data"
    }
   ],
   "source": [
    "att.hist(column = 'OverTime',\n",
    "          by = 'Attrition',\n",
    "          grid = False,          # Do not include the grid\n",
    "          figsize = (8,4),      # (lenght,height) of the plot\n",
    "          color = \"green\",        # color of the bars\n",
    "          edgecolor = \"Blue\")\n",
    "plt.show()"
   ]
  },
  {
   "cell_type": "code",
   "execution_count": 134,
   "id": "fa5e1e40",
   "metadata": {
    "colab": {
     "base_uri": "https://localhost:8080/",
     "height": 143
    },
    "id": "fa5e1e40",
    "outputId": "a5690cdb-50d0-4df1-f9bc-bad94e6c1fc0"
   },
   "outputs": [
    {
     "data": {
      "text/html": [
       "<div>\n",
       "<style scoped>\n",
       "    .dataframe tbody tr th:only-of-type {\n",
       "        vertical-align: middle;\n",
       "    }\n",
       "\n",
       "    .dataframe tbody tr th {\n",
       "        vertical-align: top;\n",
       "    }\n",
       "\n",
       "    .dataframe thead th {\n",
       "        text-align: right;\n",
       "    }\n",
       "</style>\n",
       "<table border=\"1\" class=\"dataframe\">\n",
       "  <thead>\n",
       "    <tr style=\"text-align: right;\">\n",
       "      <th>OverTime</th>\n",
       "      <th>No</th>\n",
       "      <th>Yes</th>\n",
       "    </tr>\n",
       "    <tr>\n",
       "      <th>Attrition</th>\n",
       "      <th></th>\n",
       "      <th></th>\n",
       "    </tr>\n",
       "  </thead>\n",
       "  <tbody>\n",
       "    <tr>\n",
       "      <th>0</th>\n",
       "      <td>89.563567</td>\n",
       "      <td>69.471154</td>\n",
       "    </tr>\n",
       "    <tr>\n",
       "      <th>1</th>\n",
       "      <td>10.436433</td>\n",
       "      <td>30.528846</td>\n",
       "    </tr>\n",
       "  </tbody>\n",
       "</table>\n",
       "</div>"
      ],
      "text/plain": [
       "OverTime          No        Yes\n",
       "Attrition                      \n",
       "0          89.563567  69.471154\n",
       "1          10.436433  30.528846"
      ]
     },
     "execution_count": 134,
     "metadata": {},
     "output_type": "execute_result"
    }
   ],
   "source": [
    "#Proportional Analysis \n",
    "#Working overtime leads to more attrition?\n",
    "coltotal=t_OverTime.sum(axis=0)\n",
    "t_OverTime=t_OverTime.div(coltotal,axis=1)*100\n",
    "t_OverTime"
   ]
  },
  {
   "cell_type": "code",
   "execution_count": 135,
   "id": "e7aacdcd",
   "metadata": {
    "colab": {
     "base_uri": "https://localhost:8080/",
     "height": 391
    },
    "id": "e7aacdcd",
    "outputId": "2db65438-9f78-44bf-e491-b2bb99dda04b"
   },
   "outputs": [
    {
     "data": {
      "image/png": "[encoded data removed]",
      "text/plain": [
       "<Figure size 432x432 with 1 Axes>"
      ]
     },
     "metadata": {
      "needs_background": "light"
     },
     "output_type": "display_data"
    }
   ],
   "source": [
    "plt.figure(figsize=(6,6))\n",
    "att.loc[att.Attrition == 0 ,\"OverTime\"].hist()\n",
    "att.loc[att.Attrition == 1 ,\"OverTime\"].hist()\n",
    "plt.show()"
   ]
  },
  {
   "cell_type": "code",
   "execution_count": 136,
   "id": "8171084c",
   "metadata": {
    "colab": {
     "base_uri": "https://localhost:8080/",
     "height": 143
    },
    "id": "8171084c",
    "outputId": "e92c40ce-7456-4022-e4bc-9240859ab351"
   },
   "outputs": [
    {
     "data": {
      "text/html": [
       "<div>\n",
       "<style scoped>\n",
       "    .dataframe tbody tr th:only-of-type {\n",
       "        vertical-align: middle;\n",
       "    }\n",
       "\n",
       "    .dataframe tbody tr th {\n",
       "        vertical-align: top;\n",
       "    }\n",
       "\n",
       "    .dataframe thead th {\n",
       "        text-align: right;\n",
       "    }\n",
       "</style>\n",
       "<table border=\"1\" class=\"dataframe\">\n",
       "  <thead>\n",
       "    <tr style=\"text-align: right;\">\n",
       "      <th>OverTime</th>\n",
       "      <th>No</th>\n",
       "      <th>Yes</th>\n",
       "    </tr>\n",
       "    <tr>\n",
       "      <th>Attrition</th>\n",
       "      <th></th>\n",
       "      <th></th>\n",
       "    </tr>\n",
       "  </thead>\n",
       "  <tbody>\n",
       "    <tr>\n",
       "      <th>0</th>\n",
       "      <td>6.092760</td>\n",
       "      <td>4.725929</td>\n",
       "    </tr>\n",
       "    <tr>\n",
       "      <th>1</th>\n",
       "      <td>0.709961</td>\n",
       "      <td>2.076792</td>\n",
       "    </tr>\n",
       "  </tbody>\n",
       "</table>\n",
       "</div>"
      ],
      "text/plain": [
       "OverTime         No       Yes\n",
       "Attrition                    \n",
       "0          6.092760  4.725929\n",
       "1          0.709961  2.076792"
      ]
     },
     "execution_count": 136,
     "metadata": {},
     "output_type": "execute_result"
    }
   ],
   "source": [
    "#Joint Probability in terms of percentage\n",
    "j_OT=(t_OverTime/len(att)*100)\n",
    "j_OT"
   ]
  },
  {
   "cell_type": "code",
   "execution_count": 137,
   "id": "67b5ab26",
   "metadata": {
    "colab": {
     "base_uri": "https://localhost:8080/",
     "height": 143
    },
    "id": "67b5ab26",
    "outputId": "8f128a85-b765-4dd6-abdb-a64a5255137a"
   },
   "outputs": [
    {
     "data": {
      "text/html": [
       "<div>\n",
       "<style scoped>\n",
       "    .dataframe tbody tr th:only-of-type {\n",
       "        vertical-align: middle;\n",
       "    }\n",
       "\n",
       "    .dataframe tbody tr th {\n",
       "        vertical-align: top;\n",
       "    }\n",
       "\n",
       "    .dataframe thead th {\n",
       "        text-align: right;\n",
       "    }\n",
       "</style>\n",
       "<table border=\"1\" class=\"dataframe\">\n",
       "  <thead>\n",
       "    <tr style=\"text-align: right;\">\n",
       "      <th>OverTime</th>\n",
       "      <th>No</th>\n",
       "      <th>Yes</th>\n",
       "    </tr>\n",
       "    <tr>\n",
       "      <th>Attrition</th>\n",
       "      <th></th>\n",
       "      <th></th>\n",
       "    </tr>\n",
       "  </thead>\n",
       "  <tbody>\n",
       "    <tr>\n",
       "      <th>0</th>\n",
       "      <td>7.263874</td>\n",
       "      <td>5.634319</td>\n",
       "    </tr>\n",
       "    <tr>\n",
       "      <th>1</th>\n",
       "      <td>4.403558</td>\n",
       "      <td>12.881370</td>\n",
       "    </tr>\n",
       "  </tbody>\n",
       "</table>\n",
       "</div>"
      ],
      "text/plain": [
       "OverTime         No        Yes\n",
       "Attrition                     \n",
       "0          7.263874   5.634319\n",
       "1          4.403558  12.881370"
      ]
     },
     "execution_count": 137,
     "metadata": {},
     "output_type": "execute_result"
    }
   ],
   "source": [
    "#Marginal Probability  in terms of percentage\n",
    "m_OT=t_OverTime.div(rowtotal,axis=0)*100\n",
    "m_OT"
   ]
  },
  {
   "cell_type": "markdown",
   "id": "4ae611b4",
   "metadata": {
    "id": "4ae611b4"
   },
   "source": [
    "People have who worked over time are roughly 3 times more likely to leave.\n"
   ]
  },
  {
   "cell_type": "markdown",
   "id": "2f4951cf",
   "metadata": {
    "id": "2f4951cf"
   },
   "source": [
    "### Total Working Years"
   ]
  },
  {
   "cell_type": "code",
   "execution_count": 138,
   "id": "20b7326d",
   "metadata": {
    "colab": {
     "base_uri": "https://localhost:8080/",
     "height": 143
    },
    "id": "20b7326d",
    "outputId": "91a4b6c4-42b6-4625-a8be-f4955bab6774"
   },
   "outputs": [
    {
     "data": {
      "text/html": [
       "<div>\n",
       "<style scoped>\n",
       "    .dataframe tbody tr th:only-of-type {\n",
       "        vertical-align: middle;\n",
       "    }\n",
       "\n",
       "    .dataframe tbody tr th {\n",
       "        vertical-align: top;\n",
       "    }\n",
       "\n",
       "    .dataframe thead th {\n",
       "        text-align: right;\n",
       "    }\n",
       "</style>\n",
       "<table border=\"1\" class=\"dataframe\">\n",
       "  <thead>\n",
       "    <tr style=\"text-align: right;\">\n",
       "      <th></th>\n",
       "      <th>TotalWorkingYears</th>\n",
       "    </tr>\n",
       "    <tr>\n",
       "      <th>Attrition</th>\n",
       "      <th></th>\n",
       "    </tr>\n",
       "  </thead>\n",
       "  <tbody>\n",
       "    <tr>\n",
       "      <th>0</th>\n",
       "      <td>11.862936</td>\n",
       "    </tr>\n",
       "    <tr>\n",
       "      <th>1</th>\n",
       "      <td>8.244726</td>\n",
       "    </tr>\n",
       "  </tbody>\n",
       "</table>\n",
       "</div>"
      ],
      "text/plain": [
       "           TotalWorkingYears\n",
       "Attrition                   \n",
       "0                  11.862936\n",
       "1                   8.244726"
      ]
     },
     "execution_count": 138,
     "metadata": {},
     "output_type": "execute_result"
    }
   ],
   "source": [
    "att[['Attrition','TotalWorkingYears']].groupby(['Attrition']).mean()"
   ]
  },
  {
   "cell_type": "code",
   "execution_count": 139,
   "id": "360b5000",
   "metadata": {
    "colab": {
     "base_uri": "https://localhost:8080/",
     "height": 405
    },
    "id": "360b5000",
    "outputId": "b11f2205-d994-46c2-8338-6cef5c70fd85"
   },
   "outputs": [
    {
     "data": {
      "image/png": "[encoded data removed]",
      "text/plain": [
       "<Figure size 288x432 with 1 Axes>"
      ]
     },
     "metadata": {
      "needs_background": "light"
     },
     "output_type": "display_data"
    }
   ],
   "source": [
    "plt.figure(figsize = (4, 6))\n",
    "sns.boxplot(x = \"Attrition\", y = \"TotalWorkingYears\" , data = att )\n",
    "plt.show()"
   ]
  },
  {
   "cell_type": "markdown",
   "id": "e9a058d9",
   "metadata": {
    "id": "e9a058d9"
   },
   "source": [
    "### Worklife Balance"
   ]
  },
  {
   "cell_type": "code",
   "execution_count": 141,
   "id": "8747fa2a",
   "metadata": {
    "colab": {
     "base_uri": "https://localhost:8080/",
     "height": 143
    },
    "id": "8747fa2a",
    "outputId": "21c843ef-ac6e-4c10-b871-8ffcca77936f"
   },
   "outputs": [
    {
     "data": {
      "text/html": [
       "<div>\n",
       "<style scoped>\n",
       "    .dataframe tbody tr th:only-of-type {\n",
       "        vertical-align: middle;\n",
       "    }\n",
       "\n",
       "    .dataframe tbody tr th {\n",
       "        vertical-align: top;\n",
       "    }\n",
       "\n",
       "    .dataframe thead th {\n",
       "        text-align: right;\n",
       "    }\n",
       "</style>\n",
       "<table border=\"1\" class=\"dataframe\">\n",
       "  <thead>\n",
       "    <tr style=\"text-align: right;\">\n",
       "      <th>WorkLifeBalance</th>\n",
       "      <th>1</th>\n",
       "      <th>2</th>\n",
       "      <th>3</th>\n",
       "      <th>4</th>\n",
       "    </tr>\n",
       "    <tr>\n",
       "      <th>Attrition</th>\n",
       "      <th></th>\n",
       "      <th></th>\n",
       "      <th></th>\n",
       "      <th></th>\n",
       "    </tr>\n",
       "  </thead>\n",
       "  <tbody>\n",
       "    <tr>\n",
       "      <th>0</th>\n",
       "      <td>55</td>\n",
       "      <td>286</td>\n",
       "      <td>766</td>\n",
       "      <td>126</td>\n",
       "    </tr>\n",
       "    <tr>\n",
       "      <th>1</th>\n",
       "      <td>25</td>\n",
       "      <td>58</td>\n",
       "      <td>127</td>\n",
       "      <td>27</td>\n",
       "    </tr>\n",
       "  </tbody>\n",
       "</table>\n",
       "</div>"
      ],
      "text/plain": [
       "WorkLifeBalance   1    2    3    4\n",
       "Attrition                         \n",
       "0                55  286  766  126\n",
       "1                25   58  127   27"
      ]
     },
     "execution_count": 141,
     "metadata": {},
     "output_type": "execute_result"
    }
   ],
   "source": [
    "t_WorkLifeBalance=pd.crosstab(att.Attrition,columns=att.WorkLifeBalance)\n",
    "t_WorkLifeBalance"
   ]
  },
  {
   "cell_type": "code",
   "execution_count": 143,
   "id": "e5729a19",
   "metadata": {
    "colab": {
     "base_uri": "https://localhost:8080/",
     "height": 328
    },
    "id": "e5729a19",
    "outputId": "6fb2bb4d-4852-477c-ff32-69cd1fa5294a"
   },
   "outputs": [
    {
     "data": {
      "image/png": "[encoded data removed]",
      "text/plain": [
       "<Figure size 576x288 with 2 Axes>"
      ]
     },
     "metadata": {
      "needs_background": "light"
     },
     "output_type": "display_data"
    }
   ],
   "source": [
    "att.hist(column = 'WorkLifeBalance',\n",
    "          by = 'Attrition',\n",
    "          grid = False,          # Do not include the grid\n",
    "          figsize = (8,4),      # (lenght,height) of the plot\n",
    "          color = \"green\",        # color of the bars\n",
    "          edgecolor = \"Blue\")\n",
    "plt.show()"
   ]
  },
  {
   "cell_type": "code",
   "execution_count": 144,
   "id": "2ec5b926",
   "metadata": {
    "colab": {
     "base_uri": "https://localhost:8080/",
     "height": 143
    },
    "id": "2ec5b926",
    "outputId": "37580080-dbc4-4d73-da42-65cc152bd37d"
   },
   "outputs": [
    {
     "data": {
      "text/html": [
       "<div>\n",
       "<style scoped>\n",
       "    .dataframe tbody tr th:only-of-type {\n",
       "        vertical-align: middle;\n",
       "    }\n",
       "\n",
       "    .dataframe tbody tr th {\n",
       "        vertical-align: top;\n",
       "    }\n",
       "\n",
       "    .dataframe thead th {\n",
       "        text-align: right;\n",
       "    }\n",
       "</style>\n",
       "<table border=\"1\" class=\"dataframe\">\n",
       "  <thead>\n",
       "    <tr style=\"text-align: right;\">\n",
       "      <th>WorkLifeBalance</th>\n",
       "      <th>1</th>\n",
       "      <th>2</th>\n",
       "      <th>3</th>\n",
       "      <th>4</th>\n",
       "    </tr>\n",
       "    <tr>\n",
       "      <th>Attrition</th>\n",
       "      <th></th>\n",
       "      <th></th>\n",
       "      <th></th>\n",
       "      <th></th>\n",
       "    </tr>\n",
       "  </thead>\n",
       "  <tbody>\n",
       "    <tr>\n",
       "      <th>0</th>\n",
       "      <td>68.75</td>\n",
       "      <td>83.139535</td>\n",
       "      <td>85.778275</td>\n",
       "      <td>82.352941</td>\n",
       "    </tr>\n",
       "    <tr>\n",
       "      <th>1</th>\n",
       "      <td>31.25</td>\n",
       "      <td>16.860465</td>\n",
       "      <td>14.221725</td>\n",
       "      <td>17.647059</td>\n",
       "    </tr>\n",
       "  </tbody>\n",
       "</table>\n",
       "</div>"
      ],
      "text/plain": [
       "WorkLifeBalance      1          2          3          4\n",
       "Attrition                                              \n",
       "0                68.75  83.139535  85.778275  82.352941\n",
       "1                31.25  16.860465  14.221725  17.647059"
      ]
     },
     "execution_count": 144,
     "metadata": {},
     "output_type": "execute_result"
    }
   ],
   "source": [
    "#Proportional Analysis \n",
    "coltotal=t_WorkLifeBalance.sum(axis=0)\n",
    "p_WorkLifeBalance=t_WorkLifeBalance.div(coltotal,axis=1)*100\n",
    "p_WorkLifeBalance"
   ]
  },
  {
   "cell_type": "code",
   "execution_count": 145,
   "id": "d5515270",
   "metadata": {
    "colab": {
     "base_uri": "https://localhost:8080/",
     "height": 393
    },
    "id": "d5515270",
    "outputId": "6f17a503-981d-40dd-999d-ee276396f366"
   },
   "outputs": [
    {
     "data": {
      "image/png": "[encoded data removed]",
      "text/plain": [
       "<Figure size 432x432 with 1 Axes>"
      ]
     },
     "metadata": {
      "needs_background": "light"
     },
     "output_type": "display_data"
    }
   ],
   "source": [
    "plt.figure(figsize=(6,6))\n",
    "att.loc[att.Attrition == 0 ,\"WorkLifeBalance\"].hist()\n",
    "att.loc[att.Attrition == 1 ,\"WorkLifeBalance\"].hist()\n",
    "plt.show()"
   ]
  },
  {
   "cell_type": "markdown",
   "id": "cfe1722e",
   "metadata": {
    "id": "cfe1722e"
   },
   "source": [
    "From our analysis , we concur that people with the lowest work life balance are leaving the company. \n"
   ]
  },
  {
   "cell_type": "markdown",
   "id": "0ee22a9f",
   "metadata": {
    "id": "0ee22a9f"
   },
   "source": [
    "### Years at company\n"
   ]
  },
  {
   "cell_type": "code",
   "execution_count": 146,
   "id": "0f5bb9c2",
   "metadata": {
    "colab": {
     "base_uri": "https://localhost:8080/",
     "height": 143
    },
    "id": "0f5bb9c2",
    "outputId": "213ed1e7-1fd0-433d-91c5-172074f17c44"
   },
   "outputs": [
    {
     "data": {
      "text/html": [
       "<div>\n",
       "<style scoped>\n",
       "    .dataframe tbody tr th:only-of-type {\n",
       "        vertical-align: middle;\n",
       "    }\n",
       "\n",
       "    .dataframe tbody tr th {\n",
       "        vertical-align: top;\n",
       "    }\n",
       "\n",
       "    .dataframe thead th {\n",
       "        text-align: right;\n",
       "    }\n",
       "</style>\n",
       "<table border=\"1\" class=\"dataframe\">\n",
       "  <thead>\n",
       "    <tr style=\"text-align: right;\">\n",
       "      <th></th>\n",
       "      <th>YearsAtCompany</th>\n",
       "    </tr>\n",
       "    <tr>\n",
       "      <th>Attrition</th>\n",
       "      <th></th>\n",
       "    </tr>\n",
       "  </thead>\n",
       "  <tbody>\n",
       "    <tr>\n",
       "      <th>0</th>\n",
       "      <td>7.369019</td>\n",
       "    </tr>\n",
       "    <tr>\n",
       "      <th>1</th>\n",
       "      <td>5.130802</td>\n",
       "    </tr>\n",
       "  </tbody>\n",
       "</table>\n",
       "</div>"
      ],
      "text/plain": [
       "           YearsAtCompany\n",
       "Attrition                \n",
       "0                7.369019\n",
       "1                5.130802"
      ]
     },
     "execution_count": 146,
     "metadata": {},
     "output_type": "execute_result"
    }
   ],
   "source": [
    "att[['Attrition','YearsAtCompany']].groupby(['Attrition']).mean()"
   ]
  },
  {
   "cell_type": "code",
   "execution_count": 148,
   "id": "2b0d5e38",
   "metadata": {
    "colab": {
     "base_uri": "https://localhost:8080/",
     "height": 405
    },
    "id": "2b0d5e38",
    "outputId": "8c474892-25e8-482f-c9ad-f4b99e763010"
   },
   "outputs": [
    {
     "data": {
      "image/png": "[encoded data removed]",
      "text/plain": [
       "<Figure size 288x432 with 1 Axes>"
      ]
     },
     "metadata": {
      "needs_background": "light"
     },
     "output_type": "display_data"
    }
   ],
   "source": [
    "plt.figure(figsize = (4, 6))\n",
    "sns.boxplot(x = \"Attrition\", y = \"YearsAtCompany\" , data = att )\n",
    "plt.show()"
   ]
  },
  {
   "cell_type": "markdown",
   "id": "7a0fb43d",
   "metadata": {
    "id": "7a0fb43d"
   },
   "source": [
    "### Years in current role"
   ]
  },
  {
   "cell_type": "code",
   "execution_count": 149,
   "id": "0b50ac30",
   "metadata": {
    "colab": {
     "base_uri": "https://localhost:8080/",
     "height": 143
    },
    "id": "0b50ac30",
    "outputId": "e8106619-a0fa-4bb8-8733-e28d885fe59a"
   },
   "outputs": [
    {
     "data": {
      "text/html": [
       "<div>\n",
       "<style scoped>\n",
       "    .dataframe tbody tr th:only-of-type {\n",
       "        vertical-align: middle;\n",
       "    }\n",
       "\n",
       "    .dataframe tbody tr th {\n",
       "        vertical-align: top;\n",
       "    }\n",
       "\n",
       "    .dataframe thead th {\n",
       "        text-align: right;\n",
       "    }\n",
       "</style>\n",
       "<table border=\"1\" class=\"dataframe\">\n",
       "  <thead>\n",
       "    <tr style=\"text-align: right;\">\n",
       "      <th></th>\n",
       "      <th>YearsInCurrentRole</th>\n",
       "    </tr>\n",
       "    <tr>\n",
       "      <th>Attrition</th>\n",
       "      <th></th>\n",
       "    </tr>\n",
       "  </thead>\n",
       "  <tbody>\n",
       "    <tr>\n",
       "      <th>0</th>\n",
       "      <td>4.484185</td>\n",
       "    </tr>\n",
       "    <tr>\n",
       "      <th>1</th>\n",
       "      <td>2.902954</td>\n",
       "    </tr>\n",
       "  </tbody>\n",
       "</table>\n",
       "</div>"
      ],
      "text/plain": [
       "           YearsInCurrentRole\n",
       "Attrition                    \n",
       "0                    4.484185\n",
       "1                    2.902954"
      ]
     },
     "execution_count": 149,
     "metadata": {},
     "output_type": "execute_result"
    }
   ],
   "source": [
    "att[['Attrition','YearsInCurrentRole']].groupby(['Attrition']).mean()"
   ]
  },
  {
   "cell_type": "code",
   "execution_count": 150,
   "id": "d82db510",
   "metadata": {
    "colab": {
     "base_uri": "https://localhost:8080/",
     "height": 405
    },
    "id": "d82db510",
    "outputId": "57c33413-f6ab-4e58-8935-fc22ea86de59"
   },
   "outputs": [
    {
     "data": {
      "image/png": "[encoded data removed]",
      "text/plain": [
       "<Figure size 288x432 with 1 Axes>"
      ]
     },
     "metadata": {
      "needs_background": "light"
     },
     "output_type": "display_data"
    }
   ],
   "source": [
    "plt.figure(figsize = (4, 6))\n",
    "sns.boxplot(x = \"Attrition\", y = \"YearsInCurrentRole\" , data = att )\n",
    "plt.show()"
   ]
  },
  {
   "cell_type": "markdown",
   "id": "16bef5e0",
   "metadata": {
    "id": "16bef5e0"
   },
   "source": [
    "### Years since Last promotion"
   ]
  },
  {
   "cell_type": "code",
   "execution_count": 151,
   "id": "dbb8a0be",
   "metadata": {
    "colab": {
     "base_uri": "https://localhost:8080/",
     "height": 143
    },
    "id": "dbb8a0be",
    "outputId": "5e890f92-2f19-42f5-f865-85ebeb072b53"
   },
   "outputs": [
    {
     "data": {
      "text/html": [
       "<div>\n",
       "<style scoped>\n",
       "    .dataframe tbody tr th:only-of-type {\n",
       "        vertical-align: middle;\n",
       "    }\n",
       "\n",
       "    .dataframe tbody tr th {\n",
       "        vertical-align: top;\n",
       "    }\n",
       "\n",
       "    .dataframe thead th {\n",
       "        text-align: right;\n",
       "    }\n",
       "</style>\n",
       "<table border=\"1\" class=\"dataframe\">\n",
       "  <thead>\n",
       "    <tr style=\"text-align: right;\">\n",
       "      <th></th>\n",
       "      <th>YearsSinceLastPromotion</th>\n",
       "    </tr>\n",
       "    <tr>\n",
       "      <th>Attrition</th>\n",
       "      <th></th>\n",
       "    </tr>\n",
       "  </thead>\n",
       "  <tbody>\n",
       "    <tr>\n",
       "      <th>0</th>\n",
       "      <td>2.234388</td>\n",
       "    </tr>\n",
       "    <tr>\n",
       "      <th>1</th>\n",
       "      <td>1.945148</td>\n",
       "    </tr>\n",
       "  </tbody>\n",
       "</table>\n",
       "</div>"
      ],
      "text/plain": [
       "           YearsSinceLastPromotion\n",
       "Attrition                         \n",
       "0                         2.234388\n",
       "1                         1.945148"
      ]
     },
     "execution_count": 151,
     "metadata": {},
     "output_type": "execute_result"
    }
   ],
   "source": [
    "att[['Attrition','YearsSinceLastPromotion']].groupby(['Attrition']).mean()"
   ]
  },
  {
   "cell_type": "code",
   "execution_count": 152,
   "id": "0d5e5934",
   "metadata": {
    "colab": {
     "base_uri": "https://localhost:8080/",
     "height": 405
    },
    "id": "0d5e5934",
    "outputId": "bce920e2-e3de-4db7-ede5-735b9d4ec104"
   },
   "outputs": [
    {
     "data": {
      "image/png": "[encoded data removed]",
      "text/plain": [
       "<Figure size 288x432 with 1 Axes>"
      ]
     },
     "metadata": {
      "needs_background": "light"
     },
     "output_type": "display_data"
    }
   ],
   "source": [
    "plt.figure(figsize = (4, 6))\n",
    "sns.boxplot(x = \"Attrition\", y = \"YearsSinceLastPromotion\" , data = att )\n",
    "plt.show()"
   ]
  },
  {
   "cell_type": "markdown",
   "id": "bc360079",
   "metadata": {
    "id": "bc360079"
   },
   "source": [
    "###  Years with current manager "
   ]
  },
  {
   "cell_type": "code",
   "execution_count": 153,
   "id": "6476b3de",
   "metadata": {
    "colab": {
     "base_uri": "https://localhost:8080/",
     "height": 143
    },
    "id": "6476b3de",
    "outputId": "a55fda92-4ff4-410a-d4aa-1e0d519b06e3"
   },
   "outputs": [
    {
     "data": {
      "text/html": [
       "<div>\n",
       "<style scoped>\n",
       "    .dataframe tbody tr th:only-of-type {\n",
       "        vertical-align: middle;\n",
       "    }\n",
       "\n",
       "    .dataframe tbody tr th {\n",
       "        vertical-align: top;\n",
       "    }\n",
       "\n",
       "    .dataframe thead th {\n",
       "        text-align: right;\n",
       "    }\n",
       "</style>\n",
       "<table border=\"1\" class=\"dataframe\">\n",
       "  <thead>\n",
       "    <tr style=\"text-align: right;\">\n",
       "      <th></th>\n",
       "      <th>YearsWithCurrManager</th>\n",
       "    </tr>\n",
       "    <tr>\n",
       "      <th>Attrition</th>\n",
       "      <th></th>\n",
       "    </tr>\n",
       "  </thead>\n",
       "  <tbody>\n",
       "    <tr>\n",
       "      <th>0</th>\n",
       "      <td>4.367397</td>\n",
       "    </tr>\n",
       "    <tr>\n",
       "      <th>1</th>\n",
       "      <td>2.852321</td>\n",
       "    </tr>\n",
       "  </tbody>\n",
       "</table>\n",
       "</div>"
      ],
      "text/plain": [
       "           YearsWithCurrManager\n",
       "Attrition                      \n",
       "0                      4.367397\n",
       "1                      2.852321"
      ]
     },
     "execution_count": 153,
     "metadata": {},
     "output_type": "execute_result"
    }
   ],
   "source": [
    "att[['Attrition','YearsWithCurrManager']].groupby(['Attrition']).mean()"
   ]
  },
  {
   "cell_type": "code",
   "execution_count": 154,
   "id": "2ea72814",
   "metadata": {
    "colab": {
     "base_uri": "https://localhost:8080/",
     "height": 405
    },
    "id": "2ea72814",
    "outputId": "af68da2d-a36b-4a07-9c1e-c305c25808c6"
   },
   "outputs": [
    {
     "data": {
      "image/png": "[encoded data removed]",
      "text/plain": [
       "<Figure size 288x432 with 1 Axes>"
      ]
     },
     "metadata": {
      "needs_background": "light"
     },
     "output_type": "display_data"
    }
   ],
   "source": [
    "plt.figure(figsize = (4, 6))\n",
    "sns.boxplot(x = \"Attrition\", y = \"YearsWithCurrManager\" , data = att )\n",
    "plt.show()"
   ]
  },
  {
   "cell_type": "markdown",
   "id": "cd6832fe",
   "metadata": {
    "id": "cd6832fe"
   },
   "source": [
    "### Distance from Home"
   ]
  },
  {
   "cell_type": "code",
   "execution_count": 155,
   "id": "93f638a4",
   "metadata": {
    "colab": {
     "base_uri": "https://localhost:8080/",
     "height": 143
    },
    "id": "93f638a4",
    "outputId": "79dd4f92-b3cd-4d3a-c0e1-477322018ad3"
   },
   "outputs": [
    {
     "data": {
      "text/html": [
       "<div>\n",
       "<style scoped>\n",
       "    .dataframe tbody tr th:only-of-type {\n",
       "        vertical-align: middle;\n",
       "    }\n",
       "\n",
       "    .dataframe tbody tr th {\n",
       "        vertical-align: top;\n",
       "    }\n",
       "\n",
       "    .dataframe thead th {\n",
       "        text-align: right;\n",
       "    }\n",
       "</style>\n",
       "<table border=\"1\" class=\"dataframe\">\n",
       "  <thead>\n",
       "    <tr style=\"text-align: right;\">\n",
       "      <th></th>\n",
       "      <th>DistanceFromHome</th>\n",
       "    </tr>\n",
       "    <tr>\n",
       "      <th>Attrition</th>\n",
       "      <th></th>\n",
       "    </tr>\n",
       "  </thead>\n",
       "  <tbody>\n",
       "    <tr>\n",
       "      <th>0</th>\n",
       "      <td>8.915653</td>\n",
       "    </tr>\n",
       "    <tr>\n",
       "      <th>1</th>\n",
       "      <td>10.632911</td>\n",
       "    </tr>\n",
       "  </tbody>\n",
       "</table>\n",
       "</div>"
      ],
      "text/plain": [
       "           DistanceFromHome\n",
       "Attrition                  \n",
       "0                  8.915653\n",
       "1                 10.632911"
      ]
     },
     "execution_count": 155,
     "metadata": {},
     "output_type": "execute_result"
    }
   ],
   "source": [
    "att[['Attrition','DistanceFromHome']].groupby(['Attrition']).mean()"
   ]
  },
  {
   "cell_type": "code",
   "execution_count": 157,
   "id": "bd7946a3",
   "metadata": {
    "colab": {
     "base_uri": "https://localhost:8080/",
     "height": 405
    },
    "id": "bd7946a3",
    "outputId": "f635a081-30b9-4272-da39-d364384d60e3"
   },
   "outputs": [
    {
     "data": {
      "image/png": "[encoded data removed]",
      "text/plain": [
       "<Figure size 288x432 with 1 Axes>"
      ]
     },
     "metadata": {
      "needs_background": "light"
     },
     "output_type": "display_data"
    }
   ],
   "source": [
    "plt.figure(figsize = (4, 6))\n",
    "sns.boxplot(x = \"Attrition\", y = \"DistanceFromHome\" , data = att )\n",
    "plt.show()"
   ]
  },
  {
   "cell_type": "markdown",
   "id": "b881c877",
   "metadata": {
    "id": "b881c877"
   },
   "source": [
    "# MULTIVARIATE ANALYSIS OF VARIABLES\n"
   ]
  },
  {
   "cell_type": "code",
   "execution_count": 158,
   "id": "052cdfa0",
   "metadata": {
    "colab": {
     "base_uri": "https://localhost:8080/",
     "height": 402
    },
    "id": "052cdfa0",
    "outputId": "3c373774-2882-4f39-ec28-d2637cf5a511"
   },
   "outputs": [
    {
     "data": {
      "text/html": [
       "<div>\n",
       "<style scoped>\n",
       "    .dataframe tbody tr th:only-of-type {\n",
       "        vertical-align: middle;\n",
       "    }\n",
       "\n",
       "    .dataframe tbody tr th {\n",
       "        vertical-align: top;\n",
       "    }\n",
       "\n",
       "    .dataframe thead th {\n",
       "        text-align: right;\n",
       "    }\n",
       "</style>\n",
       "<table border=\"1\" class=\"dataframe\">\n",
       "  <thead>\n",
       "    <tr style=\"text-align: right;\">\n",
       "      <th></th>\n",
       "      <th></th>\n",
       "      <th>Age</th>\n",
       "      <th>MonthlyIncome</th>\n",
       "      <th>TotalWorkingYears</th>\n",
       "      <th>YearsAtCompany</th>\n",
       "      <th>YearsInCurrentRole</th>\n",
       "      <th>YearsSinceLastPromotion</th>\n",
       "      <th>YearsWithCurrManager</th>\n",
       "      <th>DistanceFromHome</th>\n",
       "    </tr>\n",
       "    <tr>\n",
       "      <th>Attrition</th>\n",
       "      <th>Department</th>\n",
       "      <th></th>\n",
       "      <th></th>\n",
       "      <th></th>\n",
       "      <th></th>\n",
       "      <th></th>\n",
       "      <th></th>\n",
       "      <th></th>\n",
       "      <th></th>\n",
       "    </tr>\n",
       "  </thead>\n",
       "  <tbody>\n",
       "    <tr>\n",
       "      <th rowspan=\"3\" valign=\"top\">0</th>\n",
       "      <th>Human Resources</th>\n",
       "      <td>39.627451</td>\n",
       "      <td>7345.980392</td>\n",
       "      <td>12.843137</td>\n",
       "      <td>7.960784</td>\n",
       "      <td>3.901961</td>\n",
       "      <td>2.000000</td>\n",
       "      <td>4.176471</td>\n",
       "      <td>7.588235</td>\n",
       "    </tr>\n",
       "    <tr>\n",
       "      <th>Research &amp; Development</th>\n",
       "      <td>37.615942</td>\n",
       "      <td>6630.326087</td>\n",
       "      <td>11.865942</td>\n",
       "      <td>7.171498</td>\n",
       "      <td>4.387681</td>\n",
       "      <td>2.179952</td>\n",
       "      <td>4.282609</td>\n",
       "      <td>8.964976</td>\n",
       "    </tr>\n",
       "    <tr>\n",
       "      <th>Sales</th>\n",
       "      <td>37.135593</td>\n",
       "      <td>7232.240113</td>\n",
       "      <td>11.714689</td>\n",
       "      <td>7.745763</td>\n",
       "      <td>4.793785</td>\n",
       "      <td>2.395480</td>\n",
       "      <td>4.593220</td>\n",
       "      <td>8.991525</td>\n",
       "    </tr>\n",
       "    <tr>\n",
       "      <th rowspan=\"3\" valign=\"top\">1</th>\n",
       "      <th>Human Resources</th>\n",
       "      <td>30.083333</td>\n",
       "      <td>3715.750000</td>\n",
       "      <td>6.083333</td>\n",
       "      <td>4.166667</td>\n",
       "      <td>2.000000</td>\n",
       "      <td>0.833333</td>\n",
       "      <td>1.500000</td>\n",
       "      <td>13.416667</td>\n",
       "    </tr>\n",
       "    <tr>\n",
       "      <th>Research &amp; Development</th>\n",
       "      <td>33.473684</td>\n",
       "      <td>4108.075188</td>\n",
       "      <td>8.082707</td>\n",
       "      <td>4.954887</td>\n",
       "      <td>2.706767</td>\n",
       "      <td>1.872180</td>\n",
       "      <td>2.849624</td>\n",
       "      <td>10.263158</td>\n",
       "    </tr>\n",
       "    <tr>\n",
       "      <th>Sales</th>\n",
       "      <td>34.260870</td>\n",
       "      <td>5908.456522</td>\n",
       "      <td>8.760870</td>\n",
       "      <td>5.510870</td>\n",
       "      <td>3.304348</td>\n",
       "      <td>2.195652</td>\n",
       "      <td>3.032609</td>\n",
       "      <td>10.804348</td>\n",
       "    </tr>\n",
       "  </tbody>\n",
       "</table>\n",
       "</div>"
      ],
      "text/plain": [
       "                                        Age  MonthlyIncome  TotalWorkingYears  \\\n",
       "Attrition Department                                                            \n",
       "0         Human Resources         39.627451    7345.980392          12.843137   \n",
       "          Research & Development  37.615942    6630.326087          11.865942   \n",
       "          Sales                   37.135593    7232.240113          11.714689   \n",
       "1         Human Resources         30.083333    3715.750000           6.083333   \n",
       "          Research & Development  33.473684    4108.075188           8.082707   \n",
       "          Sales                   34.260870    5908.456522           8.760870   \n",
       "\n",
       "                                  YearsAtCompany  YearsInCurrentRole  \\\n",
       "Attrition Department                                                   \n",
       "0         Human Resources               7.960784            3.901961   \n",
       "          Research & Development        7.171498            4.387681   \n",
       "          Sales                         7.745763            4.793785   \n",
       "1         Human Resources               4.166667            2.000000   \n",
       "          Research & Development        4.954887            2.706767   \n",
       "          Sales                         5.510870            3.304348   \n",
       "\n",
       "                                  YearsSinceLastPromotion  \\\n",
       "Attrition Department                                        \n",
       "0         Human Resources                        2.000000   \n",
       "          Research & Development                 2.179952   \n",
       "          Sales                                  2.395480   \n",
       "1         Human Resources                        0.833333   \n",
       "          Research & Development                 1.872180   \n",
       "          Sales                                  2.195652   \n",
       "\n",
       "                                  YearsWithCurrManager  DistanceFromHome  \n",
       "Attrition Department                                                      \n",
       "0         Human Resources                     4.176471          7.588235  \n",
       "          Research & Development              4.282609          8.964976  \n",
       "          Sales                               4.593220          8.991525  \n",
       "1         Human Resources                     1.500000         13.416667  \n",
       "          Research & Development              2.849624         10.263158  \n",
       "          Sales                               3.032609         10.804348  "
      ]
     },
     "execution_count": 158,
     "metadata": {},
     "output_type": "execute_result"
    }
   ],
   "source": [
    "#Conditioned on Attrition and department\n",
    "att[['Age','Attrition','Department','Gender','MaritalStatus','MonthlyIncome','TotalWorkingYears','YearsAtCompany','YearsInCurrentRole','YearsSinceLastPromotion','YearsWithCurrManager','DistanceFromHome']].groupby(['Attrition','Department']).mean()"
   ]
  },
  {
   "cell_type": "code",
   "execution_count": 159,
   "id": "5b268795",
   "metadata": {
    "colab": {
     "base_uri": "https://localhost:8080/",
     "height": 270
    },
    "id": "5b268795",
    "outputId": "bd21052d-383b-4c98-d221-6a4116821aba"
   },
   "outputs": [
    {
     "data": {
      "text/html": [
       "<div>\n",
       "<style scoped>\n",
       "    .dataframe tbody tr th:only-of-type {\n",
       "        vertical-align: middle;\n",
       "    }\n",
       "\n",
       "    .dataframe tbody tr th {\n",
       "        vertical-align: top;\n",
       "    }\n",
       "\n",
       "    .dataframe thead th {\n",
       "        text-align: right;\n",
       "    }\n",
       "</style>\n",
       "<table border=\"1\" class=\"dataframe\">\n",
       "  <thead>\n",
       "    <tr style=\"text-align: right;\">\n",
       "      <th></th>\n",
       "      <th></th>\n",
       "      <th>Age</th>\n",
       "      <th>MonthlyIncome</th>\n",
       "      <th>TotalWorkingYears</th>\n",
       "      <th>YearsAtCompany</th>\n",
       "      <th>YearsInCurrentRole</th>\n",
       "      <th>YearsSinceLastPromotion</th>\n",
       "      <th>YearsWithCurrManager</th>\n",
       "      <th>DistanceFromHome</th>\n",
       "    </tr>\n",
       "    <tr>\n",
       "      <th>Attrition</th>\n",
       "      <th>Gender</th>\n",
       "      <th></th>\n",
       "      <th></th>\n",
       "      <th></th>\n",
       "      <th></th>\n",
       "      <th></th>\n",
       "      <th></th>\n",
       "      <th></th>\n",
       "      <th></th>\n",
       "    </tr>\n",
       "  </thead>\n",
       "  <tbody>\n",
       "    <tr>\n",
       "      <th rowspan=\"2\" valign=\"top\">0</th>\n",
       "      <th>Female</th>\n",
       "      <td>38.155689</td>\n",
       "      <td>7019.429142</td>\n",
       "      <td>12.327345</td>\n",
       "      <td>7.459082</td>\n",
       "      <td>4.604790</td>\n",
       "      <td>2.339321</td>\n",
       "      <td>4.433134</td>\n",
       "      <td>8.914172</td>\n",
       "    </tr>\n",
       "    <tr>\n",
       "      <th>Male</th>\n",
       "      <td>37.154372</td>\n",
       "      <td>6704.964481</td>\n",
       "      <td>11.545082</td>\n",
       "      <td>7.307377</td>\n",
       "      <td>4.401639</td>\n",
       "      <td>2.162568</td>\n",
       "      <td>4.322404</td>\n",
       "      <td>8.916667</td>\n",
       "    </tr>\n",
       "    <tr>\n",
       "      <th rowspan=\"2\" valign=\"top\">1</th>\n",
       "      <th>Female</th>\n",
       "      <td>32.574713</td>\n",
       "      <td>4769.735632</td>\n",
       "      <td>8.264368</td>\n",
       "      <td>5.919540</td>\n",
       "      <td>3.310345</td>\n",
       "      <td>2.034483</td>\n",
       "      <td>3.241379</td>\n",
       "      <td>10.919540</td>\n",
       "    </tr>\n",
       "    <tr>\n",
       "      <th>Male</th>\n",
       "      <td>34.206667</td>\n",
       "      <td>4797.160000</td>\n",
       "      <td>8.233333</td>\n",
       "      <td>4.673333</td>\n",
       "      <td>2.666667</td>\n",
       "      <td>1.893333</td>\n",
       "      <td>2.626667</td>\n",
       "      <td>10.466667</td>\n",
       "    </tr>\n",
       "  </tbody>\n",
       "</table>\n",
       "</div>"
      ],
      "text/plain": [
       "                        Age  MonthlyIncome  TotalWorkingYears  YearsAtCompany  \\\n",
       "Attrition Gender                                                                \n",
       "0         Female  38.155689    7019.429142          12.327345        7.459082   \n",
       "          Male    37.154372    6704.964481          11.545082        7.307377   \n",
       "1         Female  32.574713    4769.735632           8.264368        5.919540   \n",
       "          Male    34.206667    4797.160000           8.233333        4.673333   \n",
       "\n",
       "                  YearsInCurrentRole  YearsSinceLastPromotion  \\\n",
       "Attrition Gender                                                \n",
       "0         Female            4.604790                 2.339321   \n",
       "          Male              4.401639                 2.162568   \n",
       "1         Female            3.310345                 2.034483   \n",
       "          Male              2.666667                 1.893333   \n",
       "\n",
       "                  YearsWithCurrManager  DistanceFromHome  \n",
       "Attrition Gender                                          \n",
       "0         Female              4.433134          8.914172  \n",
       "          Male                4.322404          8.916667  \n",
       "1         Female              3.241379         10.919540  \n",
       "          Male                2.626667         10.466667  "
      ]
     },
     "execution_count": 159,
     "metadata": {},
     "output_type": "execute_result"
    }
   ],
   "source": [
    "#Conditioned on Attrition and Gender\n",
    "att[['Age','Attrition','Department','Gender','MaritalStatus','MonthlyIncome','TotalWorkingYears','YearsAtCompany','YearsInCurrentRole','YearsSinceLastPromotion','YearsWithCurrManager','DistanceFromHome']].groupby(['Attrition','Gender']).mean()"
   ]
  },
  {
   "cell_type": "code",
   "execution_count": 160,
   "id": "40b66137",
   "metadata": {
    "colab": {
     "base_uri": "https://localhost:8080/",
     "height": 333
    },
    "id": "40b66137",
    "outputId": "aeb36ed0-eb87-4862-e1c8-3f640f0edbc4"
   },
   "outputs": [
    {
     "data": {
      "text/html": [
       "<div>\n",
       "<style scoped>\n",
       "    .dataframe tbody tr th:only-of-type {\n",
       "        vertical-align: middle;\n",
       "    }\n",
       "\n",
       "    .dataframe tbody tr th {\n",
       "        vertical-align: top;\n",
       "    }\n",
       "\n",
       "    .dataframe thead th {\n",
       "        text-align: right;\n",
       "    }\n",
       "</style>\n",
       "<table border=\"1\" class=\"dataframe\">\n",
       "  <thead>\n",
       "    <tr style=\"text-align: right;\">\n",
       "      <th></th>\n",
       "      <th></th>\n",
       "      <th>Age</th>\n",
       "      <th>MonthlyIncome</th>\n",
       "      <th>TotalWorkingYears</th>\n",
       "      <th>YearsAtCompany</th>\n",
       "      <th>YearsInCurrentRole</th>\n",
       "      <th>YearsSinceLastPromotion</th>\n",
       "      <th>YearsWithCurrManager</th>\n",
       "      <th>DistanceFromHome</th>\n",
       "    </tr>\n",
       "    <tr>\n",
       "      <th>Attrition</th>\n",
       "      <th>MaritalStatus</th>\n",
       "      <th></th>\n",
       "      <th></th>\n",
       "      <th></th>\n",
       "      <th></th>\n",
       "      <th></th>\n",
       "      <th></th>\n",
       "      <th></th>\n",
       "      <th></th>\n",
       "    </tr>\n",
       "  </thead>\n",
       "  <tbody>\n",
       "    <tr>\n",
       "      <th rowspan=\"3\" valign=\"top\">0</th>\n",
       "      <th>Divorced</th>\n",
       "      <td>37.704082</td>\n",
       "      <td>7071.455782</td>\n",
       "      <td>12.153061</td>\n",
       "      <td>7.693878</td>\n",
       "      <td>4.578231</td>\n",
       "      <td>2.238095</td>\n",
       "      <td>4.496599</td>\n",
       "      <td>8.925170</td>\n",
       "    </tr>\n",
       "    <tr>\n",
       "      <th>Married</th>\n",
       "      <td>38.076401</td>\n",
       "      <td>6969.779287</td>\n",
       "      <td>11.988115</td>\n",
       "      <td>7.412564</td>\n",
       "      <td>4.640068</td>\n",
       "      <td>2.359932</td>\n",
       "      <td>4.361630</td>\n",
       "      <td>9.222411</td>\n",
       "    </tr>\n",
       "    <tr>\n",
       "      <th>Single</th>\n",
       "      <td>36.574286</td>\n",
       "      <td>6401.600000</td>\n",
       "      <td>11.408571</td>\n",
       "      <td>7.022857</td>\n",
       "      <td>4.142857</td>\n",
       "      <td>2.020000</td>\n",
       "      <td>4.268571</td>\n",
       "      <td>8.391429</td>\n",
       "    </tr>\n",
       "    <tr>\n",
       "      <th rowspan=\"3\" valign=\"top\">1</th>\n",
       "      <th>Divorced</th>\n",
       "      <td>35.575758</td>\n",
       "      <td>4245.696970</td>\n",
       "      <td>8.727273</td>\n",
       "      <td>3.818182</td>\n",
       "      <td>2.363636</td>\n",
       "      <td>1.424242</td>\n",
       "      <td>1.727273</td>\n",
       "      <td>10.757576</td>\n",
       "    </tr>\n",
       "    <tr>\n",
       "      <th>Married</th>\n",
       "      <td>35.523810</td>\n",
       "      <td>5558.821429</td>\n",
       "      <td>9.940476</td>\n",
       "      <td>6.571429</td>\n",
       "      <td>3.416667</td>\n",
       "      <td>2.500000</td>\n",
       "      <td>3.476190</td>\n",
       "      <td>11.119048</td>\n",
       "    </tr>\n",
       "    <tr>\n",
       "      <th>Single</th>\n",
       "      <td>31.725000</td>\n",
       "      <td>4395.766667</td>\n",
       "      <td>6.925000</td>\n",
       "      <td>4.483333</td>\n",
       "      <td>2.691667</td>\n",
       "      <td>1.700000</td>\n",
       "      <td>2.725000</td>\n",
       "      <td>10.258333</td>\n",
       "    </tr>\n",
       "  </tbody>\n",
       "</table>\n",
       "</div>"
      ],
      "text/plain": [
       "                               Age  MonthlyIncome  TotalWorkingYears  \\\n",
       "Attrition MaritalStatus                                                \n",
       "0         Divorced       37.704082    7071.455782          12.153061   \n",
       "          Married        38.076401    6969.779287          11.988115   \n",
       "          Single         36.574286    6401.600000          11.408571   \n",
       "1         Divorced       35.575758    4245.696970           8.727273   \n",
       "          Married        35.523810    5558.821429           9.940476   \n",
       "          Single         31.725000    4395.766667           6.925000   \n",
       "\n",
       "                         YearsAtCompany  YearsInCurrentRole  \\\n",
       "Attrition MaritalStatus                                       \n",
       "0         Divorced             7.693878            4.578231   \n",
       "          Married              7.412564            4.640068   \n",
       "          Single               7.022857            4.142857   \n",
       "1         Divorced             3.818182            2.363636   \n",
       "          Married              6.571429            3.416667   \n",
       "          Single               4.483333            2.691667   \n",
       "\n",
       "                         YearsSinceLastPromotion  YearsWithCurrManager  \\\n",
       "Attrition MaritalStatus                                                  \n",
       "0         Divorced                      2.238095              4.496599   \n",
       "          Married                       2.359932              4.361630   \n",
       "          Single                        2.020000              4.268571   \n",
       "1         Divorced                      1.424242              1.727273   \n",
       "          Married                       2.500000              3.476190   \n",
       "          Single                        1.700000              2.725000   \n",
       "\n",
       "                         DistanceFromHome  \n",
       "Attrition MaritalStatus                    \n",
       "0         Divorced               8.925170  \n",
       "          Married                9.222411  \n",
       "          Single                 8.391429  \n",
       "1         Divorced              10.757576  \n",
       "          Married               11.119048  \n",
       "          Single                10.258333  "
      ]
     },
     "execution_count": 160,
     "metadata": {},
     "output_type": "execute_result"
    }
   ],
   "source": [
    "#Conditioned on Attrition and Marital Status\n",
    "\n",
    "att[['Age','Attrition','Department','Gender','MaritalStatus','MonthlyIncome','TotalWorkingYears','YearsAtCompany','YearsInCurrentRole','YearsSinceLastPromotion','YearsWithCurrManager','DistanceFromHome']].groupby(['Attrition','MaritalStatus']).mean()"
   ]
  },
  {
   "cell_type": "code",
   "execution_count": null,
   "id": "bd05ebca",
   "metadata": {},
   "outputs": [],
   "source": []
  }
 ],
 "metadata": {
  "colab": {
   "collapsed_sections": [],
   "provenance": []
  },
  "kernelspec": {
   "display_name": "Python 3 (ipykernel)",
   "language": "python",
   "name": "python3"
  },
  "language_info": {
   "codemirror_mode": {
    "name": "ipython",
    "version": 3
   },
   "file_extension": ".py",
   "mimetype": "text/x-python",
   "name": "python",
   "nbconvert_exporter": "python",
   "pygments_lexer": "ipython3",
   "version": "3.9.7"
  }
 },
 "nbformat": 4,
 "nbformat_minor": 5
}
